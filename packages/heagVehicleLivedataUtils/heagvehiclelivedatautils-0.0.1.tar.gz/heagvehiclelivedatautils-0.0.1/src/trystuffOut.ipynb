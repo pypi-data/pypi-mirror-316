{
 "cells": [
  {
   "cell_type": "code",
   "execution_count": 2,
   "metadata": {
    "ExecuteTime": {
     "end_time": "2024-11-01T11:44:53.974045Z",
     "start_time": "2024-11-01T11:44:53.327646Z"
    }
   },
   "outputs": [
    {
     "name": "stdout",
     "output_type": "stream",
     "text": [
      "2024-11-01T12:44:48+0100\n"
     ]
    }
   ],
   "source": [
    "import pandas as pd\n",
    "from pandas import Timestamp\n",
    "\n",
    "vehicle_data = heagAPI.getCurrentVehicleData()\n",
    "print(vehicle_data[\"timestamp\"])\n",
    "\n",
    "stations_data = heagAPI.getStationData()"
   ]
  },
  {
   "cell_type": "code",
   "execution_count": 9,
   "metadata": {
    "ExecuteTime": {
     "end_time": "2024-11-01T12:03:43.868459Z",
     "start_time": "2024-11-01T12:03:43.859243Z"
    }
   },
   "outputs": [],
   "source": [
    "def getLatLong(station):\n",
    "    return (station[\"latitude\"], station[\"longitude\"])"
   ]
  },
  {
   "cell_type": "code",
   "execution_count": 6,
   "metadata": {
    "ExecuteTime": {
     "end_time": "2024-11-01T12:03:17.931583Z",
     "start_time": "2024-11-01T12:03:17.921340Z"
    }
   },
   "outputs": [],
   "source": [
    "#filter out station far away from Darmstadt. way more performant -> uses distance attribute\n",
    "max_distance = 20000 #in meters\n",
    "stations_data_filtered = [station for station in stations_data if station[\"distance\"] < max_distance]"
   ]
  },
  {
   "cell_type": "code",
   "execution_count": 7,
   "metadata": {
    "ExecuteTime": {
     "end_time": "2024-11-01T12:03:26.803193Z",
     "start_time": "2024-11-01T12:03:26.787880Z"
    }
   },
   "outputs": [],
   "source": [
    "def findClosestStation(location,stations):\n",
    "    closest_station = None\n",
    "    min_distance = float('inf')\n",
    "    # assumes that stations_datat is sorted by distance\n",
    "    distance_from_center = geodesic(location, getLatLong(stations_data[0])).meters\n",
    "    distance_band_width = 3000\n",
    "\n",
    "    for station in stations:\n",
    "        if abs(distance_from_center - station[\"distance\"]) < distance_band_width:\n",
    "            distance = geodesic(location, getLatLong(station)).meters\n",
    "            if distance < min_distance:\n",
    "                min_distance = distance\n",
    "                closest_station = station\n",
    "    \n",
    "    return closest_station"
   ]
  },
  {
   "cell_type": "markdown",
   "metadata": {},
   "source": [
    "# What Tinas are in use"
   ]
  },
  {
   "cell_type": "code",
   "execution_count": 3,
   "metadata": {
    "ExecuteTime": {
     "end_time": "2024-11-01T12:02:52.070060Z",
     "start_time": "2024-11-01T12:02:52.049878Z"
    }
   },
   "outputs": [],
   "source": [
    "from heagVehicleLivedataUtils_sar23b.vehicleDataUtils import countTramsByLineAndClass\n",
    "from heagVehicleLivedataUtils_sar23b.vehicleInformation import tram_class_prefix, modern_tram_numbers\n"
   ]
  },
  {
   "cell_type": "code",
   "execution_count": 4,
   "metadata": {
    "ExecuteTime": {
     "end_time": "2024-11-01T12:02:56.119093Z",
     "start_time": "2024-11-01T12:02:56.107043Z"
    }
   },
   "outputs": [],
   "source": [
    "# for compatibility after reworking vehicleUtils\n",
    "def tramBaureihenPrefix(tram):\n",
    "    return int(tram_class_prefix(tram))\n",
    "\n",
    "def get_trams_by_line_and_class(trams):\n",
    "    return countTramsByLineAndClass(trams)"
   ]
  },
  {
   "cell_type": "code",
   "execution_count": 10,
   "metadata": {
    "ExecuteTime": {
     "end_time": "2024-11-01T12:03:52.830322Z",
     "start_time": "2024-11-01T12:03:51.641685Z"
    }
   },
   "outputs": [
    {
     "name": "stdout",
     "output_type": "stream",
     "text": [
      "Tina 22102 on line 6 towards \"Arheilgen Dreieichweg\" near \"Darmstadt-Eberstadt Frankenstein Haltest. Linie 7\"\n",
      "Tina 22104 on line 5 towards \"Kranichstein Bahnhof\" near \"Darmstadt-Kranichstein Gruberstraße\"\n",
      "Tina 22106 on line 6 towards \"Alsbach Am Hinkelstein\" near \"Darmstadt-Eberstadt Frankenstein\"\n",
      "Tina 22107 on line 9 towards \"Griesheim Platz Bar-le-Duc\" near \"Darmstadt Luisenplatz\"\n",
      "Tina 22109 on line 6 towards \"Arheilgen Dreieichweg\" near \"Darmstadt Luisenplatz\"\n",
      "Tina 22110 on line 6 towards \"Alsbach Am Hinkelstein\" near \"Darmstadt-Arheilgen Dreieichweg\"\n",
      "Tina 22111 on line 9 towards \"Darmstadt Böllenfalltor\" near \"Darmstadt TZ Rhein Main\"\n",
      "Tina 22113 on line 6 towards \"Alsbach Am Hinkelstein\" near \"Darmstadt Pallaswiesenstraße\"\n",
      "Tina 22114 on line 6 towards \"Arheilgen Dreieichweg\" near \"Darmstadt-Eberstadt Friedrich-Ebert-Straße\"\n",
      "Tina 22115 on line 6 towards \"Alsbach Am Hinkelstein\" near \"Seeheim-Jugenheim-Seeheim Im Güldenen Wingert\"\n",
      "Tina 22116 on line 6 towards \"Alsbach Am Hinkelstein\" near \"Alsbach-Hähnlein-Alsbach Beuneweg\"\n"
     ]
    }
   ],
   "source": [
    "#find the Tinas in use\n",
    "tinas = [vehicle for vehicle in vehicle_data[\"vehicles\"] if vehicle[\"category\"]==1 and vehicle[\"vehicleId\"] >= 100 and vehicle[\"vehicleId\"] <= 125 ]\n",
    "\n",
    "tinas.sort(key=lambda vehicle: vehicle[\"vehicleId\"])\n",
    "\n",
    "for tina in tinas:\n",
    "    print(f'Tina 22{tina[\"vehicleId\"]} on line {tina[\"lineId\"]} towards \\\"{tina[\"direction\"]}\\\" near \\\"{findClosestStation(getLatLong(tina),stations_data_filtered)[\"name\"]}\\\"')"
   ]
  },
  {
   "cell_type": "code",
   "execution_count": 77,
   "metadata": {},
   "outputs": [
    {
     "name": "stdout",
     "output_type": "stream",
     "text": [
      "number of trams in use: 33\n",
      "Tram  9867 on line 3 towards \"Darmstadt Hauptbahnhof\" near \"Darmstadt Willy-Brandt-Platz\"\n",
      "Tram  9871 on line 3 towards \"Darmstadt Hauptbahnhof\" near \"Darmstadt Goethestraße\"\n",
      "Tram  0792 on line 3 towards \"Darmstadt Lichtenbergschule\" near \"Darmstadt Weinbergstraße\"\n",
      "Tram  0786 on line 3 towards \"Darmstadt Lichtenbergschule\" near \"Darmstadt Schulstraße\"\n",
      "Tram  9858 on line 3 towards \"Darmstadt Lichtenbergschule\" near \"Darmstadt Hauptbahnhof\"\n",
      "Tram  0787 on line 4 towards \"Kranichstein Bahnhof\" near \"Darmstadt Berliner Allee\"\n",
      "Tram  9873 on line 4 towards \"Kranichstein Bahnhof\" near \"Darmstadt Rhönring\"\n",
      "Tram  0788 on line 4 towards \"Darmstadt Hauptbahnhof\" near \"Darmstadt Willy-Brandt-Platz\"\n",
      "Tram  9869 on line 4 towards \"Darmstadt Hauptbahnhof\" near \"Darmstadt-Kranichstein Bahnhof\"\n",
      "Tram  0789 on line 4 towards \"Darmstadt Hauptbahnhof\" near \"Darmstadt-Kranichstein Bahnhof\"\n",
      "Tram  9860 on line 4 towards \"Darmstadt Hauptbahnhof\" near \"Darmstadt-Kranichstein Borsdorffstraße\"\n",
      "Tram  9859 on line 6 towards \"Alsbach Am Hinkelstein\" near \"Darmstadt-Arheilgen Kolpingweg\"\n",
      "Tram 22108 on line 6 towards \"Alsbach Am Hinkelstein\" near \"Darmstadt Rhein-/Neckarstraße\"\n",
      "Tram 22109 on line 6 towards \"Alsbach Am Hinkelstein\" near \"Darmstadt-Eberstadt Mittelschneise\"\n",
      "Tram 22101 on line 6 towards \"Arheilgen Dreieichweg\" near \"Darmstadt Willy-Brandt-Platz\"\n",
      "Tram  0785 on line 6 towards \"Arheilgen Dreieichweg\" near \"Alsbach-Hähnlein-Alsbach Am Hinkelstein\"\n",
      "Tram  0778 on line 6 towards \"Arheilgen Dreieichweg\" near \"Darmstadt-Eberstadt Kirche\"\n",
      "Tram 22111 on line 8 towards \"Eberstadt Frankenstein\" near \"Darmstadt Nordbahnhof\"\n",
      "Tram  0777 on line 8 towards \"Eberstadt Frankenstein\" near \"Darmstadt Bessunger Straße\"\n",
      "Tram  9862 on line 8 towards \"Arheilgen Dreieichweg\" near \"Darmstadt-Arheilgen Löwenplatz\"\n",
      "Tram  9855 on line 8 towards \"Arheilgen Dreieichweg\" near \"Darmstadt Prinz-Emil-Garten\"\n",
      "Tram  9874 on line 8 towards \"Arheilgen Dreieichweg\" near \"Darmstadt-Eberstadt Frankenstein\"\n",
      "Tram  0782 on line 9 towards \"Griesheim Platz Bar-le-Duc\" near \"Darmstadt Böllenfalltor\"\n",
      "Tram  9856 on line 9 towards \"Griesheim Platz Bar-le-Duc\" near \"Darmstadt Berliner Allee\"\n",
      "Tram  9868 on line 9 towards \"Griesheim Platz Bar-le-Duc\" near \"Darmstadt Holzstraße\"\n",
      "Tram  9870 on line 9 towards \"Griesheim Platz Bar-le-Duc\" near \"Griesheim Platz Bar-le-Duc\"\n",
      "Tram  9116 on line 9 towards \"Darmstadt Böllenfalltor\" near \"Griesheim Sankt Stephan\"\n",
      "Tram  0779 on line 9 towards \"Darmstadt Böllenfalltor\" near \"Darmstadt Herdweg\"\n",
      "Tram  9861 on line 9 towards \"Darmstadt Böllenfalltor\" near \"Griesheim Platz Bar-le-Duc\"\n",
      "Tram  0790 on line 9 towards \"Darmstadt Böllenfalltor\" near \"Darmstadt Rhein-/Neckarstraße\"\n",
      "Tram 22104 on line SV98 towards \"Darmstadt Hauptbahnhof\" near \"Darmstadt Jahnstraße\"\n",
      "Tram 22106 on line SV98 towards \"Griesheim Wagenhalle\" near \"Darmstadt Böllenfalltor\"\n",
      "Tram 22107 on line SV98 towards \"Darmstadt Hauptbahnhof\" near \"Darmstadt Schloss\"\n"
     ]
    }
   ],
   "source": [
    "trams = [vehicle for vehicle in vehicle_data[\"vehicles\"] if vehicle[\"category\"]==1]\n",
    "\n",
    "trams.sort(key=lambda vehicle: vehicle[\"lineId\"])\n",
    "print(f'number of trams in use: {len(trams)}')\n",
    "for tram in trams:\n",
    "    # TODO: fix this to use vehicleUtils\n",
    "    tramIdPrefixNumerical = tramBaureihenPrefix(tram)\n",
    "    if tramIdPrefixNumerical > 22 :\n",
    "        tramIdPrefix = ' ' + str(tramIdPrefixNumerical)\n",
    "    elif tramIdPrefixNumerical == 22:\n",
    "        tramIdPrefix = '22'\n",
    "    elif tramIdPrefixNumerical == 7:\n",
    "        tramIdPrefix = ' 07'\n",
    "    else:\n",
    "        tramIdPrefix = '  '\n",
    "\n",
    "    print('Tram ' + tramIdPrefix + f'{tram[\"vehicleId\"]} on line {tram[\"lineId\"]} towards \\\"{tram[\"direction\"]}\\\" near \\\"{findClosestStation(getLatLong(tram),stations_data_filtered)[\"name\"]}\\\"')"
   ]
  },
  {
   "cell_type": "code",
   "execution_count": 36,
   "metadata": {},
   "outputs": [
    {
     "name": "stdout",
     "output_type": "stream",
     "text": [
      "number of high floor trams on eberstadt brach 0/19\n"
     ]
    }
   ],
   "source": [
    "trams = [vehicle for vehicle in vehicle_data[\"vehicles\"] if vehicle[\"category\"]==1]\n",
    "\n",
    "trams_northSouth = [tram for tram in trams if (int(tram[\"lineId\"]) >= 6 and int(tram[\"lineId\"]) <= 8) or int(tram[\"lineId\"]) == 1]\n",
    "trams_northSouth_highFloor = [tram for tram in trams_northSouth if tram[\"vehicleId\"] >= 15 and tram[\"vehicleId\"] < 25]\n",
    "\n",
    "print(f\"number of high floor trams on eberstadt brach {len(trams_northSouth_highFloor)}/{len(trams_northSouth)}\")"
   ]
  },
  {
   "cell_type": "code",
   "execution_count": 11,
   "metadata": {
    "ExecuteTime": {
     "end_time": "2024-11-01T12:04:09.121518Z",
     "start_time": "2024-11-01T12:04:09.104184Z"
    }
   },
   "outputs": [
    {
     "name": "stdout",
     "output_type": "stream",
     "text": [
      "3 on line 1 Distribution: [0, 0, 3, 0, 0]\n",
      "4 on line 2 Distribution: [0, 3, 1, 0, 0]\n",
      "4 on line 3 Distribution: [0, 2, 2, 0, 0]\n",
      "4 on line 4 Distribution: [0, 3, 1, 0, 0]\n",
      "6 on line 5 Distribution: [1, 1, 2, 2, 0]\n",
      "11 on line 6 Distribution: [8, 0, 1, 2, 0]\n",
      "4 on line 7 Distribution: [0, 1, 3, 0, 0]\n",
      "0 on line 8 Distribution: [0, 0, 0, 0, 0]\n",
      "4 on line 9 Distribution: [2, 0, 1, 1, 0]\n",
      "0 on line 10 Distribution: [0, 0, 0, 0, 0]\n",
      "Distribution: [ST15, ST14, ST13, ST12, other]\n",
      "Total: 40 Distribution: [11, 10, 14, 5, 0]\n"
     ]
    }
   ],
   "source": [
    "trams = [vehicle for vehicle in vehicle_data[\"vehicles\"] if vehicle[\"category\"]==1]\n",
    "\n",
    "tramsOnLine_byClass = get_trams_by_line_and_class(trams)\n",
    "\n",
    "for line in range(len(tramsOnLine_byClass)):\n",
    "    print(f\"{sum(tramsOnLine_byClass[line])} on line {line + 1} Distribution: {tramsOnLine_byClass[line]}\")\n",
    "\n",
    "print(\"Distribution: [ST15, ST14, ST13, ST12, other]\")\n",
    "print(f\"Total: {len(trams)} Distribution: {[sum([tramsByClass[tramClass] for tramsByClass in tramsOnLine_byClass]) for tramClass in range(5)]}\")"
   ]
  },
  {
   "cell_type": "markdown",
   "metadata": {},
   "source": [
    "# Test stuff out"
   ]
  },
  {
   "cell_type": "code",
   "metadata": {
    "ExecuteTime": {
     "end_time": "2024-12-16T22:27:12.120525Z",
     "start_time": "2024-12-16T22:27:11.058264Z"
    }
   },
   "source": [
    "import heagVehicleLivedataUtils.apiUtils as heagAPI\n",
    "vehicle_data = heagAPI.get_current_vehicle_data_as_dataframe()"
   ],
   "outputs": [],
   "execution_count": 1
  },
  {
   "cell_type": "code",
   "metadata": {
    "ExecuteTime": {
     "end_time": "2024-12-16T22:27:25.966488Z",
     "start_time": "2024-12-16T22:27:25.921650Z"
    }
   },
   "source": [
    "vehicle_data[vehicle_data['status'] != 1]"
   ],
   "outputs": [
    {
     "data": {
      "text/plain": [
       "                                      lineid  category  \\\n",
       "time                      vehicleid                      \n",
       "2024-12-16 23:27:21+01:00 682          31064         5   \n",
       "                          422          10082         5   \n",
       "                          660        5076545         5   \n",
       "                          673        5076545         5   \n",
       "                          437        5729345         5   \n",
       "\n",
       "                                                    direction  status  \\\n",
       "time                      vehicleid                                     \n",
       "2024-12-16 23:27:21+01:00 682        Ueberau Karl-Marx-Straße       4   \n",
       "                          422           Darmstadt Nordbahnhof       4   \n",
       "                          660           Ober-Ramstadt Rondell       4   \n",
       "                          673           Ober-Ramstadt Rondell       4   \n",
       "                          437               Darmstadt Schloss       4   \n",
       "\n",
       "                                      latitude  longitude  bearing  type  \n",
       "time                      vehicleid                                       \n",
       "2024-12-16 23:27:21+01:00 682        49.871407   8.638993      180     1  \n",
       "                          422        49.852925   8.667747      315     1  \n",
       "                          660        49.800698   8.765252       45     1  \n",
       "                          673        49.819053   8.761853       90     1  \n",
       "                          437        49.930979   8.594423       45     1  "
      ],
      "text/html": [
       "<div>\n",
       "<style scoped>\n",
       "    .dataframe tbody tr th:only-of-type {\n",
       "        vertical-align: middle;\n",
       "    }\n",
       "\n",
       "    .dataframe tbody tr th {\n",
       "        vertical-align: top;\n",
       "    }\n",
       "\n",
       "    .dataframe thead th {\n",
       "        text-align: right;\n",
       "    }\n",
       "</style>\n",
       "<table border=\"1\" class=\"dataframe\">\n",
       "  <thead>\n",
       "    <tr style=\"text-align: right;\">\n",
       "      <th></th>\n",
       "      <th></th>\n",
       "      <th>lineid</th>\n",
       "      <th>category</th>\n",
       "      <th>direction</th>\n",
       "      <th>status</th>\n",
       "      <th>latitude</th>\n",
       "      <th>longitude</th>\n",
       "      <th>bearing</th>\n",
       "      <th>type</th>\n",
       "    </tr>\n",
       "    <tr>\n",
       "      <th>time</th>\n",
       "      <th>vehicleid</th>\n",
       "      <th></th>\n",
       "      <th></th>\n",
       "      <th></th>\n",
       "      <th></th>\n",
       "      <th></th>\n",
       "      <th></th>\n",
       "      <th></th>\n",
       "      <th></th>\n",
       "    </tr>\n",
       "  </thead>\n",
       "  <tbody>\n",
       "    <tr>\n",
       "      <th rowspan=\"5\" valign=\"top\">2024-12-16 23:27:21+01:00</th>\n",
       "      <th>682</th>\n",
       "      <td>31064</td>\n",
       "      <td>5</td>\n",
       "      <td>Ueberau Karl-Marx-Straße</td>\n",
       "      <td>4</td>\n",
       "      <td>49.871407</td>\n",
       "      <td>8.638993</td>\n",
       "      <td>180</td>\n",
       "      <td>1</td>\n",
       "    </tr>\n",
       "    <tr>\n",
       "      <th>422</th>\n",
       "      <td>10082</td>\n",
       "      <td>5</td>\n",
       "      <td>Darmstadt Nordbahnhof</td>\n",
       "      <td>4</td>\n",
       "      <td>49.852925</td>\n",
       "      <td>8.667747</td>\n",
       "      <td>315</td>\n",
       "      <td>1</td>\n",
       "    </tr>\n",
       "    <tr>\n",
       "      <th>660</th>\n",
       "      <td>5076545</td>\n",
       "      <td>5</td>\n",
       "      <td>Ober-Ramstadt Rondell</td>\n",
       "      <td>4</td>\n",
       "      <td>49.800698</td>\n",
       "      <td>8.765252</td>\n",
       "      <td>45</td>\n",
       "      <td>1</td>\n",
       "    </tr>\n",
       "    <tr>\n",
       "      <th>673</th>\n",
       "      <td>5076545</td>\n",
       "      <td>5</td>\n",
       "      <td>Ober-Ramstadt Rondell</td>\n",
       "      <td>4</td>\n",
       "      <td>49.819053</td>\n",
       "      <td>8.761853</td>\n",
       "      <td>90</td>\n",
       "      <td>1</td>\n",
       "    </tr>\n",
       "    <tr>\n",
       "      <th>437</th>\n",
       "      <td>5729345</td>\n",
       "      <td>5</td>\n",
       "      <td>Darmstadt Schloss</td>\n",
       "      <td>4</td>\n",
       "      <td>49.930979</td>\n",
       "      <td>8.594423</td>\n",
       "      <td>45</td>\n",
       "      <td>1</td>\n",
       "    </tr>\n",
       "  </tbody>\n",
       "</table>\n",
       "</div>"
      ]
     },
     "execution_count": 3,
     "metadata": {},
     "output_type": "execute_result"
    }
   ],
   "execution_count": 3
  },
  {
   "metadata": {
    "ExecuteTime": {
     "end_time": "2024-12-07T16:56:47.427335Z",
     "start_time": "2024-12-07T16:56:47.344115Z"
    }
   },
   "cell_type": "code",
   "source": [
    "import heagVehicleLivedataUtils.apiUtils as heagAPI\n",
    "import pandas as pd\n",
    "df = heagAPI.get_current_vehicle_data_as_dataframe()"
   ],
   "outputs": [],
   "execution_count": 17
  },
  {
   "metadata": {
    "ExecuteTime": {
     "end_time": "2024-12-16T22:30:01.087619Z",
     "start_time": "2024-12-16T22:30:01.058675Z"
    }
   },
   "cell_type": "code",
   "source": "vehicle_data",
   "outputs": [
    {
     "data": {
      "text/plain": [
       "                                      lineid  category  \\\n",
       "time                      vehicleid                      \n",
       "2024-12-16 23:27:21+01:00 378        5729346         5   \n",
       "                          60               3         1   \n",
       "                          62               5         1   \n",
       "                          59               5         1   \n",
       "                          85               5         1   \n",
       "\n",
       "                                                        direction  status  \\\n",
       "time                      vehicleid                                         \n",
       "2024-12-16 23:27:21+01:00 378        Worfelden Siedlung Hesselrod       1   \n",
       "                          60               Darmstadt Hauptbahnhof       1   \n",
       "                          62              Darmstadt Böllenfalltor       1   \n",
       "                          59              Darmstadt Böllenfalltor       1   \n",
       "                          85              Darmstadt Böllenfalltor       1   \n",
       "\n",
       "                                      latitude  longitude  bearing  type  \n",
       "time                      vehicleid                                       \n",
       "2024-12-16 23:27:21+01:00 378        49.886116   8.634821      319     1  \n",
       "                          60         49.869207   8.656354       32     1  \n",
       "                          62         49.852471   8.670286      229     1  \n",
       "                          59         49.852471   8.670286      229     1  \n",
       "                          85         49.852471   8.670286      229     1  "
      ],
      "text/html": [
       "<div>\n",
       "<style scoped>\n",
       "    .dataframe tbody tr th:only-of-type {\n",
       "        vertical-align: middle;\n",
       "    }\n",
       "\n",
       "    .dataframe tbody tr th {\n",
       "        vertical-align: top;\n",
       "    }\n",
       "\n",
       "    .dataframe thead th {\n",
       "        text-align: right;\n",
       "    }\n",
       "</style>\n",
       "<table border=\"1\" class=\"dataframe\">\n",
       "  <thead>\n",
       "    <tr style=\"text-align: right;\">\n",
       "      <th></th>\n",
       "      <th></th>\n",
       "      <th>lineid</th>\n",
       "      <th>category</th>\n",
       "      <th>direction</th>\n",
       "      <th>status</th>\n",
       "      <th>latitude</th>\n",
       "      <th>longitude</th>\n",
       "      <th>bearing</th>\n",
       "      <th>type</th>\n",
       "    </tr>\n",
       "    <tr>\n",
       "      <th>time</th>\n",
       "      <th>vehicleid</th>\n",
       "      <th></th>\n",
       "      <th></th>\n",
       "      <th></th>\n",
       "      <th></th>\n",
       "      <th></th>\n",
       "      <th></th>\n",
       "      <th></th>\n",
       "      <th></th>\n",
       "    </tr>\n",
       "  </thead>\n",
       "  <tbody>\n",
       "    <tr>\n",
       "      <th rowspan=\"5\" valign=\"top\">2024-12-16 23:27:21+01:00</th>\n",
       "      <th>378</th>\n",
       "      <td>5729346</td>\n",
       "      <td>5</td>\n",
       "      <td>Worfelden Siedlung Hesselrod</td>\n",
       "      <td>1</td>\n",
       "      <td>49.886116</td>\n",
       "      <td>8.634821</td>\n",
       "      <td>319</td>\n",
       "      <td>1</td>\n",
       "    </tr>\n",
       "    <tr>\n",
       "      <th>60</th>\n",
       "      <td>3</td>\n",
       "      <td>1</td>\n",
       "      <td>Darmstadt Hauptbahnhof</td>\n",
       "      <td>1</td>\n",
       "      <td>49.869207</td>\n",
       "      <td>8.656354</td>\n",
       "      <td>32</td>\n",
       "      <td>1</td>\n",
       "    </tr>\n",
       "    <tr>\n",
       "      <th>62</th>\n",
       "      <td>5</td>\n",
       "      <td>1</td>\n",
       "      <td>Darmstadt Böllenfalltor</td>\n",
       "      <td>1</td>\n",
       "      <td>49.852471</td>\n",
       "      <td>8.670286</td>\n",
       "      <td>229</td>\n",
       "      <td>1</td>\n",
       "    </tr>\n",
       "    <tr>\n",
       "      <th>59</th>\n",
       "      <td>5</td>\n",
       "      <td>1</td>\n",
       "      <td>Darmstadt Böllenfalltor</td>\n",
       "      <td>1</td>\n",
       "      <td>49.852471</td>\n",
       "      <td>8.670286</td>\n",
       "      <td>229</td>\n",
       "      <td>1</td>\n",
       "    </tr>\n",
       "    <tr>\n",
       "      <th>85</th>\n",
       "      <td>5</td>\n",
       "      <td>1</td>\n",
       "      <td>Darmstadt Böllenfalltor</td>\n",
       "      <td>1</td>\n",
       "      <td>49.852471</td>\n",
       "      <td>8.670286</td>\n",
       "      <td>229</td>\n",
       "      <td>1</td>\n",
       "    </tr>\n",
       "  </tbody>\n",
       "</table>\n",
       "</div>"
      ]
     },
     "execution_count": 13,
     "metadata": {},
     "output_type": "execute_result"
    }
   ],
   "execution_count": 13
  }
 ],
 "metadata": {
  "kernelspec": {
   "display_name": ".venv",
   "language": "python",
   "name": "python3"
  },
  "language_info": {
   "codemirror_mode": {
    "name": "ipython",
    "version": 3
   },
   "file_extension": ".py",
   "mimetype": "text/x-python",
   "name": "python",
   "nbconvert_exporter": "python",
   "pygments_lexer": "ipython3",
   "version": "3.11.10"
  },
  "orig_nbformat": 4
 },
 "nbformat": 4,
 "nbformat_minor": 2
}

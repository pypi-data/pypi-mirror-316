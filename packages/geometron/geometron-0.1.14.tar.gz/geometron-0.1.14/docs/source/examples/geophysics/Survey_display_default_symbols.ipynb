{
 "cells": [
  {
   "cell_type": "markdown",
   "id": "d56db611-251f-48d1-b892-646704862e24",
   "metadata": {},
   "source": [
    "# Import and display symbols used for reporting field work\n",
    "O. Kaufmann, 2022."
   ]
  },
  {
   "cell_type": "code",
   "execution_count": 4,
   "id": "2a32e4fa-ca6c-4a8f-99cb-dd0f07bdab6d",
   "metadata": {},
   "outputs": [],
   "source": [
    "import matplotlib.pyplot as plt\n",
    "from geometron.plot import symbols"
   ]
  },
  {
   "cell_type": "code",
   "execution_count": 5,
   "id": "a6bb131e-cf6f-42fd-992a-9c97998c673e",
   "metadata": {
    "tags": []
   },
   "outputs": [
    {
     "data": {
      "text/plain": [
       "{'marker': Path(array([[-6.24790884,  7.01052446],\n",
       "        [ 6.33508116, -5.57246554],\n",
       "        [ 6.33508116, -5.57246554],\n",
       "        [ 6.33508116, -5.57246554],\n",
       "        [ 6.33508116,  7.01052446],\n",
       "        [-6.24790884, -5.57246454],\n",
       "        [-6.24790884, -5.57246454],\n",
       "        [-6.24790884, -5.57246454],\n",
       "        [-1.48190354,  0.71902746],\n",
       "        [-1.48190354,  0.71902746],\n",
       "        [-1.48190354,  0.31459787],\n",
       "        [-1.32107315, -0.07368104],\n",
       "        [-1.03509824, -0.35965595],\n",
       "        [-0.74912334, -0.64563085],\n",
       "        [-0.36084443, -0.80646124],\n",
       "        [ 0.04358516, -0.80646124],\n",
       "        [ 0.44801475, -0.80646124],\n",
       "        [ 0.83629366, -0.64563085],\n",
       "        [ 1.12226857, -0.35965595],\n",
       "        [ 1.40824347, -0.07368104],\n",
       "        [ 1.56907386,  0.31459787],\n",
       "        [ 1.56907386,  0.71902746],\n",
       "        [ 1.56907386,  0.71902746],\n",
       "        [ 1.56907386,  1.12345705],\n",
       "        [ 1.40824347,  1.51173596],\n",
       "        [ 1.12226857,  1.79771086],\n",
       "        [ 0.83629366,  2.08368577],\n",
       "        [ 0.44801475,  2.24451616],\n",
       "        [ 0.04358516,  2.24451616],\n",
       "        [-0.36084443,  2.24451616],\n",
       "        [-0.74912334,  2.08368577],\n",
       "        [-1.03509824,  1.79771086],\n",
       "        [-1.32107315,  1.51173596],\n",
       "        [-1.48190354,  1.12345705],\n",
       "        [-1.48190354,  0.71902746]]), array([1, 4, 4, 4, 1, 4, 4, 4, 1, 2, 4, 4, 4, 4, 4, 4, 4, 4, 4, 4, 4, 4,\n",
       "        2, 4, 4, 4, 4, 4, 4, 4, 4, 4, 4, 4, 4], dtype=uint8)),\n",
       " 'alpha': 1.0,\n",
       " 'markerfacecolor': 'none',\n",
       " 'markeredgecolor': 'black',\n",
       " 'markersize': 8}"
      ]
     },
     "execution_count": 5,
     "metadata": {},
     "output_type": "execute_result"
    }
   ],
   "source": [
    "symbols['stake']"
   ]
  },
  {
   "cell_type": "code",
   "execution_count": 6,
   "id": "a3859286",
   "metadata": {
    "nbsphinx-thumbnail": {
     "tooltip": "This tooltip message was defined in cell metadata"
    },
    "tags": []
   },
   "outputs": [
    {
     "data": {
      "image/png": "[encoded data removed]",
      "text/plain": [
       "<Figure size 640x480 with 1 Axes>"
      ]
     },
     "metadata": {},
     "output_type": "display_data"
    }
   ],
   "source": [
    "fig, ax = plt.subplots()\n",
    "ax.text(0, 1, 'landmark', va='bottom', ha='center')\n",
    "ax.plot(0, 0, **symbols['landmark'])\n",
    "ax.text(10, 1, 'station', va='bottom', ha='center')\n",
    "ax.plot(10, 0, **symbols['station'])\n",
    "ax.text(20, 1, 'stake', va='bottom', ha='center')\n",
    "ax.plot(20, 0, **symbols['stake'])\n",
    "ax.text(30, 1, 'start', va='bottom', ha='center')\n",
    "ax.plot(30, 0, **symbols['start'])\n",
    "ax.text(40, 1, 'end', va='bottom', ha='center')\n",
    "ax.plot(40, 0, **symbols['end'])\n",
    "ax.set_xlim(-5, 45)\n",
    "ax.set_ylim(-5, 5)\n",
    "ax.axis('off');"
   ]
  }
 ],
 "metadata": {
  "kernelspec": {
   "display_name": "Python 3 (ipykernel)",
   "language": "python",
   "name": "python3"
  },
  "language_info": {
   "codemirror_mode": {
    "name": "ipython",
    "version": 3
   },
   "file_extension": ".py",
   "mimetype": "text/x-python",
   "name": "python",
   "nbconvert_exporter": "python",
   "pygments_lexer": "ipython3",
   "version": "3.10.13"
  }
 },
 "nbformat": 4,
 "nbformat_minor": 5
}

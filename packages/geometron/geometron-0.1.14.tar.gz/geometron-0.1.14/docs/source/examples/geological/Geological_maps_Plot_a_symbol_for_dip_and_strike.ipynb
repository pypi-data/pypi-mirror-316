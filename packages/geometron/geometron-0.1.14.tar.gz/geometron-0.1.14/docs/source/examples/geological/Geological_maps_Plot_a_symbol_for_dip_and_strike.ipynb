{
 "cells": [
  {
   "cell_type": "markdown",
   "id": "8a6abcb5",
   "metadata": {},
   "source": [
    "# Plot a dip and strike symbol\n",
    "O. Kaufmann, 2021."
   ]
  },
  {
   "cell_type": "code",
   "execution_count": 1,
   "id": "60b69616",
   "metadata": {},
   "outputs": [],
   "source": [
    "from geometron.plot import geological_maps as gm\n",
    "import matplotlib.pyplot as plt"
   ]
  },
  {
   "cell_type": "markdown",
   "id": "22285085-7d8b-4a1b-a29b-18e6cdf4ba51",
   "metadata": {},
   "source": [
    "## Build a symbol and associated text from an observation of dip and strike at xy"
   ]
  },
  {
   "cell_type": "code",
   "execution_count": 23,
   "id": "c79c21c1",
   "metadata": {},
   "outputs": [
    {
     "name": "stdout",
     "output_type": "stream",
     "text": [
      "dip:75.0°, strike:40.0°, polarity: 0\n"
     ]
    }
   ],
   "source": [
    "symbol_patch, text_patch = gm.dip_and_strike_patch((0,0), dip=75, strike=40, polarity=0)"
   ]
  },
  {
   "cell_type": "markdown",
   "id": "b26d2441",
   "metadata": {},
   "source": [
    "## Display the symbol"
   ]
  },
  {
   "cell_type": "code",
   "execution_count": 24,
   "id": "8c7aa394",
   "metadata": {
    "nbsphinx-thumbnail": {
     "tooltip": "This tooltip message was defined in cell metadata"
    }
   },
   "outputs": [
    {
     "data": {
      "text/plain": [
       "(-5.0, 5.0, -5.0, 5.0)"
      ]
     },
     "execution_count": 24,
     "metadata": {},
     "output_type": "execute_result"
    },
    {
     "data": {
      "image/png": "[encoded data removed]",
      "text/plain": [
       "<Figure size 720x720 with 1 Axes>"
      ]
     },
     "metadata": {
      "needs_background": "light"
     },
     "output_type": "display_data"
    }
   ],
   "source": [
    "fig, ax = plt.subplots(figsize=(10,10))\n",
    "ax.add_patch(symbol_patch)\n",
    "if text_patch is not None:\n",
    "    ax.add_patch(text_patch)\n",
    "ax.set_xlim([-5,5])\n",
    "ax.set_ylim([-5,5])\n",
    "ax.axis('off')"
   ]
  }
 ],
 "metadata": {
  "kernelspec": {
   "display_name": "Python 3 (ipykernel)",
   "language": "python",
   "name": "python3"
  },
  "language_info": {
   "codemirror_mode": {
    "name": "ipython",
    "version": 3
   },
   "file_extension": ".py",
   "mimetype": "text/x-python",
   "name": "python",
   "nbconvert_exporter": "python",
   "pygments_lexer": "ipython3",
   "version": "3.8.10"
  }
 },
 "nbformat": 4,
 "nbformat_minor": 5
}

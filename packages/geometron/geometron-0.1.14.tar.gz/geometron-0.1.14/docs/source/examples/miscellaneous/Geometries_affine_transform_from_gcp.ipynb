{
 "cells": [
  {
   "cell_type": "markdown",
   "id": "38506168-7836-4153-a0f9-b5cfdd575067",
   "metadata": {},
   "source": [
    "# Define and apply an affine transform in 2D from control points\n",
    "### The same approach works for 3D points too.  \n",
    "O. Kaufmann, 2022."
   ]
  },
  {
   "cell_type": "code",
   "execution_count": 14,
   "id": "e5321fe6-2872-4ec7-bedd-1502b079392b",
   "metadata": {},
   "outputs": [],
   "source": [
    "import numpy as np\n",
    "import matplotlib.pyplot as plt\n",
    "from shapely.geometry import Point, LineString\n",
    "from shapely.affinity import affine_transform\n",
    "from geometron.geometries import transforms as ggt\n",
    "from geometron.plot import geometries as gpg"
   ]
  },
  {
   "cell_type": "code",
   "execution_count": 15,
   "id": "84c2b059-d81a-4f09-866e-e4c8b3f5298d",
   "metadata": {},
   "outputs": [],
   "source": [
    "origin_coords = [np.array([0.,0.]), np.array([0.,1.]), np.array([1.,0.]), np.array([1.,1.2])]"
   ]
  },
  {
   "cell_type": "code",
   "execution_count": 16,
   "id": "a4e8f2e9-1f7f-4f6f-b0a8-ac5d45b991a7",
   "metadata": {},
   "outputs": [],
   "source": [
    "destination_coords = [np.array([2.5,1.5]), np.array([2.,2.]), np.array([3.,2.]), np.array([2.5,3.])]"
   ]
  },
  {
   "cell_type": "code",
   "execution_count": 17,
   "id": "11e11960-ed15-48df-9c81-97dd91611e23",
   "metadata": {},
   "outputs": [],
   "source": [
    "transform_matrix, residuals, rank, singular = ggt.affine_transform_matrix(origin_coords, destination_coords)"
   ]
  },
  {
   "cell_type": "code",
   "execution_count": 18,
   "id": "810824f9-25ea-445d-9b14-ab0403eb98dd",
   "metadata": {},
   "outputs": [
    {
     "data": {
      "text/plain": [
       "[0.5450819672131152,\n",
       " -0.4508196721311477,\n",
       " 0.6803278688524602,\n",
       " 0.6967213114754098,\n",
       " 2.4754098360655745,\n",
       " 1.401639344262296]"
      ]
     },
     "execution_count": 18,
     "metadata": {},
     "output_type": "execute_result"
    }
   ],
   "source": [
    "transform_matrix"
   ]
  },
  {
   "cell_type": "code",
   "execution_count": 19,
   "id": "482bf63c-11ee-455e-9fcb-b31b25c7c499",
   "metadata": {},
   "outputs": [],
   "source": [
    "origin_gcp = [Point(p) for p in origin_coords]\n",
    "destination_gcp = [Point(p) for p in destination_coords]\n",
    "transformed_gcp = [affine_transform(p, transform_matrix) for p in origin_gcp]"
   ]
  },
  {
   "cell_type": "code",
   "execution_count": 20,
   "id": "377b89e7-64de-4d06-9703-22dce00bc648",
   "metadata": {},
   "outputs": [],
   "source": [
    "ls = LineString([[1,1], [2,1], [1,4]])\n",
    "Ls = affine_transform(ls, transform_matrix)"
   ]
  },
  {
   "cell_type": "code",
   "execution_count": 23,
   "id": "009cb865-4b5a-4297-b923-00e0582893ca",
   "metadata": {
    "nbsphinx-thumbnail": {
     "tooltip": "This tooltip message was defined in cell metadata"
    },
    "tags": []
   },
   "outputs": [
    {
     "data": {
      "text/plain": [
       "<matplotlib.legend.Legend at 0x7fa666ffaf10>"
      ]
     },
     "execution_count": 23,
     "metadata": {},
     "output_type": "execute_result"
    },
    {
     "data": {
      "image/png": "[encoded data removed]",
      "text/plain": [
       "<Figure size 432x288 with 1 Axes>"
      ]
     },
     "metadata": {
      "needs_background": "light"
     },
     "output_type": "display_data"
    }
   ],
   "source": [
    "fig, ax = plt.subplots()\n",
    "for p in origin_gcp:\n",
    "    i = origin_gcp.index(p)\n",
    "    gpg.plot_shapely_obj(obj=p, ax=ax, color='g', marker='o', label='GCP - origin' if i == 0 else '_no_legend_')\n",
    "for p in destination_gcp:\n",
    "    i = destination_gcp.index(p)\n",
    "    gpg.plot_shapely_obj(obj=p, ax=ax, markeredgecolor='r', markerfacecolor='r', marker='o', label='GCP - destination' if i == 0 else '_no_legend_')\n",
    "for p in transformed_gcp:\n",
    "    i = transformed_gcp.index(p)\n",
    "    gpg.plot_shapely_obj(obj=p, ax=ax, markeredgecolor='k', markerfacecolor='w', marker='o', alpha=0.5, label='GCP - transformed' if i == 0 else '_no_legend_')\n",
    "    \n",
    "gpg.plot_shapely_obj(obj=ls, ax=ax, color='g', marker='x', label='object - origin')\n",
    "gpg.plot_shapely_obj(obj=Ls, ax=ax, color='r', marker='x', label='object - transformed')\n",
    "ax.axis('equal')\n",
    "fig.legend(bbox_to_anchor=(1.25, 1), loc='upper right', borderaxespad=0)"
   ]
  }
 ],
 "metadata": {
  "kernelspec": {
   "display_name": "Python 3 (ipykernel)",
   "language": "python",
   "name": "python3"
  },
  "language_info": {
   "codemirror_mode": {
    "name": "ipython",
    "version": 3
   },
   "file_extension": ".py",
   "mimetype": "text/x-python",
   "name": "python",
   "nbconvert_exporter": "python",
   "pygments_lexer": "ipython3",
   "version": "3.10.13"
  }
 },
 "nbformat": 4,
 "nbformat_minor": 5
}

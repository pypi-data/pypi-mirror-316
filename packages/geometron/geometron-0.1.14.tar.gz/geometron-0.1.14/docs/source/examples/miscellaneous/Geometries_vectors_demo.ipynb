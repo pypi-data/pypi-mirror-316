{
 "cells": [
  {
   "cell_type": "markdown",
   "id": "2fd39c41-0635-4cf3-b498-5b20ea92f9f1",
   "metadata": {},
   "source": [
    "# Vectors demonstration\n",
    "O. Kaufmann, 2021."
   ]
  },
  {
   "cell_type": "code",
   "execution_count": 1,
   "id": "ab30a30b-7766-4de0-880a-9639799dc1da",
   "metadata": {
    "tags": []
   },
   "outputs": [],
   "source": [
    "import numpy as np\n",
    "from geometron.geometries import vectors as ggv\n",
    "from geometron.geometries import transforms as ggt\n",
    "from geometron.plot import plot_3d_vectors, plot_2d_vectors\n",
    "from shapely.geometry import Point\n",
    "import matplotlib.pyplot as plt\n",
    "from matplotlib.ticker import MultipleLocator, FormatStrFormatter, AutoMinorLocator"
   ]
  },
  {
   "cell_type": "markdown",
   "id": "1ee09d2f-ba6a-4974-9e0a-bfa44d662305",
   "metadata": {},
   "source": [
    "## Create some points and a vector"
   ]
  },
  {
   "cell_type": "code",
   "execution_count": 2,
   "id": "eff62ea9-cc0b-46b4-a605-8227ed129717",
   "metadata": {
    "tags": []
   },
   "outputs": [],
   "source": [
    "a = Point([0., 0., 0.])\n",
    "b = Point([1., 0., 0.])\n",
    "c = Point([0., 1., 0.])\n",
    "v = np.array([1., 2., 3.])"
   ]
  },
  {
   "cell_type": "markdown",
   "id": "971923d4-f343-4cba-a079-c21a8813c527",
   "metadata": {},
   "source": [
    "## Perfom some operations and checks on vectors"
   ]
  },
  {
   "cell_type": "code",
   "execution_count": 3,
   "id": "663e99f2-8056-4358-a805-43011891f4b9",
   "metadata": {},
   "outputs": [
    {
     "data": {
      "text/plain": [
       "array([0.26726124, 0.53452248, 0.80178373])"
      ]
     },
     "execution_count": 3,
     "metadata": {},
     "output_type": "execute_result"
    }
   ],
   "source": [
    "ggv.unit_vector(v)"
   ]
  },
  {
   "cell_type": "code",
   "execution_count": 4,
   "id": "f19221df-9005-4c9a-b733-7d6380d079ac",
   "metadata": {},
   "outputs": [
    {
     "data": {
      "text/plain": [
       "True"
      ]
     },
     "execution_count": 4,
     "metadata": {},
     "output_type": "execute_result"
    }
   ],
   "source": [
    "ggv.almost_null(np.array([0.,0.,0.]))"
   ]
  },
  {
   "cell_type": "code",
   "execution_count": 5,
   "id": "393a7151-650d-44d6-b869-12fef12794e3",
   "metadata": {},
   "outputs": [
    {
     "data": {
      "text/plain": [
       "True"
      ]
     },
     "execution_count": 5,
     "metadata": {},
     "output_type": "execute_result"
    }
   ],
   "source": [
    "ggv.almost_colinear(ggv.ux, np.cross(ggv.uy, ggv.uz))"
   ]
  },
  {
   "cell_type": "markdown",
   "id": "259010f0-a80e-42e9-a077-50bd9d0a60f2",
   "metadata": {},
   "source": [
    "## Compute the signed angle between two vectors"
   ]
  },
  {
   "cell_type": "code",
   "execution_count": 6,
   "id": "123cb905-c783-4287-9750-5207d4b58f01",
   "metadata": {},
   "outputs": [
    {
     "data": {
      "text/plain": [
       "-29.972103422676636"
      ]
     },
     "execution_count": 6,
     "metadata": {},
     "output_type": "execute_result"
    }
   ],
   "source": [
    "ggv.angle_between_vectors(ggv.ux, [0.867, -.5, 0.], degrees=True)"
   ]
  },
  {
   "cell_type": "code",
   "execution_count": 7,
   "id": "25db1fd2-9638-4704-9e10-c189c2f896b7",
   "metadata": {},
   "outputs": [
    {
     "data": {
      "text/plain": [
       "90.0"
      ]
     },
     "execution_count": 7,
     "metadata": {},
     "output_type": "execute_result"
    }
   ],
   "source": [
    "ggv.angle_between_vectors(ggv.ux, ggv.uy, degrees=True)"
   ]
  },
  {
   "cell_type": "code",
   "execution_count": 8,
   "id": "05bda4d7-fa8d-43d7-b8b4-ed6b8c5f7583",
   "metadata": {},
   "outputs": [
    {
     "data": {
      "text/plain": [
       "90.0"
      ]
     },
     "execution_count": 8,
     "metadata": {},
     "output_type": "execute_result"
    }
   ],
   "source": [
    "ggv.angle_between_vectors(ggv.uy, ggv.uz, degrees=True)"
   ]
  },
  {
   "cell_type": "code",
   "execution_count": 9,
   "id": "648586ba-aa46-4b96-9001-7fe97585f154",
   "metadata": {},
   "outputs": [
    {
     "data": {
      "text/plain": [
       "-90.0"
      ]
     },
     "execution_count": 9,
     "metadata": {},
     "output_type": "execute_result"
    }
   ],
   "source": [
    "ggv.angle_between_vectors(ggv.uy, ggv.ux, degrees=True)"
   ]
  },
  {
   "cell_type": "code",
   "execution_count": 10,
   "id": "b9cae00e-a69a-43d4-9eb0-65f04e44e500",
   "metadata": {},
   "outputs": [
    {
     "data": {
      "text/plain": [
       "-90.0"
      ]
     },
     "execution_count": 10,
     "metadata": {},
     "output_type": "execute_result"
    }
   ],
   "source": [
    "ggv.angle_between_vectors(ggv.ux, ggv.uz, degrees=True)"
   ]
  },
  {
   "cell_type": "markdown",
   "id": "65f3309a-2f5a-4274-a682-867504afcd29",
   "metadata": {},
   "source": [
    "## Compute the unit vector normal to a plane defined by two vectors or three points "
   ]
  },
  {
   "cell_type": "code",
   "execution_count": 11,
   "id": "c8be9f3d-ea49-4115-8333-86466cd2efb6",
   "metadata": {},
   "outputs": [
    {
     "data": {
      "text/plain": [
       "array([0., 0., 1.])"
      ]
     },
     "execution_count": 11,
     "metadata": {},
     "output_type": "execute_result"
    }
   ],
   "source": [
    "ggv.plane_normal([ggv.ux, ggv.uy])"
   ]
  },
  {
   "cell_type": "code",
   "execution_count": 12,
   "id": "dae85b92-8973-42ef-af4b-b8088bd2fb18",
   "metadata": {},
   "outputs": [
    {
     "data": {
      "text/plain": [
       "array([[0., 0., 1.]])"
      ]
     },
     "execution_count": 12,
     "metadata": {},
     "output_type": "execute_result"
    }
   ],
   "source": [
    "ggv.plane_normal([a, b, c])"
   ]
  },
  {
   "cell_type": "markdown",
   "id": "4d520021-d1bd-4a03-8c07-505c2f3dbfa8",
   "metadata": {},
   "source": [
    "## Plot 2D vectors"
   ]
  },
  {
   "cell_type": "code",
   "execution_count": 13,
   "id": "ac292b3f-8aa0-48fb-b645-da964608af03",
   "metadata": {},
   "outputs": [
    {
     "data": {
      "text/plain": [
       "[]"
      ]
     },
     "execution_count": 13,
     "metadata": {},
     "output_type": "execute_result"
    },
    {
     "data": {
      "image/png": "[encoded data removed]",
      "text/plain": [
       "<Figure size 432x288 with 1 Axes>"
      ]
     },
     "metadata": {
      "needs_background": "light"
     },
     "output_type": "display_data"
    }
   ],
   "source": [
    "ax = plot_2d_vectors(np.vstack([2*ggv.ux[:2], ggv.uy[:2]]), colors=['red', 'blue'], show_grid=True)\n",
    "ax.set_xlim([-2.,2])\n",
    "ax.set_ylim([-2.,2])\n",
    "ax.plot()"
   ]
  },
  {
   "cell_type": "markdown",
   "id": "97cc503c-892e-4251-9d46-7a97f612e5e6",
   "metadata": {},
   "source": [
    "## Get vectors along dip and strike directions, get the normal to a plane defined by its dip and strike"
   ]
  },
  {
   "cell_type": "code",
   "execution_count": 14,
   "id": "359dc941-f071-4b09-a188-11d64d90e073",
   "metadata": {},
   "outputs": [
    {
     "data": {
      "text/plain": [
       "(array([-0.25     , -0.4330127, -0.8660254]),\n",
       " array([ 0.8660254, -0.5      ,  0.       ]))"
      ]
     },
     "execution_count": 14,
     "metadata": {},
     "output_type": "execute_result"
    }
   ],
   "source": [
    "ggv.dip_and_strike_vectors(60., 120., degrees=True)"
   ]
  },
  {
   "cell_type": "code",
   "execution_count": 15,
   "id": "086e3f36-48a3-406a-99c4-54fe81e00dd9",
   "metadata": {},
   "outputs": [
    {
     "data": {
      "text/plain": [
       "array([-0.4330127, -0.75     ,  0.5      ])"
      ]
     },
     "execution_count": 15,
     "metadata": {},
     "output_type": "execute_result"
    }
   ],
   "source": [
    "ggv.plane_normal_from_dip_and_strike(60., 120., degrees=True)"
   ]
  },
  {
   "cell_type": "markdown",
   "id": "545976f8-686d-49f1-8859-cdd04c1d8006",
   "metadata": {},
   "source": [
    "## Plot 3D vectors"
   ]
  },
  {
   "cell_type": "code",
   "execution_count": 17,
   "id": "96ba9275-78c7-4f43-8f53-0e50787a66f2",
   "metadata": {
    "nbsphinx-thumbnail": {
     "tooltip": "This tooltip message was defined in cell metadata"
    },
    "tags": []
   },
   "outputs": [
    {
     "data": {
      "image/png": "[encoded data removed]",
      "text/plain": [
       "<PIL.Image.Image image mode=RGB size=1024x768 at 0x7FBAB72C7970>"
      ]
     },
     "metadata": {},
     "output_type": "display_data"
    }
   ],
   "source": [
    "v_dip, v_strike = ggv.dip_and_strike_vectors(60, 120, degrees=True)\n",
    "v_normal = ggv.plane_normal_from_dip_and_strike(60, 120, degrees=True)\n",
    "pl = plot_3d_vectors(np.vstack([v_dip, v_strike, v_normal]), colors=['red', 'green', 'blue'], names=['dip', 'strike', 'normal'],\n",
    "                     add_labels=True, show_grid=True)\n",
    "pl.show(jupyter_backend='static')"
   ]
  }
 ],
 "metadata": {
  "kernelspec": {
   "display_name": "Python 3 (ipykernel)",
   "language": "python",
   "name": "python3"
  },
  "language_info": {
   "codemirror_mode": {
    "name": "ipython",
    "version": 3
   },
   "file_extension": ".py",
   "mimetype": "text/x-python",
   "name": "python",
   "nbconvert_exporter": "python",
   "pygments_lexer": "ipython3",
   "version": "3.9.7"
  }
 },
 "nbformat": 4,
 "nbformat_minor": 5
}

{
 "cells": [
  {
   "cell_type": "markdown",
   "id": "4ab778b4-52a0-4dab-9d4c-e883a9914f97",
   "metadata": {},
   "source": [
    "# Convert geometries of a geodataframe to vertices \n",
    "O. Kaufmann, 2021."
   ]
  },
  {
   "cell_type": "code",
   "execution_count": 1,
   "id": "23357b33-d921-4ab8-856e-9e864480e741",
   "metadata": {},
   "outputs": [],
   "source": [
    "import matplotlib.pyplot as plt\n",
    "import geopandas as gpd\n",
    "from geometron.geometries import gdf_to_points_gdf"
   ]
  },
  {
   "cell_type": "code",
   "execution_count": 2,
   "id": "4a537cf3-53db-4f12-a9dc-a42c5841dd45",
   "metadata": {},
   "outputs": [],
   "source": [
    "geo_interface = {\"type\": \"FeatureCollection\"}\n",
    "features = []\n",
    "bbox = (0., 1., 0., 1., 0., 8.)\n",
    "geo_interface[\"bbox\"] = bbox"
   ]
  },
  {
   "cell_type": "code",
   "execution_count": 3,
   "id": "aa3aa768-d44a-4fb2-83ee-6ddcb66e4ffd",
   "metadata": {},
   "outputs": [],
   "source": [
    "features.append({'id':0, 'type': 'Feature', 'properties': {'comment': 'a 2D point'}, 'geometry': {'type': 'Point', 'coordinates': (1., 0.)}})\n",
    "features.append({'id':1, 'type': 'Feature', 'properties': {'comment': 'a 3D point'}, 'geometry': {'type': 'Point', 'coordinates': (0., 1., 4.)}})\n",
    "features.append({'id':2, 'type': 'Feature', 'properties': {'comment': 'a 2D linestring'}, 'geometry': {'type': 'LineString', 'coordinates': [(1., 1.), (1., 2.), (2., 2.)]}})\n",
    "features.append({'id':3, 'type': 'Feature', 'properties': {'comment': 'a 3D linestring'}, 'geometry': {'type': 'LineString', 'coordinates': [(2., 3., 1.), (3., 3., 2.), (3., 4., 4.)]}})\n",
    "features.append({'id':4, 'type': 'Feature', 'properties': {'comment': 'a 2D polygon'}, 'geometry': {'type': 'Polygon', 'coordinates': [[(3., 0.), (3., 1.), (4., 1.), (4., 0.), (3., 0.)]]}})\n",
    "features.append({'id':5, 'type': 'Feature', 'properties': {'comment': 'a 3D polygon'}, 'geometry': {'type': 'Polygon', 'coordinates': [[(0., 3., 0.), (0., 4., 2.), (1., 4., 4.), (1., 3., 8.), (0., 3., 0.)]]}})"
   ]
  },
  {
   "cell_type": "code",
   "execution_count": 9,
   "id": "b8ebaafa-6d8a-4897-8173-5e73d80bcc57",
   "metadata": {},
   "outputs": [
    {
     "data": {
      "text/html": [
       "<div>\n",
       "<style scoped>\n",
       "    .dataframe tbody tr th:only-of-type {\n",
       "        vertical-align: middle;\n",
       "    }\n",
       "\n",
       "    .dataframe tbody tr th {\n",
       "        vertical-align: top;\n",
       "    }\n",
       "\n",
       "    .dataframe thead th {\n",
       "        text-align: right;\n",
       "    }\n",
       "</style>\n",
       "<table border=\"1\" class=\"dataframe\">\n",
       "  <thead>\n",
       "    <tr style=\"text-align: right;\">\n",
       "      <th></th>\n",
       "      <th>geometry</th>\n",
       "      <th>comment</th>\n",
       "    </tr>\n",
       "  </thead>\n",
       "  <tbody>\n",
       "    <tr>\n",
       "      <th>0</th>\n",
       "      <td>POINT (1.00000 0.00000)</td>\n",
       "      <td>a 2D point</td>\n",
       "    </tr>\n",
       "    <tr>\n",
       "      <th>1</th>\n",
       "      <td>POINT Z (0.00000 1.00000 4.00000)</td>\n",
       "      <td>a 3D point</td>\n",
       "    </tr>\n",
       "    <tr>\n",
       "      <th>2</th>\n",
       "      <td>LINESTRING (1.00000 1.00000, 1.00000 2.00000, ...</td>\n",
       "      <td>a 2D linestring</td>\n",
       "    </tr>\n",
       "    <tr>\n",
       "      <th>3</th>\n",
       "      <td>LINESTRING Z (2.00000 3.00000 1.00000, 3.00000...</td>\n",
       "      <td>a 3D linestring</td>\n",
       "    </tr>\n",
       "    <tr>\n",
       "      <th>4</th>\n",
       "      <td>POLYGON ((3.00000 0.00000, 3.00000 1.00000, 4....</td>\n",
       "      <td>a 2D polygon</td>\n",
       "    </tr>\n",
       "    <tr>\n",
       "      <th>5</th>\n",
       "      <td>POLYGON Z ((0.00000 3.00000 0.00000, 0.00000 4...</td>\n",
       "      <td>a 3D polygon</td>\n",
       "    </tr>\n",
       "  </tbody>\n",
       "</table>\n",
       "</div>"
      ],
      "text/plain": [
       "                                            geometry          comment\n",
       "0                            POINT (1.00000 0.00000)       a 2D point\n",
       "1                  POINT Z (0.00000 1.00000 4.00000)       a 3D point\n",
       "2  LINESTRING (1.00000 1.00000, 1.00000 2.00000, ...  a 2D linestring\n",
       "3  LINESTRING Z (2.00000 3.00000 1.00000, 3.00000...  a 3D linestring\n",
       "4  POLYGON ((3.00000 0.00000, 3.00000 1.00000, 4....     a 2D polygon\n",
       "5  POLYGON Z ((0.00000 3.00000 0.00000, 0.00000 4...     a 3D polygon"
      ]
     },
     "execution_count": 9,
     "metadata": {},
     "output_type": "execute_result"
    }
   ],
   "source": [
    "geo_interface[\"features\"] = features\n",
    "gdf = gpd.GeoDataFrame.from_features(geo_interface)\n",
    "gdf"
   ]
  },
  {
   "cell_type": "code",
   "execution_count": 8,
   "id": "b6a58e62-c549-4f63-a85f-865e49dfc507",
   "metadata": {},
   "outputs": [
    {
     "data": {
      "text/html": [
       "<div>\n",
       "<style scoped>\n",
       "    .dataframe tbody tr th:only-of-type {\n",
       "        vertical-align: middle;\n",
       "    }\n",
       "\n",
       "    .dataframe tbody tr th {\n",
       "        vertical-align: top;\n",
       "    }\n",
       "\n",
       "    .dataframe thead th {\n",
       "        text-align: right;\n",
       "    }\n",
       "</style>\n",
       "<table border=\"1\" class=\"dataframe\">\n",
       "  <thead>\n",
       "    <tr style=\"text-align: right;\">\n",
       "      <th></th>\n",
       "      <th>geometry</th>\n",
       "      <th>comment</th>\n",
       "    </tr>\n",
       "  </thead>\n",
       "  <tbody>\n",
       "    <tr>\n",
       "      <th>13</th>\n",
       "      <td>POINT Z (0.00000 3.00000 0.00000)</td>\n",
       "      <td>a 3D polygon</td>\n",
       "    </tr>\n",
       "    <tr>\n",
       "      <th>14</th>\n",
       "      <td>POINT Z (0.00000 4.00000 2.00000)</td>\n",
       "      <td>a 3D polygon</td>\n",
       "    </tr>\n",
       "    <tr>\n",
       "      <th>15</th>\n",
       "      <td>POINT Z (1.00000 4.00000 4.00000)</td>\n",
       "      <td>a 3D polygon</td>\n",
       "    </tr>\n",
       "    <tr>\n",
       "      <th>16</th>\n",
       "      <td>POINT Z (1.00000 3.00000 8.00000)</td>\n",
       "      <td>a 3D polygon</td>\n",
       "    </tr>\n",
       "    <tr>\n",
       "      <th>17</th>\n",
       "      <td>POINT Z (0.00000 3.00000 0.00000)</td>\n",
       "      <td>a 3D polygon</td>\n",
       "    </tr>\n",
       "  </tbody>\n",
       "</table>\n",
       "</div>"
      ],
      "text/plain": [
       "                             geometry       comment\n",
       "13  POINT Z (0.00000 3.00000 0.00000)  a 3D polygon\n",
       "14  POINT Z (0.00000 4.00000 2.00000)  a 3D polygon\n",
       "15  POINT Z (1.00000 4.00000 4.00000)  a 3D polygon\n",
       "16  POINT Z (1.00000 3.00000 8.00000)  a 3D polygon\n",
       "17  POINT Z (0.00000 3.00000 0.00000)  a 3D polygon"
      ]
     },
     "execution_count": 8,
     "metadata": {},
     "output_type": "execute_result"
    }
   ],
   "source": [
    "gdf_points = gdf_to_points_gdf(gdf, columns=['comment'])\n",
    "gdf_points.tail()"
   ]
  },
  {
   "cell_type": "code",
   "execution_count": 6,
   "id": "6df927c5-0416-46dd-8648-3783978e48fe",
   "metadata": {
    "nbsphinx-thumbnail": {
     "tooltip": "This tooltip message was defined in cell metadata"
    },
    "tags": []
   },
   "outputs": [
    {
     "data": {
      "text/plain": [
       "<AxesSubplot:>"
      ]
     },
     "execution_count": 6,
     "metadata": {},
     "output_type": "execute_result"
    },
    {
     "data": {
      "image/png": "[encoded data removed]",
      "text/plain": [
       "<Figure size 432x288 with 2 Axes>"
      ]
     },
     "metadata": {
      "needs_background": "light"
     },
     "output_type": "display_data"
    }
   ],
   "source": [
    "fig, ax = plt.subplots(ncols=2)\n",
    "gdf.plot(ax=ax[0])\n",
    "gdf_points.plot(ax=ax[1])"
   ]
  }
 ],
 "metadata": {
  "kernelspec": {
   "display_name": "Python 3 (ipykernel)",
   "language": "python",
   "name": "python3"
  },
  "language_info": {
   "codemirror_mode": {
    "name": "ipython",
    "version": 3
   },
   "file_extension": ".py",
   "mimetype": "text/x-python",
   "name": "python",
   "nbconvert_exporter": "python",
   "pygments_lexer": "ipython3",
   "version": "3.10.13"
  }
 },
 "nbformat": 4,
 "nbformat_minor": 5
}

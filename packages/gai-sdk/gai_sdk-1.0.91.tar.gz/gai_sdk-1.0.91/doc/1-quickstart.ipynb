{
 "cells": [
  {
   "cell_type": "markdown",
   "metadata": {},
   "source": [
    "# 1. Quickstart"
   ]
  },
  {
   "cell_type": "markdown",
   "metadata": {},
   "source": [
    "Run the following to check if the container is running:\n",
    "\n",
    "```$ docker ps --format \"table {{.Image}}\\t{{.Names}}\\t{{.Status}}\" | grep gai-ttt```\n",
    "\n",
    "Once it is started, the status will look like this:\n",
    "\n",
    "```gai-ttt:latest   gai-ttt   Up 2 minutes```\n",
    "\n",
    "Otherwise, run `gai docker start`.\n",
    "\n"
   ]
  },
  {
   "cell_type": "markdown",
   "metadata": {},
   "source": [
    "a) Patch OpenAI Client"
   ]
  },
  {
   "cell_type": "code",
   "execution_count": 2,
   "metadata": {},
   "outputs": [],
   "source": [
    "from rich.console import Console\n",
    "console = Console()\n",
    "\n",
    "import os\n",
    "# Replace this with your OpenAI API key if you want to use it\n",
    "if os.environ.get(\"OPENAI_API_KEY\") is None:\n",
    "    os.environ[\"OPENAI_API_KEY\"] = \"\"\n",
    "\n",
    "# Load and patch openai\n",
    "from openai import OpenAI\n",
    "client = OpenAI()\n",
    "from gai.ttt.client.completions import Completions\n",
    "client = Completions.PatchOpenAI(client)\n"
   ]
  },
  {
   "cell_type": "markdown",
   "metadata": {},
   "source": [
    "b) Create Completions"
   ]
  },
  {
   "cell_type": "code",
   "execution_count": 3,
   "metadata": {},
   "outputs": [
    {
     "data": {
      "text/html": [
       "<pre style=\"white-space:pre;overflow-x:auto;line-height:normal;font-family:Menlo,'DejaVu Sans Mono',consolas,'Courier New',monospace\"><span style=\"color: #ffff00; text-decoration-color: #ffff00\">Use Exllama create:</span>\n",
       "</pre>\n"
      ],
      "text/plain": [
       "\u001b[93mUse Exllama create:\u001b[0m\n"
      ]
     },
     "metadata": {},
     "output_type": "display_data"
    },
    {
     "data": {
      "text/html": [
       "<pre style=\"white-space:pre;overflow-x:auto;line-height:normal;font-family:Menlo,'DejaVu Sans Mono',consolas,'Courier New',monospace\"><span style=\"color: #ffffff; text-decoration-color: #ffffff; font-weight: bold; font-style: italic\">ChatCompletion(</span><span style=\"color: #ffffff; text-decoration-color: #ffffff; font-style: italic\">id=</span><span style=\"color: #ffffff; text-decoration-color: #ffffff; font-style: italic\">'chatcmpl-fc7a2ba6-9cc6-4c14-9d39-ee2332c55d5a'</span><span style=\"color: #ffffff; text-decoration-color: #ffffff; font-style: italic\">, choices=</span><span style=\"color: #ffffff; text-decoration-color: #ffffff; font-weight: bold; font-style: italic\">[Choice(</span><span style=\"color: #ffffff; text-decoration-color: #ffffff; font-style: italic\">finish_reason=</span><span style=\"color: #ffffff; text-decoration-color: #ffffff; font-style: italic\">'stop'</span><span style=\"color: #ffffff; text-decoration-color: #ffffff; font-style: italic\">, index=</span><span style=\"color: #ffffff; text-decoration-color: #ffffff; font-weight: bold; font-style: italic\">0</span><span style=\"color: #ffffff; text-decoration-color: #ffffff; font-style: italic\">, </span>\n",
       "<span style=\"color: #ffffff; text-decoration-color: #ffffff; font-style: italic\">logprobs=None, message=</span><span style=\"color: #ffffff; text-decoration-color: #ffffff; font-weight: bold; font-style: italic\">ChatCompletionMessage(</span><span style=\"color: #ffffff; text-decoration-color: #ffffff; font-style: italic\">content=</span><span style=\"color: #ffffff; text-decoration-color: #ffffff; font-style: italic\">'An old man walked along the beach, his eyes twinkling with </span>\n",
       "<span style=\"color: #ffffff; text-decoration-color: #ffffff; font-style: italic\">the memories of the countless sunsets he had witnessed, and the hopeful dreams of the countless sunrises he had yet</span>\n",
       "<span style=\"color: #ffffff; text-decoration-color: #ffffff; font-style: italic\">to see.'</span><span style=\"color: #ffffff; text-decoration-color: #ffffff; font-style: italic\">, refusal=None, role=</span><span style=\"color: #ffffff; text-decoration-color: #ffffff; font-style: italic\">'assistant'</span><span style=\"color: #ffffff; text-decoration-color: #ffffff; font-style: italic\">, function_call=None, tool_calls=None, audio=None</span><span style=\"color: #ffffff; text-decoration-color: #ffffff; font-weight: bold; font-style: italic\">))]</span><span style=\"color: #ffffff; text-decoration-color: #ffffff; font-style: italic\">, created=</span><span style=\"color: #ffffff; text-decoration-color: #ffffff; font-weight: bold; font-style: italic\">1733500931</span><span style=\"color: #ffffff; text-decoration-color: #ffffff; font-style: italic\">, </span>\n",
       "<span style=\"color: #ffffff; text-decoration-color: #ffffff; font-style: italic\">model=</span><span style=\"color: #ffffff; text-decoration-color: #ffffff; font-style: italic\">'llamacpp-mistral7b'</span><span style=\"color: #ffffff; text-decoration-color: #ffffff; font-style: italic\">, object=</span><span style=\"color: #ffffff; text-decoration-color: #ffffff; font-style: italic\">'chat.completion'</span><span style=\"color: #ffffff; text-decoration-color: #ffffff; font-style: italic\">, service_tier=None, system_fingerprint=None, </span>\n",
       "<span style=\"color: #ffffff; text-decoration-color: #ffffff; font-style: italic\">usage=</span><span style=\"color: #ffffff; text-decoration-color: #ffffff; font-weight: bold; font-style: italic\">CompletionUsage(</span><span style=\"color: #ffffff; text-decoration-color: #ffffff; font-style: italic\">completion_tokens=</span><span style=\"color: #ffffff; text-decoration-color: #ffffff; font-weight: bold; font-style: italic\">42</span><span style=\"color: #ffffff; text-decoration-color: #ffffff; font-style: italic\">, prompt_tokens=</span><span style=\"color: #ffffff; text-decoration-color: #ffffff; font-weight: bold; font-style: italic\">21</span><span style=\"color: #ffffff; text-decoration-color: #ffffff; font-style: italic\">, total_tokens=</span><span style=\"color: #ffffff; text-decoration-color: #ffffff; font-weight: bold; font-style: italic\">63</span><span style=\"color: #ffffff; text-decoration-color: #ffffff; font-style: italic\">, completion_tokens_details=None, </span>\n",
       "<span style=\"color: #ffffff; text-decoration-color: #ffffff; font-style: italic\">prompt_tokens_details=None</span><span style=\"color: #ffffff; text-decoration-color: #ffffff; font-weight: bold; font-style: italic\">)</span><span style=\"color: #ffffff; text-decoration-color: #ffffff; font-style: italic\">, extract=</span><span style=\"color: #ffffff; text-decoration-color: #ffffff; font-weight: bold; font-style: italic\">&lt;function</span><span style=\"color: #ffffff; text-decoration-color: #ffffff; font-style: italic\"> Completions.PatchOpenAI.&lt;locals&gt;.attach_extractor.&lt;locals&gt;.&lt;lambda&gt; </span>\n",
       "<span style=\"color: #ffffff; text-decoration-color: #ffffff; font-style: italic\">at </span><span style=\"color: #ffffff; text-decoration-color: #ffffff; font-weight: bold; font-style: italic\">0x7f25fb21c9d0&gt;)</span>\n",
       "</pre>\n"
      ],
      "text/plain": [
       "\u001b[1;3;97mChatCompletion\u001b[0m\u001b[1;3;97m(\u001b[0m\u001b[3;97mid\u001b[0m\u001b[3;97m=\u001b[0m\u001b[3;97m'chatcmpl-fc7a2ba6-9cc6-4c14-9d39-ee2332c55d5a'\u001b[0m\u001b[3;97m, \u001b[0m\u001b[3;97mchoices\u001b[0m\u001b[3;97m=\u001b[0m\u001b[1;3;97m[\u001b[0m\u001b[1;3;97mChoice\u001b[0m\u001b[1;3;97m(\u001b[0m\u001b[3;97mfinish_reason\u001b[0m\u001b[3;97m=\u001b[0m\u001b[3;97m'stop'\u001b[0m\u001b[3;97m, \u001b[0m\u001b[3;97mindex\u001b[0m\u001b[3;97m=\u001b[0m\u001b[1;3;97m0\u001b[0m\u001b[3;97m, \u001b[0m\n",
       "\u001b[3;97mlogprobs\u001b[0m\u001b[3;97m=\u001b[0m\u001b[3;97mNone\u001b[0m\u001b[3;97m, \u001b[0m\u001b[3;97mmessage\u001b[0m\u001b[3;97m=\u001b[0m\u001b[1;3;97mChatCompletionMessage\u001b[0m\u001b[1;3;97m(\u001b[0m\u001b[3;97mcontent\u001b[0m\u001b[3;97m=\u001b[0m\u001b[3;97m'An old man walked along the beach, his eyes twinkling with \u001b[0m\n",
       "\u001b[3;97mthe memories of the countless sunsets he had witnessed, and the hopeful dreams of the countless sunrises he had yet\u001b[0m\n",
       "\u001b[3;97mto see.'\u001b[0m\u001b[3;97m, \u001b[0m\u001b[3;97mrefusal\u001b[0m\u001b[3;97m=\u001b[0m\u001b[3;97mNone\u001b[0m\u001b[3;97m, \u001b[0m\u001b[3;97mrole\u001b[0m\u001b[3;97m=\u001b[0m\u001b[3;97m'assistant'\u001b[0m\u001b[3;97m, \u001b[0m\u001b[3;97mfunction_call\u001b[0m\u001b[3;97m=\u001b[0m\u001b[3;97mNone\u001b[0m\u001b[3;97m, \u001b[0m\u001b[3;97mtool_calls\u001b[0m\u001b[3;97m=\u001b[0m\u001b[3;97mNone\u001b[0m\u001b[3;97m, \u001b[0m\u001b[3;97maudio\u001b[0m\u001b[3;97m=\u001b[0m\u001b[3;97mNone\u001b[0m\u001b[1;3;97m)\u001b[0m\u001b[1;3;97m)\u001b[0m\u001b[1;3;97m]\u001b[0m\u001b[3;97m, \u001b[0m\u001b[3;97mcreated\u001b[0m\u001b[3;97m=\u001b[0m\u001b[1;3;97m1733500931\u001b[0m\u001b[3;97m, \u001b[0m\n",
       "\u001b[3;97mmodel\u001b[0m\u001b[3;97m=\u001b[0m\u001b[3;97m'llamacpp-mistral7b'\u001b[0m\u001b[3;97m, \u001b[0m\u001b[3;97mobject\u001b[0m\u001b[3;97m=\u001b[0m\u001b[3;97m'chat.completion'\u001b[0m\u001b[3;97m, \u001b[0m\u001b[3;97mservice_tier\u001b[0m\u001b[3;97m=\u001b[0m\u001b[3;97mNone\u001b[0m\u001b[3;97m, \u001b[0m\u001b[3;97msystem_fingerprint\u001b[0m\u001b[3;97m=\u001b[0m\u001b[3;97mNone\u001b[0m\u001b[3;97m, \u001b[0m\n",
       "\u001b[3;97musage\u001b[0m\u001b[3;97m=\u001b[0m\u001b[1;3;97mCompletionUsage\u001b[0m\u001b[1;3;97m(\u001b[0m\u001b[3;97mcompletion_tokens\u001b[0m\u001b[3;97m=\u001b[0m\u001b[1;3;97m42\u001b[0m\u001b[3;97m, \u001b[0m\u001b[3;97mprompt_tokens\u001b[0m\u001b[3;97m=\u001b[0m\u001b[1;3;97m21\u001b[0m\u001b[3;97m, \u001b[0m\u001b[3;97mtotal_tokens\u001b[0m\u001b[3;97m=\u001b[0m\u001b[1;3;97m63\u001b[0m\u001b[3;97m, \u001b[0m\u001b[3;97mcompletion_tokens_details\u001b[0m\u001b[3;97m=\u001b[0m\u001b[3;97mNone\u001b[0m\u001b[3;97m, \u001b[0m\n",
       "\u001b[3;97mprompt_tokens_details\u001b[0m\u001b[3;97m=\u001b[0m\u001b[3;97mNone\u001b[0m\u001b[1;3;97m)\u001b[0m\u001b[3;97m, \u001b[0m\u001b[3;97mextract\u001b[0m\u001b[3;97m=\u001b[0m\u001b[1;3;97m<\u001b[0m\u001b[1;3;97mfunction\u001b[0m\u001b[3;97m Completions.PatchOpenAI.<locals>.attach_extractor.<locals>.<lambda> \u001b[0m\n",
       "\u001b[3;97mat \u001b[0m\u001b[1;3;97m0x7f25fb21c9d0\u001b[0m\u001b[1;3;97m>\u001b[0m\u001b[1;3;97m)\u001b[0m\n"
      ]
     },
     "metadata": {},
     "output_type": "display_data"
    },
    {
     "data": {
      "text/html": [
       "<pre style=\"white-space:pre;overflow-x:auto;line-height:normal;font-family:Menlo,'DejaVu Sans Mono',consolas,'Courier New',monospace\"><span style=\"color: #ffffff; text-decoration-color: #ffffff; font-style: italic\">extract:</span>\n",
       "</pre>\n"
      ],
      "text/plain": [
       "\u001b[3;97mextract:\u001b[0m\n"
      ]
     },
     "metadata": {},
     "output_type": "display_data"
    },
    {
     "data": {
      "text/html": [
       "<pre style=\"white-space:pre;overflow-x:auto;line-height:normal;font-family:Menlo,'DejaVu Sans Mono',consolas,'Courier New',monospace\"><span style=\"color: #ffffff; text-decoration-color: #ffffff; font-weight: bold; font-style: italic\">{</span><span style=\"color: #ffffff; text-decoration-color: #ffffff; font-style: italic\">'type'</span><span style=\"color: #ffffff; text-decoration-color: #ffffff; font-style: italic\">: </span><span style=\"color: #ffffff; text-decoration-color: #ffffff; font-style: italic\">'content'</span><span style=\"color: #ffffff; text-decoration-color: #ffffff; font-style: italic\">, </span><span style=\"color: #ffffff; text-decoration-color: #ffffff; font-style: italic\">'content'</span><span style=\"color: #ffffff; text-decoration-color: #ffffff; font-style: italic\">: </span><span style=\"color: #ffffff; text-decoration-color: #ffffff; font-style: italic\">'An old man walked along the beach, his eyes twinkling with the memories of the </span>\n",
       "<span style=\"color: #ffffff; text-decoration-color: #ffffff; font-style: italic\">countless sunsets he had witnessed, and the hopeful dreams of the countless sunrises he had yet to see.'</span><span style=\"color: #ffffff; text-decoration-color: #ffffff; font-weight: bold; font-style: italic\">}</span>\n",
       "</pre>\n"
      ],
      "text/plain": [
       "\u001b[1;3;97m{\u001b[0m\u001b[3;97m'type'\u001b[0m\u001b[3;97m: \u001b[0m\u001b[3;97m'content'\u001b[0m\u001b[3;97m, \u001b[0m\u001b[3;97m'content'\u001b[0m\u001b[3;97m: \u001b[0m\u001b[3;97m'An old man walked along the beach, his eyes twinkling with the memories of the \u001b[0m\n",
       "\u001b[3;97mcountless sunsets he had witnessed, and the hopeful dreams of the countless sunrises he had yet to see.'\u001b[0m\u001b[1;3;97m}\u001b[0m\n"
      ]
     },
     "metadata": {},
     "output_type": "display_data"
    }
   ],
   "source": [
    "# Use openai\n",
    "if os.environ.get(\"OPENAI_API_KEY\"):\n",
    "    console.print(\"[yellow]Use GPT-4o create:[/]\")\n",
    "    response=client.chat.completions.create(model=\"gpt-4o\",messages=[{\"role\":\"user\",\"content\":\"Tell me a one sentence story\"}])\n",
    "    console.print(f\"[white]{response}[/]\")\n",
    "    console.print(\"[white]extract:[/]\")\n",
    "    print(f\"[white]{response.extract()}[/]\")\n",
    "\n",
    "# Use exllama\n",
    "console.print(\"[bright_yellow]Use Exllama create:[/]\")\n",
    "response=client.chat.completions.create(model=\"exllamav2-mistral7b\",messages=[{\"role\":\"user\",\"content\":\"Tell me a one sentence story\"}])\n",
    "console.print(f\"[bright_white italic]{response}[/]\")\n",
    "console.print(\"[bright_white italic]extract:[/]\")\n",
    "console.print(f\"[bright_white italic]{response.extract()}[/]\")\n"
   ]
  },
  {
   "cell_type": "markdown",
   "metadata": {},
   "source": [
    "c) Stream Completions"
   ]
  },
  {
   "cell_type": "code",
   "execution_count": 3,
   "metadata": {},
   "outputs": [
    {
     "name": "stdout",
     "output_type": "stream",
     "text": [
      "\n"
     ]
    },
    {
     "data": {
      "text/html": [
       "<pre style=\"white-space:pre;overflow-x:auto;line-height:normal;font-family:Menlo,'DejaVu Sans Mono',consolas,'Courier New',monospace\"><span style=\"color: #ffff00; text-decoration-color: #ffff00\">Use Exllama stream:</span>\n",
       "</pre>\n"
      ],
      "text/plain": [
       "\u001b[93mUse Exllama stream:\u001b[0m\n"
      ]
     },
     "metadata": {},
     "output_type": "display_data"
    },
    {
     "name": "stdout",
     "output_type": "stream",
     "text": [
      " A young girl found a lost puppy and took it home to care for it"
     ]
    }
   ],
   "source": [
    "# Use openai\n",
    "if os.environ.get(\"OPENAI_API_KEY\"):\n",
    "    console.print(\"[yellow]Use GPT-4o stream:[/]\")\n",
    "    response=client.chat.completions.create(model=\"gpt-4o\",messages=[{\"role\":\"user\",\"content\":\"Tell me a one sentence story\"}],stream=True)\n",
    "    for chunk in response:\n",
    "        chunk = chunk.extract()\n",
    "        if chunk and type(chunk) is str:\n",
    "            print(chunk,end=\"\",flush=True)\n",
    "print()\n",
    "# Use exllama\n",
    "console.print(\"[bright_yellow]Use Exllama stream:[/]\")\n",
    "response=client.chat.completions.create(model=\"exllamav2-mistral7b\",messages=[{\"role\":\"user\",\"content\":\"Tell me a one sentence story\"}],stream=True)\n",
    "for chunk in response:\n",
    "    chunk = chunk.extract()\n",
    "    if chunk and type(chunk) is str:\n",
    "            print(chunk,end=\"\",flush=True)\n",
    "\n"
   ]
  },
  {
   "cell_type": "markdown",
   "metadata": {},
   "source": [
    "d) Create Tool Call"
   ]
  },
  {
   "cell_type": "code",
   "execution_count": 4,
   "metadata": {},
   "outputs": [
    {
     "data": {
      "text/html": [
       "<pre style=\"white-space:pre;overflow-x:auto;line-height:normal;font-family:Menlo,'DejaVu Sans Mono',consolas,'Courier New',monospace\"><span style=\"color: #ffff00; text-decoration-color: #ffff00\">Use Exllama create:</span>\n",
       "</pre>\n"
      ],
      "text/plain": [
       "\u001b[93mUse Exllama create:\u001b[0m\n"
      ]
     },
     "metadata": {},
     "output_type": "display_data"
    },
    {
     "data": {
      "text/html": [
       "<pre style=\"white-space:pre;overflow-x:auto;line-height:normal;font-family:Menlo,'DejaVu Sans Mono',consolas,'Courier New',monospace\"><span style=\"color: #ffffff; text-decoration-color: #ffffff; font-weight: bold; font-style: italic\">{</span>\n",
       "<span style=\"color: #ffffff; text-decoration-color: #ffffff; font-style: italic\">  </span><span style=\"color: #ffffff; text-decoration-color: #ffffff; font-style: italic\">\"type\"</span><span style=\"color: #ffffff; text-decoration-color: #ffffff; font-style: italic\">: </span><span style=\"color: #ffffff; text-decoration-color: #ffffff; font-style: italic\">\"function\"</span><span style=\"color: #ffffff; text-decoration-color: #ffffff; font-style: italic\">,</span>\n",
       "<span style=\"color: #ffffff; text-decoration-color: #ffffff; font-style: italic\">  </span><span style=\"color: #ffffff; text-decoration-color: #ffffff; font-style: italic\">\"name\"</span><span style=\"color: #ffffff; text-decoration-color: #ffffff; font-style: italic\">: </span><span style=\"color: #ffffff; text-decoration-color: #ffffff; font-style: italic\">\"google\"</span><span style=\"color: #ffffff; text-decoration-color: #ffffff; font-style: italic\">,</span>\n",
       "<span style=\"color: #ffffff; text-decoration-color: #ffffff; font-style: italic\">  </span><span style=\"color: #ffffff; text-decoration-color: #ffffff; font-style: italic\">\"arguments\"</span><span style=\"color: #ffffff; text-decoration-color: #ffffff; font-style: italic\">: </span><span style=\"color: #ffffff; text-decoration-color: #ffffff; font-style: italic\">\"{\\\"search_query\\\": \\\"current time Singapore\\\"}\"</span>\n",
       "<span style=\"color: #ffffff; text-decoration-color: #ffffff; font-weight: bold; font-style: italic\">}</span>\n",
       "</pre>\n"
      ],
      "text/plain": [
       "\u001b[1;3;97m{\u001b[0m\n",
       "\u001b[3;97m  \u001b[0m\u001b[3;97m\"type\"\u001b[0m\u001b[3;97m: \u001b[0m\u001b[3;97m\"function\"\u001b[0m\u001b[3;97m,\u001b[0m\n",
       "\u001b[3;97m  \u001b[0m\u001b[3;97m\"name\"\u001b[0m\u001b[3;97m: \u001b[0m\u001b[3;97m\"google\"\u001b[0m\u001b[3;97m,\u001b[0m\n",
       "\u001b[3;97m  \u001b[0m\u001b[3;97m\"arguments\"\u001b[0m\u001b[3;97m: \u001b[0m\u001b[3;97m\"\u001b[0m\u001b[3;97m{\u001b[0m\u001b[3;97m\\\"search_query\\\": \\\"current time Singapore\\\"\u001b[0m\u001b[3;97m}\u001b[0m\u001b[3;97m\"\u001b[0m\n",
       "\u001b[1;3;97m}\u001b[0m\n"
      ]
     },
     "metadata": {},
     "output_type": "display_data"
    }
   ],
   "source": [
    "# Use openai\n",
    "if os.environ.get(\"OPENAI_API_KEY\"):\n",
    "    console.print(\"[yellow]Use GPT-4o create tool call:[/]\")\n",
    "    response = client.chat.completions.create(\n",
    "        model=\"gpt-4o\",\n",
    "        messages=[{\"role\": \"user\", \"content\": \"What is the current time in Singapore?\"}],\n",
    "        tools=[\n",
    "            {\n",
    "                \"type\": \"function\",\n",
    "                \"function\": {\n",
    "                    \"name\": \"google\",\n",
    "                    \"description\": \"The 'google' function is a powerful tool that allows the AI to gather external information from the internet using Google search. It can be invoked when the AI needs to answer a question or provide information that requires up-to-date, comprehensive, and diverse sources which are not inherently known by the AI. For instance, it can be used to find current date, current news, weather updates, latest sports scores, trending topics, specific facts, or even the current date and time. The usage of this tool should be considered when the user's query implies or explicitly requests recent or wide-ranging data, or when the AI's inherent knowledge base may not have the required or most current information. The 'search_query' parameter should be a concise and accurate representation of the information needed.\",\n",
    "                    \"parameters\": {\n",
    "                        \"type\": \"object\",\n",
    "                        \"properties\": {\n",
    "                            \"search_query\": {\n",
    "                                \"type\": \"string\",\n",
    "                                \"description\": \"The search query to search google with. For example, to find the current date or time, use 'current date' or 'current time' respectively.\"\n",
    "                            }\n",
    "                        },\n",
    "                        \"required\": [\"search_query\"]\n",
    "                    }\n",
    "                }\n",
    "            }\n",
    "        ],\n",
    "        tool_choice=\"required\",\n",
    "        stream=False\n",
    "    )\n",
    "    console.print(f\"[bright_white italic]{json.dumps(response.extract(),indent=2)}[/]\")\n",
    "    print()\n",
    "\n",
    "# Use exllama\n",
    "console.print(\"[bright_yellow]Use Exllama create:[/]\")\n",
    "response = client.chat.completions.create(\n",
    "    model=\"exllamav2-mistral7b\",\n",
    "    messages=[{\"role\": \"user\", \"content\": \"What is the current time in Singapore?\"},\n",
    "              {\"role\": \"assistant\",\"content\":\"\"}],\n",
    "    tools=[\n",
    "        {\n",
    "            \"type\": \"function\",\n",
    "            \"function\": {\n",
    "                \"name\": \"google\",\n",
    "                \"description\": \"The 'google' function is a powerful tool that allows the AI to gather external information from the internet using Google search. It can be invoked when the AI needs to answer a question or provide information that requires up-to-date, comprehensive, and diverse sources which are not inherently known by the AI. For instance, it can be used to find current date, current news, weather updates, latest sports scores, trending topics, specific facts, or even the current date and time. The usage of this tool should be considered when the user's query implies or explicitly requests recent or wide-ranging data, or when the AI's inherent knowledge base may not have the required or most current information. The 'search_query' parameter should be a concise and accurate representation of the information needed.\",\n",
    "                \"parameters\": {\n",
    "                    \"type\": \"object\",\n",
    "                    \"properties\": {\n",
    "                        \"search_query\": {\n",
    "                            \"type\": \"string\",\n",
    "                            \"description\": \"The search query to search google with. For example, to find the current date or time, use 'current date' or 'current time' respectively.\"\n",
    "                        }\n",
    "                    },\n",
    "                    \"required\": [\"search_query\"]\n",
    "                }\n",
    "            }\n",
    "        }\n",
    "    ],\n",
    "    tool_choice=\"required\",\n",
    "    stream=False\n",
    ")\n",
    "import json\n",
    "console.print(f\"[bright_white italic]{json.dumps(response.extract(),indent=2)}[/]\")\n"
   ]
  },
  {
   "cell_type": "markdown",
   "metadata": {},
   "source": [
    "e) JSON Mode"
   ]
  },
  {
   "cell_type": "code",
   "execution_count": 5,
   "metadata": {},
   "outputs": [
    {
     "data": {
      "text/html": [
       "<pre style=\"white-space:pre;overflow-x:auto;line-height:normal;font-family:Menlo,'DejaVu Sans Mono',consolas,'Courier New',monospace\"><span style=\"color: #ffff00; text-decoration-color: #ffff00\">Use Exllama create:</span>\n",
       "</pre>\n"
      ],
      "text/plain": [
       "\u001b[93mUse Exllama create:\u001b[0m\n"
      ]
     },
     "metadata": {},
     "output_type": "display_data"
    },
    {
     "data": {
      "text/html": [
       "<pre style=\"white-space:pre;overflow-x:auto;line-height:normal;font-family:Menlo,'DejaVu Sans Mono',consolas,'Courier New',monospace\"><span style=\"color: #ffffff; text-decoration-color: #ffffff; font-weight: bold; font-style: italic\">{</span>\n",
       "<span style=\"color: #ffffff; text-decoration-color: #ffffff; font-style: italic\">  </span><span style=\"color: #ffffff; text-decoration-color: #ffffff; font-style: italic\">\"type\"</span><span style=\"color: #ffffff; text-decoration-color: #ffffff; font-style: italic\">: </span><span style=\"color: #ffffff; text-decoration-color: #ffffff; font-style: italic\">\"content\"</span><span style=\"color: #ffffff; text-decoration-color: #ffffff; font-style: italic\">,</span>\n",
       "<span style=\"color: #ffffff; text-decoration-color: #ffffff; font-style: italic\">  </span><span style=\"color: #ffffff; text-decoration-color: #ffffff; font-style: italic\">\"content\"</span><span style=\"color: #ffffff; text-decoration-color: #ffffff; font-style: italic\">: </span><span style=\"color: #ffffff; text-decoration-color: #ffffff; font-style: italic\">\" {\\n    \\\"title\\\": \\\"Foundation\\\",\\n    \\\"summary\\\": \\\"Foundation is a science fiction novel by </span>\n",
       "<span style=\"color: #ffffff; text-decoration-color: #ffffff; font-style: italic\">American writer Isaac Asimov. It is the first published in his Foundation Trilogy (later expanded into the </span>\n",
       "<span style=\"color: #ffffff; text-decoration-color: #ffffff; font-style: italic\">Foundation series). Foundation is a cycle of five interrelated short stories, first published as a single book by </span>\n",
       "<span style=\"color: #ffffff; text-decoration-color: #ffffff; font-style: italic\">Gnome Press in 1951. Collectively they tell the early story of the Foundation, an institute founded by </span>\n",
       "<span style=\"color: #ffffff; text-decoration-color: #ffffff; font-style: italic\">psychohistorian Hari Seldon to preserve the best of galactic civilization after the collapse of the Galactic </span>\n",
       "<span style=\"color: #ffffff; text-decoration-color: #ffffff; font-style: italic\">Empire.\\\",\\n    \\\"author\\\": \\\"Isaac Asimov\\\",\\n    \\\"published_year\\\": 1951\\n}\"</span>\n",
       "<span style=\"color: #ffffff; text-decoration-color: #ffffff; font-weight: bold; font-style: italic\">}</span>\n",
       "</pre>\n"
      ],
      "text/plain": [
       "\u001b[1;3;97m{\u001b[0m\n",
       "\u001b[3;97m  \u001b[0m\u001b[3;97m\"type\"\u001b[0m\u001b[3;97m: \u001b[0m\u001b[3;97m\"content\"\u001b[0m\u001b[3;97m,\u001b[0m\n",
       "\u001b[3;97m  \u001b[0m\u001b[3;97m\"content\"\u001b[0m\u001b[3;97m: \u001b[0m\u001b[3;97m\" \u001b[0m\u001b[3;97m{\u001b[0m\u001b[3;97m\\n    \\\"title\\\": \\\"Foundation\\\",\\n    \\\"summary\\\": \\\"Foundation is a science fiction novel by \u001b[0m\n",
       "\u001b[3;97mAmerican writer Isaac Asimov. It is the first published in his Foundation Trilogy \u001b[0m\u001b[3;97m(\u001b[0m\u001b[3;97mlater expanded into the \u001b[0m\n",
       "\u001b[3;97mFoundation series\u001b[0m\u001b[3;97m)\u001b[0m\u001b[3;97m. Foundation is a cycle of five interrelated short stories, first published as a single book by \u001b[0m\n",
       "\u001b[3;97mGnome Press in 1951. Collectively they tell the early story of the Foundation, an institute founded by \u001b[0m\n",
       "\u001b[3;97mpsychohistorian Hari Seldon to preserve the best of galactic civilization after the collapse of the Galactic \u001b[0m\n",
       "\u001b[3;97mEmpire.\\\",\\n    \\\"author\\\": \\\"Isaac Asimov\\\",\\n    \\\"published_year\\\": 1951\\n\u001b[0m\u001b[3;97m}\u001b[0m\u001b[3;97m\"\u001b[0m\n",
       "\u001b[1;3;97m}\u001b[0m\n"
      ]
     },
     "metadata": {},
     "output_type": "display_data"
    }
   ],
   "source": [
    "from pydantic import BaseModel\n",
    "class Book(BaseModel):\n",
    "    title: str\n",
    "    summary: str\n",
    "    author: str\n",
    "    published_year: int\n",
    "response_model = Book.schema()\n",
    "\n",
    "data = \"\"\"Foundation is a science fiction novel by American writer\n",
    "        Isaac Asimov. It is the first published in his Foundation Trilogy (later\n",
    "        expanded into the Foundation series). Foundation is a cycle of five\n",
    "        interrelated short stories, first published as a single book by Gnome Press\n",
    "        in 1951. Collectively they tell the early story of the Foundation,\n",
    "        an institute founded by psychohistorian Hari Seldon to preserve the best\n",
    "        of galactic civilization after the collapse of the Galactic Empire.\"\"\"\n",
    "\n",
    "# Use openai\n",
    "if os.environ.get(\"OPENAI_API_KEY\"):\n",
    "\n",
    "    console.print(\"[yellow]Use GPT-4o stream:[/]\")\n",
    "\n",
    "    response = client.chat.completions.create(\n",
    "        model=\"gpt-4o\",\n",
    "        tool_choice=\"none\",\n",
    "        messages=[{\"role\": \"user\", \"content\": f\"Refer to the following content:\\n\\n{data}\\n\\nFormat it into JSON validated by this schema:{response_model}\"}],\n",
    "        stream=False\n",
    "    )\n",
    "    console.print(f\"[bright_white italic]{json.dumps(response.extract(), indent=2)}[/]\")\n",
    "    print()\n",
    "\n",
    "# Use exllama\n",
    "console.print(\"[bright_yellow]Use Exllama create:[/]\")\n",
    "response = client.chat.completions.create(\n",
    "    model=\"exllamav2-mistral7b\",\n",
    "    messages=[{\"role\": \"user\", \"content\": f\"Refer to the following content:\\n\\n{data}\\n\\nFormat it into JSON validated by this schema:{response_model}\"}],\n",
    "    response_model=response_model,\n",
    "    tool_choice=\"none\",\n",
    "    stream=False\n",
    ")\n",
    "import json\n",
    "console.print(f\"[bright_white italic]{json.dumps(response.extract(), indent=2)}[/]\")\n"
   ]
  }
 ],
 "metadata": {
  "kernelspec": {
   "display_name": ".venv",
   "language": "python",
   "name": "python3"
  },
  "language_info": {
   "codemirror_mode": {
    "name": "ipython",
    "version": 3
   },
   "file_extension": ".py",
   "mimetype": "text/x-python",
   "name": "python",
   "nbconvert_exporter": "python",
   "pygments_lexer": "ipython3",
   "version": "3.10.12"
  }
 },
 "nbformat": 4,
 "nbformat_minor": 2
}

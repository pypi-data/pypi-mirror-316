{
    "cells": [
        {
            "cell_type": "markdown",
            "metadata": {},
            "source": [
                "# RAG(Retrieval-Augmented-Generation) Client\n",
                "\n",
                "## 1. Download Model\n",
                "\n",
                "```bash\n",
                "gai pull instructor-sentencepiece\n",
                "```\n",
                "\n",
                "## 2. Start RAG Service\n",
                "\n",
                "* Go to /gai\n",
                "\n",
                "* Open docker-compose.yml\n",
                "\n",
                "* Make sure that the following section is not commented.\n",
                "\n",
                "```yaml\n",
                "    gai-rag-svr:\n",
                "        image: kakkoii1337/gai-rag-svr:1.0.17\n",
                "        container_name: gai-rag-svr\n",
                "        ...\n",
                "```\n",
                "\n",
                "* Run the command:\n",
                "\n",
                "```sh\n",
                "docker-compose up\n",
                "```\n",
                "\n"
            ]
        },
        {
            "cell_type": "markdown",
            "metadata": {},
            "source": [
                "## Example 1: Ask about for a Web Page"
            ]
        },
        {
            "cell_type": "markdown",
            "metadata": {},
            "source": [
                "### Step 1: Scrape text from the web for testing\n",
                "\n",
                "Scrape a speech from the web and save it to a file."
            ]
        },
        {
            "cell_type": "code",
            "execution_count": 1,
            "metadata": {},
            "outputs": [],
            "source": [
                "import os\n",
                "os.environ[\"LOG_LEVEL\"]=\"INFO\"\n",
                "from gai.lib.tools.scraper import Scraper\n",
                "scraper=Scraper()\n",
                "text,links = scraper.scrape(\"https://www.pmo.gov.sg/Newsroom/national-day-rally-2023\")\n",
                "import tempfile\n",
                "with tempfile.NamedTemporaryFile(mode=\"w\", delete=False) as f:\n",
                "    f.write(text)\n",
                "    file_path = f.name"
            ]
        },
        {
            "cell_type": "markdown",
            "metadata": {},
            "source": [
                "### Step 2: Index the file"
            ]
        },
        {
            "cell_type": "code",
            "execution_count": 2,
            "metadata": {},
            "outputs": [
                {
                    "name": "stderr",
                    "output_type": "stream",
                    "text": [
                        "\u001b[42m\u001b[30mINFO    \u001b[0m \u001b[32mConnected to ws://localhost:12036/gen/v1/rag/index-file/ws/demo\u001b[0m\n"
                    ]
                },
                {
                    "name": "stdout",
                    "output_type": "stream",
                    "text": [
                        "async_callback: {'message': 'Request received.'}\n",
                        "async_callback: {'message': 'Breaking down document into chunks ...'}\n",
                        "async_callback: {'message': 'Start indexing...'}\n",
                        "async_callback: {'progress': 2}\n",
                        "async_callback: {'progress': 4}\n",
                        "async_callback: {'progress': 6}\n",
                        "async_callback: {'progress': 8}\n",
                        "async_callback: {'progress': 10}\n",
                        "async_callback: {'progress': 12}\n",
                        "async_callback: {'progress': 14}\n",
                        "async_callback: {'progress': 16}\n",
                        "async_callback: {'progress': 18}\n",
                        "async_callback: {'progress': 20}\n",
                        "async_callback: {'progress': 22}\n",
                        "async_callback: {'progress': 24}\n",
                        "async_callback: {'progress': 26}\n",
                        "async_callback: {'progress': 28}\n",
                        "async_callback: {'progress': 30}\n",
                        "async_callback: {'progress': 32}\n",
                        "async_callback: {'progress': 34}\n",
                        "async_callback: {'progress': 36}\n",
                        "async_callback: {'progress': 38}\n",
                        "async_callback: {'progress': 40}\n",
                        "async_callback: {'progress': 42}\n",
                        "async_callback: {'progress': 44}\n",
                        "async_callback: {'progress': 46}\n",
                        "async_callback: {'progress': 48}\n",
                        "async_callback: {'progress': 51}\n",
                        "async_callback: {'progress': 53}\n",
                        "async_callback: {'progress': 55}\n",
                        "async_callback: {'progress': 57}\n",
                        "async_callback: {'progress': 59}\n",
                        "async_callback: {'progress': 61}\n",
                        "async_callback: {'progress': 63}\n",
                        "async_callback: {'progress': 65}\n",
                        "async_callback: {'progress': 67}\n",
                        "async_callback: {'progress': 69}\n",
                        "async_callback: {'progress': 71}\n",
                        "async_callback: {'progress': 73}\n",
                        "async_callback: {'progress': 75}\n",
                        "async_callback: {'progress': 77}\n",
                        "async_callback: {'progress': 79}\n",
                        "async_callback: {'progress': 81}\n",
                        "async_callback: {'progress': 83}\n",
                        "async_callback: {'progress': 85}\n",
                        "async_callback: {'progress': 87}\n",
                        "async_callback: {'progress': 89}\n",
                        "async_callback: {'progress': 91}\n",
                        "async_callback: {'progress': 93}\n",
                        "async_callback: {'progress': 95}\n",
                        "async_callback: {'progress': 97}\n",
                        "async_callback: {'progress': 100}\n"
                    ]
                }
            ],
            "source": [
                "# Load RAG client\n",
                "from gai.rag.client.rag_client_async import RagClientAsync\n",
                "rag = RagClientAsync({\n",
                "        \"type\": \"rag\",\n",
                "        \"url\": \"http://localhost:12036/gen/v1/rag\",\n",
                "        \"ws_url\": \"ws://localhost:12036/gen/v1/rag/index-file/ws\"\n",
                "})\n",
                "\n",
                "# Create callback\n",
                "import json\n",
                "async def async_callback(text):\n",
                "    jsoned = json.loads(text)\n",
                "    print(f\"async_callback: {jsoned}\")\n",
                "\n",
                "# Index the sample speech\n",
                "result = await rag.index_document_async(\n",
                "    collection_name=\"demo\",\n",
                "    file_path=file_path,\n",
                "    file_type=\"txt\",\n",
                "    title=\"2023 National Day Rally Speech\",\n",
                "    source=\"https://www.pmo.gov.sg/Newsroom/national-day-rally-2023\",\n",
                "    async_callback=async_callback,\n",
                ")\n"
            ]
        },
        {
            "cell_type": "markdown",
            "metadata": {},
            "source": [
                "### Step 3. Asking a question"
            ]
        },
        {
            "cell_type": "code",
            "execution_count": 3,
            "metadata": {},
            "outputs": [
                {
                    "name": "stdout",
                    "output_type": "stream",
                    "text": [
                        "{'documents': 'and the Merdeka Generation; “Seniors”, because you will soon retire, or maybe you have recently retired. Young Seniors are in a unique position today. Compared to the Pioneer and Merdeka Generations, you have benefited more from Singapore’s growth, and generally done better in life. But compared to workers younger than you, in their 30s and 40s today, you have generally earned less over your lifetimes. You have also had less time to benefit from improvements to the CPF system, and so have built up less retirement savings. Young Seniors are also in a particularly sandwiched phase of your lives. You have to shoulder the responsibility of caring for both the young and old in your families. Your kids may be young adults, but often are not yet fully independent and still live in the same household. Many of you Young Seniors also have elderly parents at home, who may be beset with the infirmities of old age. You have to shuttle them to medical appointments and hospital visits, plus attend', 'metadatas': {'Abstract': '', 'ChunkGroupId': 'b62ccaa6-87d3-43eb-9282-ee252feb29bc', 'DocumentId': 'HjXcCqm-IL_9pdam6K8_Qcr7xvqxwVrYNRHlCRDeX6g', 'Keywords': '', 'PublishedDate': '', 'Source': 'https://www.pmo.gov.sg/Newsroom/national-day-rally-2023', 'Title': '2023 National Day Rally Speech'}, 'distances': 0.11369931697845459, 'ids': 'f4208808-2583-4e5e-ba05-0f7b3b5624a9'}\n"
                    ]
                }
            ],
            "source": [
                "# Load RAG client\n",
                "from gai.rag.client.rag_client_async import RagClientAsync\n",
                "rag = RagClientAsync({\n",
                "        \"type\": \"rag\",\n",
                "        \"url\": \"http://localhost:12036/gen/v1/rag\",\n",
                "        \"ws_url\": \"ws://localhost:12036/gen/v1/rag/index-file/ws\"\n",
                "})\n",
                "\n",
                "# Retrieve from query\n",
                "results = await rag.retrieve_async(\n",
                "    collection_name=\"demo\",\n",
                "    query_texts=\"Who are the young seniors?\",\n",
                "    n_results=1\n",
                ")\n",
                "for result in results:\n",
                "    print(result)\n"
            ]
        },
        {
            "cell_type": "markdown",
            "metadata": {},
            "source": [
                "### 3. List Collections"
            ]
        },
        {
            "cell_type": "code",
            "execution_count": 4,
            "metadata": {},
            "outputs": [
                {
                    "data": {
                        "text/plain": [
                            "{'collections': ['demo']}"
                        ]
                    },
                    "execution_count": 4,
                    "metadata": {},
                    "output_type": "execute_result"
                }
            ],
            "source": [
                "# Load RAG client\n",
                "from gai.rag.client.rag_client_async import RagClientAsync\n",
                "rag = RagClientAsync({\n",
                "        \"type\": \"rag\",\n",
                "        \"url\": \"http://localhost:12036/gen/v1/rag\",\n",
                "        \"ws_url\": \"ws://localhost:12036/gen/v1/rag/index-file/ws\"\n",
                "})\n",
                "\n",
                "await rag.list_collections_async()"
            ]
        },
        {
            "cell_type": "markdown",
            "metadata": {},
            "source": [
                "### 4. List Document Headers"
            ]
        },
        {
            "cell_type": "code",
            "execution_count": 5,
            "metadata": {},
            "outputs": [
                {
                    "data": {
                        "text/plain": [
                            "[IndexedDocPydantic(Id='HjXcCqm-IL_9pdam6K8_Qcr7xvqxwVrYNRHlCRDeX6g', CollectionName='demo', ByteSize=44189, FileName='tmpaclyrqnl', FileType='txt', File=None, Source='https://www.pmo.gov.sg/Newsroom/national-day-rally-2023', Abstract=None, Authors='', Title='2023 National Day Rally Speech', Publisher='', PublishedDate=None, Comments='', Keywords='', CreatedAt=datetime.datetime(2024, 10, 28, 10, 13, 59, 950605), UpdatedAt=datetime.datetime(2024, 10, 28, 10, 13, 59, 950614), IsActive=True, ChunkGroups=[IndexedDocChunkGroupPydantic(Id='b62ccaa6-87d3-43eb-9282-ee252feb29bc', DocumentId='HjXcCqm-IL_9pdam6K8_Qcr7xvqxwVrYNRHlCRDeX6g', SplitAlgo='recursive_split', ChunkCount=49, ChunkSize=1000, Overlap=100, IsActive=True, ChunksDir='/tmp/chunks/0553499d446a406a81ccd17f03c3a253')])]"
                        ]
                    },
                    "execution_count": 5,
                    "metadata": {},
                    "output_type": "execute_result"
                }
            ],
            "source": [
                "docs = await rag.list_documents_async(collection_name=\"demo\")\n",
                "docs"
            ]
        },
        {
            "cell_type": "markdown",
            "metadata": {},
            "source": [
                "### 5. Download File"
            ]
        },
        {
            "cell_type": "code",
            "execution_count": 6,
            "metadata": {},
            "outputs": [],
            "source": [
                "await rag.get_document_file_async(collection_name=\"demo\",document_id=docs[0].Id)"
            ]
        },
        {
            "cell_type": "markdown",
            "metadata": {},
            "source": [
                "---\n",
                "\n",
                "## Appendix: Multi-Step Indexing\n",
                "\n",
                "This achieves the same outcome as step 2 but broken down into multiple steps for ease of debugging. For this demo, we shall use a PDF file.\n",
                "\n",
                "### Step 0: Setup"
            ]
        },
        {
            "cell_type": "code",
            "execution_count": 1,
            "metadata": {},
            "outputs": [],
            "source": [
                "import os\n",
                "from gai.rag.client.rag_client_async import RagClientAsync\n",
                "\n",
                "rag = RagClientAsync({\n",
                "    \"type\": \"rag\",\n",
                "    \"url\": \"http://localhost:12036/gen/v1/rag\",\n",
                "    \"ws_url\": \"ws://localhost:12036/gen/v1/rag/index-file/ws\",\n",
                "})\n"
            ]
        },
        {
            "cell_type": "markdown",
            "metadata": {},
            "source": [
                "### Step 1: Create header"
            ]
        },
        {
            "cell_type": "code",
            "execution_count": 2,
            "metadata": {},
            "outputs": [
                {
                    "data": {
                        "text/plain": [
                            "IndexedDocPydantic(Id='Mm1GAmuGfs3VoA2sit0njabQGAZ75eyfszIkAxGY5e4', CollectionName='demo', ByteSize=633805, FileName='ReAct-2210.03629.pdf', FileType='.pdf', File=None, Source='https://arxiv.org/abs/2210.03629', Abstract=None, Authors='', Title='ReAct: Synergizing Reasoning and Acting in Language Models', Publisher='', PublishedDate=None, Comments='', Keywords='', CreatedAt=datetime.datetime(2024, 10, 28, 10, 57, 42, 969178), UpdatedAt=datetime.datetime(2024, 10, 28, 10, 57, 42, 969187), IsActive=True, ChunkGroups=[])"
                        ]
                    },
                    "execution_count": 2,
                    "metadata": {},
                    "output_type": "execute_result"
                }
            ],
            "source": [
                "here = os.path.dirname(__name__)\n",
                "file_path=os.path.join(here,\"ReAct-2210.03629.pdf\")\n",
                "doc_header = await rag.step_header_async(\n",
                "    collection_name=\"demo\",\n",
                "    file_path=file_path,\n",
                "    title=\"ReAct: Synergizing Reasoning and Acting in Language Models\",\n",
                "    source=\"https://arxiv.org/abs/2210.03629\",\n",
                ")\n",
                "doc_header"
            ]
        },
        {
            "cell_type": "markdown",
            "metadata": {},
            "source": [
                "### Step 2: Split Document"
            ]
        },
        {
            "cell_type": "code",
            "execution_count": 3,
            "metadata": {},
            "outputs": [
                {
                    "data": {
                        "text/plain": [
                            "IndexedDocChunkGroupPydantic(Id='74dd9287-74cd-4f37-9d49-7616660793c7', DocumentId='Mm1GAmuGfs3VoA2sit0njabQGAZ75eyfszIkAxGY5e4', SplitAlgo='recursive_split', ChunkCount=114, ChunkSize=1000, Overlap=100, IsActive=True, ChunksDir='/tmp/chunks/89141cf2760b4dc888f4d8da4eff444d')"
                        ]
                    },
                    "execution_count": 3,
                    "metadata": {},
                    "output_type": "execute_result"
                }
            ],
            "source": [
                "chunkgroup = await rag.step_split_async(\n",
                "    collection_name=\"demo\",\n",
                "    document_id=doc_header.Id,\n",
                "    chunk_size=1000,\n",
                "    chunk_overlap=100\n",
                ")\n",
                "chunkgroup"
            ]
        },
        {
            "cell_type": "markdown",
            "metadata": {},
            "source": [
                "### Step 3: Index Chunks"
            ]
        },
        {
            "cell_type": "code",
            "execution_count": 4,
            "metadata": {},
            "outputs": [
                {
                    "name": "stdout",
                    "output_type": "stream",
                    "text": [
                        "async_callback: {'progress': 0}\n",
                        "async_callback: {'progress': 1}\n",
                        "async_callback: {'progress': 2}\n",
                        "async_callback: {'progress': 3}\n",
                        "async_callback: {'progress': 4}\n",
                        "async_callback: {'progress': 5}\n",
                        "async_callback: {'progress': 6}\n",
                        "async_callback: {'progress': 7}\n",
                        "async_callback: {'progress': 7}\n",
                        "async_callback: {'progress': 8}\n",
                        "async_callback: {'progress': 9}\n",
                        "async_callback: {'progress': 10}\n",
                        "async_callback: {'progress': 11}\n",
                        "async_callback: {'progress': 12}\n",
                        "async_callback: {'progress': 13}\n",
                        "async_callback: {'progress': 14}\n",
                        "async_callback: {'progress': 14}\n",
                        "async_callback: {'progress': 15}\n",
                        "async_callback: {'progress': 16}\n",
                        "async_callback: {'progress': 17}\n",
                        "async_callback: {'progress': 18}\n",
                        "async_callback: {'progress': 19}\n",
                        "async_callback: {'progress': 20}\n",
                        "async_callback: {'progress': 21}\n",
                        "async_callback: {'progress': 21}\n",
                        "async_callback: {'progress': 22}\n",
                        "async_callback: {'progress': 23}\n",
                        "async_callback: {'progress': 24}\n",
                        "async_callback: {'progress': 25}\n",
                        "async_callback: {'progress': 26}\n",
                        "async_callback: {'progress': 27}\n",
                        "async_callback: {'progress': 28}\n",
                        "async_callback: {'progress': 28}\n",
                        "async_callback: {'progress': 29}\n",
                        "async_callback: {'progress': 30}\n",
                        "async_callback: {'progress': 31}\n",
                        "async_callback: {'progress': 32}\n",
                        "async_callback: {'progress': 33}\n",
                        "async_callback: {'progress': 34}\n",
                        "async_callback: {'progress': 35}\n",
                        "async_callback: {'progress': 35}\n",
                        "async_callback: {'progress': 36}\n",
                        "async_callback: {'progress': 37}\n",
                        "async_callback: {'progress': 38}\n",
                        "async_callback: {'progress': 39}\n",
                        "async_callback: {'progress': 40}\n",
                        "async_callback: {'progress': 41}\n",
                        "async_callback: {'progress': 42}\n",
                        "async_callback: {'progress': 42}\n",
                        "async_callback: {'progress': 43}\n",
                        "async_callback: {'progress': 44}\n",
                        "async_callback: {'progress': 45}\n",
                        "async_callback: {'progress': 46}\n",
                        "async_callback: {'progress': 47}\n",
                        "async_callback: {'progress': 48}\n",
                        "async_callback: {'progress': 49}\n",
                        "async_callback: {'progress': 50}\n",
                        "async_callback: {'progress': 50}\n",
                        "async_callback: {'progress': 51}\n",
                        "async_callback: {'progress': 52}\n",
                        "async_callback: {'progress': 53}\n",
                        "async_callback: {'progress': 54}\n",
                        "async_callback: {'progress': 55}\n",
                        "async_callback: {'progress': 56}\n",
                        "async_callback: {'progress': 57}\n",
                        "async_callback: {'progress': 57}\n",
                        "async_callback: {'progress': 58}\n",
                        "async_callback: {'progress': 59}\n",
                        "async_callback: {'progress': 60}\n",
                        "async_callback: {'progress': 61}\n",
                        "async_callback: {'progress': 62}\n",
                        "async_callback: {'progress': 63}\n",
                        "async_callback: {'progress': 64}\n",
                        "async_callback: {'progress': 64}\n",
                        "async_callback: {'progress': 65}\n",
                        "async_callback: {'progress': 66}\n",
                        "async_callback: {'progress': 67}\n",
                        "async_callback: {'progress': 68}\n",
                        "async_callback: {'progress': 69}\n",
                        "async_callback: {'progress': 70}\n",
                        "async_callback: {'progress': 71}\n",
                        "async_callback: {'progress': 71}\n",
                        "async_callback: {'progress': 72}\n",
                        "async_callback: {'progress': 73}\n",
                        "async_callback: {'progress': 74}\n",
                        "async_callback: {'progress': 75}\n",
                        "async_callback: {'progress': 76}\n",
                        "async_callback: {'progress': 77}\n",
                        "async_callback: {'progress': 78}\n",
                        "async_callback: {'progress': 78}\n",
                        "async_callback: {'progress': 79}\n",
                        "async_callback: {'progress': 80}\n",
                        "async_callback: {'progress': 81}\n",
                        "async_callback: {'progress': 82}\n",
                        "async_callback: {'progress': 83}\n",
                        "async_callback: {'progress': 84}\n",
                        "async_callback: {'progress': 85}\n",
                        "async_callback: {'progress': 85}\n",
                        "async_callback: {'progress': 86}\n",
                        "async_callback: {'progress': 87}\n",
                        "async_callback: {'progress': 88}\n",
                        "async_callback: {'progress': 89}\n",
                        "async_callback: {'progress': 90}\n",
                        "async_callback: {'progress': 91}\n",
                        "async_callback: {'progress': 92}\n",
                        "async_callback: {'progress': 92}\n",
                        "async_callback: {'progress': 93}\n",
                        "async_callback: {'progress': 94}\n",
                        "async_callback: {'progress': 95}\n",
                        "async_callback: {'progress': 96}\n",
                        "async_callback: {'progress': 97}\n",
                        "async_callback: {'progress': 98}\n",
                        "async_callback: {'progress': 99}\n"
                    ]
                },
                {
                    "data": {
                        "text/plain": [
                            "IndexedDocChunkIdsPydantic(DocumentId='Mm1GAmuGfs3VoA2sit0njabQGAZ75eyfszIkAxGY5e4', ChunkgroupId='74dd9287-74cd-4f37-9d49-7616660793c7', ChunkIds=['46ecd90f-6ab3-4828-ad42-a04f09de5f0f', '40aaad50-ad2d-4225-8875-8662c777da79', '28127482-86aa-4782-9474-c3a09c572aa8', 'e3983bcf-da83-4bb6-9397-057a3f795ee9', '9467ee8e-39b2-496d-9eae-892c5acbcb97', '9e3db04a-99ea-4ca1-b21d-7d4150a6ab49', '872ebe50-8616-41f0-be0a-4d09694b0593', 'ce7aa147-b6f5-4d15-826f-7d0ddc42a7d4', 'a60d4c7a-8852-4072-a1dd-278525d9dcc4', 'ebe13569-14ee-42ae-bc15-679d3b72ae2e', '9b2afce2-97bf-4a6c-8d76-b1235689ec66', '55a2ed8b-f232-4b08-b56f-b00a82bfe3cf', 'abcb0085-e6a1-42bd-8056-7adbb3b1eeda', '2571d06d-4496-48ef-90f7-42fb8e6d60b6', '314884ed-9a83-4a04-a313-a45b8f603fcd', '77cf982a-9fdd-488a-bc42-46f73cf49389', '1bfed1da-49bf-4459-9190-f7a2b1269b99', '187d774b-f4fa-4dc6-a18b-13140f8f3265', '29fe75c3-0f6e-426e-9c56-0ba7fc382c10', 'bfb8122d-cd9d-4b2c-98bd-08a2208816f5', 'ebc1fcb2-85d5-4393-84e9-922f4f256e84', '48752e4c-befe-439a-b90c-00f47986a8ff', '342f729f-b5e7-4931-bfcb-4cb6b9140114', 'a956a106-bb70-4499-afcc-0e028e37bf23', '39ec0afd-1263-495c-9499-4bd27d25199f', '362b208f-e615-4e2b-9c4a-5282960ceba7', 'a137bf5e-be66-4f60-994c-ca1dc9231788', 'bbce33c5-431f-4fec-a462-acdf00a4374b', 'f5fe11e6-c321-4c87-9625-9e2055c0f607', '87ab6c58-1d48-493f-a858-4dbfe9778004', '157c92d1-3234-4e79-b365-3dc47f7416b4', 'c1a6e8e9-1cb9-429c-9d38-d7c253990ca1', 'ffa1adf7-1085-456f-a6cc-400d4d2518ea', '74d4ae72-3d79-49e9-847f-2c267c4b3fd9', 'ad424e46-9e51-49e1-87e0-d4fe82d2bdc7', '880052ce-8ba5-4d2b-9dee-f9d13ed5959a', '8c130e38-bec4-4342-b11c-8b197378f5d9', '392aeed1-b13d-4d05-a2c2-dd8b4a806b06', 'ab9ca0b7-2db5-4b8d-88db-ac04868111cd', 'f8c17bf3-8b91-4c7e-97d6-3f03d29689cc', '27bfd152-2104-4e32-b43e-96d5bcf66514', '601b5a83-5001-46d8-9a74-01b300342904', '0f783e08-a98c-4607-8c0f-862dc78943ae', '74744591-404c-4839-86fa-b25d2672ea8c', 'ce202d31-781d-4e1a-8a5a-a88da8265e84', '27c09105-8ba1-4872-a865-6aabc2970d5e', 'f36857cb-9d86-4ebe-9e4a-a67a531f1454', '2f7d0562-356b-4bbe-8375-c3e250b3d61b', 'b464f82d-298a-4884-8c50-ec409e425ead', 'd4dc2525-c670-4e54-a84a-b445f3b3f8ae', '3442aa74-ba2d-40f3-af30-765ba705610e', '10aa8cc1-586c-44f2-b64f-e31fccf1b63e', '249e0f77-51ad-4257-bb62-175fbbf30d91', 'cffda97e-60eb-4358-a473-e94b3e94eef2', 'f1abd00b-ee37-4c96-b17b-ac8564fd5577', 'cbab0043-8dfe-4d9e-b791-be5b2c558fa4', 'c47d61fc-ccd8-4d81-9825-fab27927fe10', '01dd8967-5025-4654-8968-3fcbec001031', '51a7016d-8f53-4549-9277-59f2b9b547db', '4590d776-a995-43cf-8ca4-73774525feaf', '8a42dfe7-5c7d-4b58-88b2-799a8f1ee9ae', 'e9988f8c-7c30-4f58-bff1-de7a85a42a3f', '71e5acad-d138-4ec3-ad07-68167ccde8df', 'f20a06e7-1f39-4cda-a93f-f9673a62b58e', 'aa3510de-e384-4789-bc5e-bd77e9aa9247', '71176b6f-09fa-4a00-8013-eb0e871094a1', 'd79c921f-e1f9-4f87-87fe-1dbda4ea0146', '109f11e7-e16b-485f-a204-a869ac548e82', '5caee3c4-01b9-4b1b-834e-f222b959f874', 'b75c44f5-314a-4719-9b59-c1ee2afa1538', 'a8698c9b-9982-4511-88fd-72ad2ae14d68', '1be1c1c6-a3e1-41b7-b362-fe79b8fdc3e4', 'a2b30635-de25-4c7f-b602-eb9a89b93562', '36225381-1377-4c43-b5f1-ad9a4cd7ab64', '8f517deb-8ff2-4a54-97ac-53cb5f0d7ca7', 'a157a706-d730-466e-9505-77bde74c8091', 'cd7450eb-9d7c-47b1-bbaa-10b71fb293a9', '2e76fd4d-3013-4108-b62d-8f36ba4a9d47', '42861e26-2e80-4934-8b1d-21a803d43543', '392cad4e-2ce7-4d25-a4b3-938eb99eb9cf', 'b84656aa-39b1-46e8-850d-e9fba11ca6f6', '34d4c125-34c2-44f0-afc1-3d9b34a4c27c', 'a9759119-beaa-436c-9049-9a6941d0bc7f', '301f143b-d690-4091-b203-12460c1bb0e9', 'ab0f5447-3736-45c2-a1da-18ae1b233f63', '3c938375-c685-4053-8af1-bdb52061d589', '94f23e82-4edc-480f-b26d-3eaf61dc2a84', '9e27cc41-dc9d-492a-82fb-a4e6d6cd4203', 'c8c7e469-159c-45f7-8800-a97d943ca9b4', '9991808e-c123-4820-879d-1ddee1a767c2', '0e2ee71c-cc5f-4a35-ac08-ae4398d149c3', '9bb40d89-a063-4bea-955f-85df7f345887', 'c185d243-c189-4e96-9298-1e89cb9e885f', '1f6ce24b-9516-4614-a059-1f2d041c08c3', '3d30da9c-da28-46e1-8db6-0917a6699f89', 'c72893f5-c079-4f12-a827-f0b2888074c4', '63ff1761-e55c-4746-ad46-bbc6a3c147f7', '475a6e7f-01d2-48c1-bd90-566c3c760125', 'c244d9f5-f200-47cb-b9c0-2dbc4b6d22b4', '9fef084c-65cd-48c2-9def-06d07a490622', 'b27fbed3-5a4a-4a42-bafc-045e0adb415a', '89b53a69-4d04-4edb-9640-b0503406d918', '378c20e8-6c38-4c7c-a56c-16e2e65c6085', 'b9330c00-fba7-42bb-b55c-5a3c7ccc0721', 'ce93e06e-1a20-45dc-985d-5248eab92e06', '4306f799-6a11-478a-a0c5-1a940b52183f', 'cbb546f3-bc02-4e5d-9719-9773517e7985', '554b64af-4a24-4c5c-8834-5d7193162d3e', '2e433494-8bf4-4f91-aef1-47a9e68d9925', '7ae3715d-1167-435c-a2c4-aa58324e47a2', '59fceb55-9902-4056-9a89-e0d9e44318f3', '1636d6f0-63b2-44a7-aff9-13a10a035757', 'e4426988-870f-48ef-ac5f-b3b02bad0b4e', '23eace89-6560-4b99-83db-758298feee66'])"
                        ]
                    },
                    "execution_count": 4,
                    "metadata": {},
                    "output_type": "execute_result"
                },
                {
                    "name": "stdout",
                    "output_type": "stream",
                    "text": [
                        "async_callback: {'progress': 100}\n"
                    ]
                }
            ],
            "source": [
                "# Create callback\n",
                "import json\n",
                "async def async_callback(text):\n",
                "    jsoned = json.loads(text)\n",
                "    print(f\"async_callback: {jsoned}\")\n",
                "\n",
                "# Spin off listener\n",
                "from gai.lib.common.StatusListener import StatusListener\n",
                "ws_url = f\"ws://localhost:12036/gen/v1/rag/index-file/ws/demo\"\n",
                "listener = StatusListener(ws_url)\n",
                "import asyncio\n",
                "listen_task=asyncio.create_task(listener.listen(async_callback))\n",
                "\n",
                "result = await rag.step_index_async(\n",
                "    collection_name=\"demo\",\n",
                "    document_id=chunkgroup.DocumentId,\n",
                "    chunkgroup_id=chunkgroup.Id,\n",
                "    async_callback=async_callback\n",
                ")\n",
                "result\n"
            ]
        }
    ],
    "metadata": {
        "kernelspec": {
            "display_name": ".venv",
            "language": "python",
            "name": "python3"
        },
        "language_info": {
            "codemirror_mode": {
                "name": "ipython",
                "version": 3
            },
            "file_extension": ".py",
            "mimetype": "text/x-python",
            "name": "python",
            "nbconvert_exporter": "python",
            "pygments_lexer": "ipython3",
            "version": "3.10.12"
        }
    },
    "nbformat": 4,
    "nbformat_minor": 2
}

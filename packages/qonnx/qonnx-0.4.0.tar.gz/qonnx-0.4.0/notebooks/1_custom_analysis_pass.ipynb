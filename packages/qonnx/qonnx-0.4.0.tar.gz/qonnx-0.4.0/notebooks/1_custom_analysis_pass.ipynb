{
 "cells": [
  {
   "cell_type": "markdown",
   "metadata": {},
   "source": [
    "# QONNX - Analysis Passes\n",
    "--------------------------------------\n",
    "This notebook is about analysis passes in QONNX. The procedure for creating an analysis pass is shown using an example.\n",
    "\n",
    "We'll use the following utility functions to print the source code for function calls (`showSrc()`) and to visualize a network using netron (`showInNetron()`) in the Jupyter notebook:"
   ]
  },
  {
   "cell_type": "code",
   "execution_count": null,
   "metadata": {},
   "outputs": [],
   "source": [
    "import inspect\n",
    "import netron\n",
    "import os\n",
    "from IPython.display import IFrame\n",
    "import urllib.request\n",
    "\n",
    "\n",
    "def showSrc(what):\n",
    "    print(\"\".join(inspect.getsourcelines(what)[0]))\n",
    "\n",
    "\n",
    "def showInNetron(model_filename: str, localhost_url: str = None, port: int = None):\n",
    "    \"\"\"Shows a ONNX model file in the Jupyter Notebook using Netron.\n",
    "\n",
    "    :param model_filename: The path to the ONNX model file.\n",
    "    :type model_filename: str\n",
    "\n",
    "    :param localhost_url: The IP address used by the Jupyter IFrame to show the model.\n",
    "     Defaults to localhost.\n",
    "    :type localhost_url: str, optional\n",
    "\n",
    "    :param port: The port number used by Netron and the Jupyter IFrame to show\n",
    "     the ONNX model.  Defaults to 8081.\n",
    "    :type port: int, optional\n",
    "\n",
    "    :return: The IFrame displaying the ONNX model.\n",
    "    :rtype: IPython.lib.display.IFrame\n",
    "    \"\"\"\n",
    "    try:\n",
    "        port = port or int(os.getenv(\"NETRON_PORT\", default=\"8081\"))\n",
    "    except ValueError:\n",
    "        port = 8081\n",
    "    localhost_url = localhost_url or os.getenv(\"LOCALHOST_URL\", default=\"localhost\")\n",
    "    netron.start(model_filename, address=(\"0.0.0.0\", port), browse=False)\n",
    "    return IFrame(src=f\"http://{localhost_url}:{port}/\", width=\"100%\", height=400)\n",
    "\n",
    "def download_model_from_zoo():\n",
    "    qonnx_url=\"https://github.com/fastmachinelearning/QONNX_model_zoo/raw/main/models/MNIST/Brevitas_FINN_TFC/TFC/TFC_2W2A.onnx\"\n",
    "    dl_file=\"TFC_2W2A.onnx\"\n",
    "    urllib.request.urlretrieve(qonnx_url, dl_file)"
   ]
  },
  {
   "cell_type": "markdown",
   "metadata": {},
   "source": [
    "## General Information\n",
    "------------------------------\n",
    "* traverses the graph structure and produces information about certain properties\n",
    "* input: ModelWrapper\n",
    "* returns dictionary of named properties that the analysis extracts"
   ]
  },
  {
   "cell_type": "markdown",
   "metadata": {},
   "source": [
    "### Example - Quantity analysis of operation types\n",
    "As an example, an analysis is designed that returns the number of nodes of the same operation types."
   ]
  },
  {
   "cell_type": "markdown",
   "metadata": {},
   "source": [
    "First the model is shown to illustrate the analysis. For this Netron is used. Netron is a visualizer for neural network, deep learning and machine learning models."
   ]
  },
  {
   "cell_type": "code",
   "execution_count": null,
   "metadata": {},
   "outputs": [],
   "source": [
    "download_model_from_zoo()\n",
    "showInNetron(\"TFC_2W2A.onnx\")"
   ]
  },
  {
   "cell_type": "markdown",
   "metadata": {},
   "source": [
    "The model has to be loaded to process it with QONNX utils. This is done with `ModelWrapper`. As described in the short introduction, this is the format an analysis pass takes as input."
   ]
  },
  {
   "cell_type": "code",
   "execution_count": null,
   "metadata": {},
   "outputs": [],
   "source": [
    "from qonnx.core.modelwrapper import ModelWrapper\n",
    "model = ModelWrapper('TFC_2W2A.onnx')"
   ]
  },
  {
   "cell_type": "markdown",
   "metadata": {},
   "source": [
    "The idea is to count all nodes that have the same operation type. The result should contain the operation types and the corresponding number of nodes that occur in the model. In the beginning an empty dictionary is created which is filled by the function and returned as result to the user at the end of the analysis."
   ]
  },
  {
   "cell_type": "code",
   "execution_count": null,
   "metadata": {},
   "outputs": [],
   "source": [
    "def count_unique_node_types(model):\n",
    "    count_dict = {}\n",
    "    for node in model.graph.node:\n",
    "        if node.op_type in count_dict:\n",
    "            count_dict[node.op_type] +=1\n",
    "        else:\n",
    "            count_dict[node.op_type] = 1\n",
    "    return count_dict"
   ]
  },
  {
   "cell_type": "markdown",
   "metadata": {},
   "source": [
    "The function takes the model as input and iterates over the nodes. Then it is checked whether there is already an entry for the operation type in the dictionary. If this is not the case, an entry is created and set to `1`. If there is already an entry, it is incremented. If all nodes in the model have been iterated, the filled dictionary is returned."
   ]
  },
  {
   "cell_type": "markdown",
   "metadata": {},
   "source": [
    "The analysis function of ModelWrapper is used to perform the analysis just designed. It is shown below and takes the function as input and performs it by passing the model to the function."
   ]
  },
  {
   "cell_type": "code",
   "execution_count": null,
   "metadata": {},
   "outputs": [],
   "source": [
    "showSrc(ModelWrapper.analysis)"
   ]
  },
  {
   "cell_type": "markdown",
   "metadata": {},
   "source": [
    "The result can now simply be determined by calling the `.analysis` function."
   ]
  },
  {
   "cell_type": "code",
   "execution_count": null,
   "metadata": {},
   "outputs": [],
   "source": [
    "print(model.analysis(count_unique_node_types))"
   ]
  },
  {
   "cell_type": "code",
   "execution_count": null,
   "metadata": {},
   "outputs": [],
   "source": []
  }
 ],
 "metadata": {
  "kernelspec": {
   "display_name": "venv",
   "language": "python",
   "name": "python3"
  },
  "language_info": {
   "codemirror_mode": {
    "name": "ipython",
    "version": 3
   },
   "file_extension": ".py",
   "mimetype": "text/x-python",
   "name": "python",
   "nbconvert_exporter": "python",
   "pygments_lexer": "ipython3",
   "version": "3.8.16 (default, Dec  7 2022, 01:12:06) \n[GCC 11.3.0]"
  },
  "vscode": {
   "interpreter": {
    "hash": "0502196cae5450340bff0232db0d443756691d3235661ea220d02e5c6b2dd97d"
   }
  }
 },
 "nbformat": 4,
 "nbformat_minor": 2
}

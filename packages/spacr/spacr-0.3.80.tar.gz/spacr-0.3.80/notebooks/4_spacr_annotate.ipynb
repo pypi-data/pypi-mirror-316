{
 "cells": [
  {
   "cell_type": "code",
   "execution_count": null,
   "id": "d6a39408",
   "metadata": {},
   "outputs": [],
   "source": [
    "from spacr.gui_utils import annotate\n",
    "\n",
    "settings = {'src':'/nas_mnt/carruthers/Einar/tsg101_screen/TSG101SCREEN_20240826_140251/plate4', # (path) path to source folder (where origional images were stored)\n",
    "            'image_type':'cell_png', # (Optional, string) string in the path of each image (used to filter images)\n",
    "            'channels':['r', 'g', 'b'], # (list) - Channels to visualize ('r', 'g', and/or 'b')\n",
    "            'img_size':200, # (integer) - Size of images on the screen (height and weight)\n",
    "            'normalize_channels':['r','g','b'], # (list) - Channels to normalize\n",
    "            'annotation_column':'test', # (string) - Column in the database containing/to contain annotations\n",
    "            'normalize':False, # (bool) - Normalize images to percentiles\n",
    "            'percentiles':(2,98), # (tuple) - Percentiles used for normalization\n",
    "            'measurement':None, # (string or NoneType) - Measurement used to filter images\n",
    "            'threshold':None} # (Integer or NoneType) - Threshold for measurement\n",
    "\n",
    "annotate(settings)"
   ]
  }
 ],
 "metadata": {
  "kernelspec": {
   "display_name": "spacr",
   "language": "python",
   "name": "spacr"
  },
  "language_info": {
   "codemirror_mode": {
    "name": "ipython",
    "version": 3
   },
   "file_extension": ".py",
   "mimetype": "text/x-python",
   "name": "python",
   "nbconvert_exporter": "python",
   "pygments_lexer": "ipython3",
   "version": "3.9.19"
  }
 },
 "nbformat": 4,
 "nbformat_minor": 5
}

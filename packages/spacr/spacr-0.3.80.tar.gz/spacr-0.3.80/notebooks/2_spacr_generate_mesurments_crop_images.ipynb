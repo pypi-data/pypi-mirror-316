{
 "cells": [
  {
   "cell_type": "code",
   "execution_count": null,
   "id": "8fddf2d9",
   "metadata": {},
   "outputs": [],
   "source": [
    "from spacr.measure import measure_crop\n",
    "%matplotlib inline\n",
    "\n",
    "settings = {'src':'path', # (path) path to source folder (ens in /merged)\n",
    "            'channels':[0,1,2,3],# (list) - list of integers representing available channels\n",
    "            'cell_mask_dim':4, # (integer or NoneType) - Cell mask dimension \n",
    "            'cell_min_size':2000, # (integer) - minimum size in px2 of cell objects\n",
    "            'nucleus_mask_dim':5, # (integer or NoneType) - Nucleus mask dimension \n",
    "            'nucleus_min_size':1000, # (integer) - minimum size in px2 of nuclei objects\n",
    "            'pathogen_mask_dim':6, # (integer or NoneType) - Pathogen mask dimension \n",
    "            'pathogen_min_size':400, # (integer) - minimum size in px2 of pathogen objects\n",
    "            'cytoplasm_min_size':0, # (integer) - minimum size in px2 of cutoplasm (cell-(nucleus+pathogen)) objects\n",
    "            'save_png':True, # (bool) - save objects as PNGs\n",
    "            'crop_mode':['cell'], # (list) - Object(s) to be cropped into images ('cell', 'nuclei', 'pathogen')\n",
    "            'use_bounding_box':False, # (bool) - Use bounding box for cropped images instead of object area\n",
    "            'png_size':[[224,224]], # (list of lists) - size of single object pngs\n",
    "            'normalize':False, # (bool or list) - normalize PNGs to percentiles\n",
    "            'png_dims':[0,1,2], # (list) - Dimensions to include in PNG images\n",
    "            'normalize_by':'png', # (string) - If normalize, normalize to fov (field of view) or png \n",
    "            'save_measurements':True, # (bool) - Save measurements\n",
    "            'plot':False, # (bool) - plot images during analazys\n",
    "            'plot_filtration':False, # () - Plot filtration steps\n",
    "            'uninfected':False, # () - Include uninfected\n",
    "            'test_mode':False, # (bool) - Activate Test mode\n",
    "            'test_nr':10} # (integer) - Number of images to analyze in test mode\n",
    "\n",
    "measure_crop(settings)"
   ]
  }
 ],
 "metadata": {
  "kernelspec": {
   "display_name": "spacr",
   "language": "python",
   "name": "spacr"
  },
  "language_info": {
   "codemirror_mode": {
    "name": "ipython",
    "version": 3
   },
   "file_extension": ".py",
   "mimetype": "text/x-python",
   "name": "python",
   "nbconvert_exporter": "python",
   "pygments_lexer": "ipython3",
   "version": "3.9.19"
  }
 },
 "nbformat": 4,
 "nbformat_minor": 5
}

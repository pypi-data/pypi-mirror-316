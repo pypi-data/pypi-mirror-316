{
 "cells": [
  {
   "cell_type": "code",
   "execution_count": null,
   "id": "9e030e83",
   "metadata": {
    "scrolled": true
   },
   "outputs": [],
   "source": [
    "# Description: Train a ML model to classigy cells based on measurement data\n",
    "from spacr.ml import generate_ml_scores\n",
    "%matplotlib inline\n",
    "\n",
    "settings = {'src':'path', # (path) path to source folder (where origional images were stored)\n",
    "            'model_type_ml':'xgboost', # (string) - Type of model ( 'random_forest', 'xgboost', 'gradient_boosting')\n",
    "            'heatmap_feature':'predictions', # (string) - column to display in heatmaps\n",
    "            'grouping':'mean', # (string) - Grouping for heatmap\n",
    "            'min_max':'allq', # (string) - Quantiles to normalize heatmap to (all, allq)\n",
    "            'cmap':'viridis', # (string) - Heatmap cmap\n",
    "            'n_estimators':100, # (integer) - Number of estimators for model\n",
    "            'test_size':0.2, # (float) - Fraction of images used for the test set\n",
    "            'location_column':'column_name', # (string) - Column containing negative/ positive controll metadata information.\n",
    "            'positive_control':'c2', # (string) - Value for positive control in location column\n",
    "            'negative_control':'c1', # (string) - Value for negative control in location column\n",
    "            'exclude':None, # (string, NoneType) - Rows to exclude in location_column\n",
    "            'nuclei_limit':1, # (integer) - Maximum number of nuclei for each cell\n",
    "            'pathogen_limit':3, # (integer) - Maximum number of pathogens per cell\n",
    "            'n_repeats':10, # (integer) - Number of repeats for permutation importance.\n",
    "            'top_features':30, # (integer) - Number of top features to plot based on permutation importance, feature importance and shap.\n",
    "            'channel_of_interest':1, # (integer) - \n",
    "            'minimum_cell_count':25, # (integer) - Minimum number of cells per well\n",
    "            'remove_low_variance_features':True, # (bool) - Remove columns with low variance.\n",
    "            'remove_highly_correlated_features':True, # (bool) - Remove highly correlated features.\n",
    "            'verbose':False, # (bool) - Display verbose output\n",
    "            'n_jobs':10} # (integer) - Number of threads\n",
    "\n",
    "results = generate_ml_scores(settings)"
   ]
  },
  {
   "cell_type": "code",
   "execution_count": null,
   "id": "e316cb19",
   "metadata": {
    "scrolled": false
   },
   "outputs": [],
   "source": [
    "# Description: Fit a regression model to estimate the effect size of gRNAs on cell scores.\n",
    "from spacr.ml import perform_regression\n",
    "import pandas as pd\n",
    "%matplotlib inline\n",
    "\n",
    "settings = {'count_data':'path', # (path) path or list of paths to sequencing count data\n",
    "            'score_data':'path', # (path) path or list of paths to score data\n",
    "            'score_column':'column', # () - column with cell scores\n",
    "            'metadata_files':['path.csv','path.csv'], # (list) pahts to gene metadata \n",
    "            'positive_control':'gene', # (string) - gene to highlight in volcano plot\n",
    "            'negative_control':'gene', # (string) - gene to highlight in volcano plot\n",
    "            'min_n':3, # () - \n",
    "            'fraction_threshold':None, # (Optional, float or NoneType) - Minimum threshold for gene fraction, if None automatically calculated\n",
    "            'target_unique_count':5, # () - Number of expected unique gRNAs per well\n",
    "            'tolerance':0.02, # (float) - Tollerance for cells per well limit\n",
    "            'log_x':False, # () - gRNA Fraction plot X axis log\n",
    "            'log_y':False, # () - gRNA Fraction plot Y axis log\n",
    "            'x_lim':None, # () - Volcano X axis limit\n",
    "            'control_wells':['c1','c2','c3'], # (list) - Metadata to exclude from regression model\n",
    "            'filter_column':'column', # (str) - Column containing control metadata to remove\n",
    "            'dependent_variable': 'column', # (string) - Dependent variable for regression\n",
    "            'threshold_method':'var', # (string) - effect size thresold type (std or var)\n",
    "            'threshold_multiplier':4, # (integer) - effect size threshold multiplyer \n",
    "            'transform':'log', # (string) - Transform dependent variable\n",
    "            'agg_type':'mean', # (string) - aggregation for dependent variable\n",
    "            'min_cell_count':None, # (integer) - Minimum number of cells per well\n",
    "            'regression_type':'ols', # (string) - Type of regression (ols, glm, mixed, ridge, lasso).\n",
    "            'random_row_column_effects':False, # (bool) - Remove plate , row and column random effects.\n",
    "            'y_lims':[[0,9], [12, 16]], # (list of lists) limits for broken y axis\n",
    "            'plate':None, # (string or NoneType) - strinf to replace plate column values with\n",
    "            'cov_type':None, # (string) - covariance type for ols regression\n",
    "            'volcano':'gene', # (string) - mode for significant resuls (gene, grna, all)\n",
    "            'alpha':0.8} # (float) - alpha for hinge and lasso regression\n",
    "\n",
    "coef_df = perform_regression(settings)"
   ]
  }
 ],
 "metadata": {
  "kernelspec": {
   "display_name": "spacr",
   "language": "python",
   "name": "spacr"
  },
  "language_info": {
   "codemirror_mode": {
    "name": "ipython",
    "version": 3
   },
   "file_extension": ".py",
   "mimetype": "text/x-python",
   "name": "python",
   "nbconvert_exporter": "python",
   "pygments_lexer": "ipython3",
   "version": "3.9.19"
  }
 },
 "nbformat": 4,
 "nbformat_minor": 5
}

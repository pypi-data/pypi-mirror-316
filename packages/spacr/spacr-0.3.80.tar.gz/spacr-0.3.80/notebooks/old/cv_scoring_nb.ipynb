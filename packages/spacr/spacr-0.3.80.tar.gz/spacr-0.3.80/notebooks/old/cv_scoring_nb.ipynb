{
 "cells": [
  {
   "cell_type": "code",
   "execution_count": null,
   "id": "b370394d",
   "metadata": {
    "scrolled": true
   },
   "outputs": [],
   "source": [
    "# Description: Generate train and test folders with class subfolders for training DL models.\n",
    "from spacr.io import generate_training_dataset\n",
    "\n",
    "settings = {'src':'path or list of paths',\n",
    "            'dataset_mode':'metadata',\n",
    "            'test_split':0.1,\n",
    "            'metadata_type_by':'col',\n",
    "            'class_metadata':[['c1'],['c2']],\n",
    "            'png_type':'cell_png',\n",
    "            'nuclei_limit':True,\n",
    "            'pathogen_limit':3,\n",
    "            'uninfected':False,\n",
    "            'size':None}\n",
    "\n",
    "generate_training_dataset(settings)"
   ]
  },
  {
   "cell_type": "code",
   "execution_count": null,
   "id": "cb293108",
   "metadata": {
    "scrolled": false
   },
   "outputs": [],
   "source": [
    "# Description: Train a torch model to classify single object images\n",
    "from spacr.deep_spacr import train_test_model\n",
    "\n",
    "settings = {'src':'path', \n",
    "            'train':True,\n",
    "            'test': False,\n",
    "            'custom_model':False,\n",
    "            'custom_model_path':None,\n",
    "            'classes':['nc','pc'],\n",
    "            'model_type':'maxvit_t',\n",
    "            'optimizer_type':'adamw',\n",
    "            'schedule':'reduce_lr_on_plateau', #reduce_lr_on_plateau, step_lr\n",
    "            'loss_type':'focal_loss', #binary_cross_entropy_with_logits, #focal_loss\n",
    "            'normalize':True,\n",
    "            'image_size':224,\n",
    "            'batch_size':64,\n",
    "            'epochs':100,\n",
    "            'val_split':0.1,\n",
    "            'learning_rate':0.0001,\n",
    "            'weight_decay':0.00001,\n",
    "            'dropout_rate':0.1,\n",
    "            'init_weights':True,\n",
    "            'amsgrad':True,\n",
    "            'use_checkpoint':True,\n",
    "            'gradient_accumulation':True,\n",
    "            'gradient_accumulation_steps':4,\n",
    "            'intermedeate_save':True,\n",
    "            'pin_memory':True,\n",
    "            'n_jobs':30,\n",
    "            'train_channels':['r','g','b'],\n",
    "            'augment':False,\n",
    "            'verbose':True}\n",
    "\n",
    "train_test_model(settings)"
   ]
  },
  {
   "cell_type": "code",
   "execution_count": null,
   "id": "09107d9a",
   "metadata": {},
   "outputs": [],
   "source": [
    "# Description: Generate a tar file containing single object images.\n",
    "from spacr.io import generate_dataset\n",
    "\n",
    "settings = {'src':'path or list of paths',\n",
    "           'file_metadata':None,\n",
    "           'experiment':'tsg101_screen_plate1',\n",
    "           'sample':None}\n",
    "\n",
    "generate_dataset(settings)"
   ]
  },
  {
   "cell_type": "code",
   "execution_count": null,
   "id": "c52af6e8",
   "metadata": {},
   "outputs": [],
   "source": [
    "# Description: Classify images in a tar dataset with a trained torch model.\n",
    "from spacr.core import apply_model_to_tar\n",
    "\n",
    "settings = {'tar_path':'path',\n",
    "            'model_path':'path', \n",
    "            'file_type':'cell_png',\n",
    "            'image_size':224,\n",
    "            'batch_size':64,\n",
    "            'normalize':True,\n",
    "            'score_threshold':0.5,\n",
    "            'n_jobs':30,\n",
    "            'verbose':True}\n",
    "\n",
    "result_df = spacr.core.apply_model_to_tar(settings)"
   ]
  },
  {
   "cell_type": "code",
   "execution_count": null,
   "id": "5b36a8ec",
   "metadata": {},
   "outputs": [],
   "source": [
    "# Description: Fix a regression model to estimate the effect size of gRNAs on cell scores.\n",
    "# \n",
    "\n",
    "from spacr.ml import perform_regression\n",
    "import pandas as pd\n",
    "%matplotlib inline\n",
    "\n",
    "settings = {'count_data':'path',\n",
    "            'score_data':'path',\n",
    "            'highlight':'string',\n",
    "            'fraction_threshold':0.1,\n",
    "            'dependent_variable': 'prediction_probability_class_1',\n",
    "            'transform':'log',\n",
    "            'agg_type':'median',\n",
    "            'min_cell_count':25,\n",
    "            'regression_type':'ols',\n",
    "            'random_row_column_effects':False,\n",
    "            'plate':None,\n",
    "            'cov_type':None,\n",
    "            'alpha':0.8,\n",
    "            'nc':'c1',\n",
    "            'pc':'c2',\n",
    "            'other':'c3'}\n",
    "\n",
    "coef_df = perform_regression(settings)"
   ]
  }
 ],
 "metadata": {
  "kernelspec": {
   "display_name": "spacr",
   "language": "python",
   "name": "spacr"
  },
  "language_info": {
   "codemirror_mode": {
    "name": "ipython",
    "version": 3
   },
   "file_extension": ".py",
   "mimetype": "text/x-python",
   "name": "python",
   "nbconvert_exporter": "python",
   "pygments_lexer": "ipython3",
   "version": "3.9.19"
  }
 },
 "nbformat": 4,
 "nbformat_minor": 5
}

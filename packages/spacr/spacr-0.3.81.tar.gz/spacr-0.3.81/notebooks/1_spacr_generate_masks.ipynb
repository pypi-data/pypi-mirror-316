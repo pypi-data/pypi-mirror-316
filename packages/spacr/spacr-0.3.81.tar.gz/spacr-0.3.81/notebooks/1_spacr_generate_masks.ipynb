{
 "cells": [
  {
   "cell_type": "code",
   "execution_count": null,
   "id": "2c78f9de",
   "metadata": {},
   "outputs": [],
   "source": [
    "from spacr.core import preprocess_generate_masks\n",
    "%matplotlib inline\n",
    "\n",
    "settings = {'metadata_type':'cellvoyager', # (string) - type of fime name metadata (cellvoyager, cq1, Nikon)\n",
    "            'custom_regex':None, # (regex) - Regular expression if filename metadata not in metadata_type \n",
    "            'experiment':'ubiquitin', # (string) - Name of experiment\n",
    "            'channels':[0,1,2,3], # (list) - list of integers representing available channels\n",
    "            'cell_channel':3, # (integer or NoneType) - Cell image dimension \n",
    "            'cell_background':100, # (integer) - Background value in cell images\n",
    "            'cell_Signal_to_noise':10, # (integer) - Signal to noise ration for cell channel\n",
    "            'cell_CP_prob':-1, # (integer) - Cellpose Cell probability\n",
    "            'remove_background_cell':False, # (bool) - Set background to 0 for cell channel\n",
    "            'nucleus_channel':0, # (Optional, integer or NoneType) - Nucleus image dimension \n",
    "            'nucleus_background':500, # (Optional, integer) - Background value in nucleus images\n",
    "            'nucleus_Signal_to_noise':2, # (Optional, integer) - Signal to noise ration for nucleus channel\n",
    "            'nucleus_CP_prob':0, # (Optional, integer) - Cellpose Nucleus probability\n",
    "            'remove_background_nucleus':False, # (Optional, bool) - Set background to 0 for nucleus channel\n",
    "            'pathogen_model':None, # (Optional, path or NoneType) - Custom cellpose model path for pathogen detection\n",
    "            'pathogen_channel':1, # (Optional, integer or NoneType) - Pathogen image dimension \n",
    "            'pathogen_background':200, # (Optional, integer) - Background value in pathogen images\n",
    "            'pathogen_Signal_to_noise':5, # (Optional, integer) - Signal to noise ration for pathogen channel\n",
    "            'pathogen_CP_prob':-1, # (Optional, integer) - Cellpose pathogen probability\n",
    "            'remove_background_pathogen':True, # (Optional, bool) - Set background to 0 for pathogen channel\n",
    "            'magnification':40, # (integer) - Objective magnefication used to aquire images (40, 60, 100)\n",
    "            'save':True, # (bool) - Save masks and object data to database\n",
    "            'preprocess':True, # (bool) - Preprocess images\n",
    "            'masks':True, # (bool) - Generate masks\n",
    "            'batch_size':50, # (bool) - Number of images to be normalized together and loaded onto the GPU\n",
    "            'filter':False, # (bool) - Filter objects based on size\n",
    "            'merge_pathogens':True, # (bool) - Merge pathogens that share > 75% perimiter\n",
    "            'plot':False, # (bool) - Plot normalized intensity and object images\n",
    "            'adjust_cells':True, # (bool) - If cell, nucleus and pathogen: merge cells that share a pathogen\n",
    "            'test_mode':False, # (bool) - Test settings in test mode before analyzing entire experiment\n",
    "            'test_images':10, # (integer) - Number of images to analyze in test mode\n",
    "            'random_test':True} # (bool) - Randomize images for test mode\n",
    "\n",
    "src = 'path' # (path) path to source folder (where origional images were stored)\n",
    "preprocess_generate_masks(src, settings=settings)"
   ]
  }
 ],
 "metadata": {
  "kernelspec": {
   "display_name": "spacr",
   "language": "python",
   "name": "spacr"
  },
  "language_info": {
   "codemirror_mode": {
    "name": "ipython",
    "version": 3
   },
   "file_extension": ".py",
   "mimetype": "text/x-python",
   "name": "python",
   "nbconvert_exporter": "python",
   "pygments_lexer": "ipython3",
   "version": "3.9.19"
  }
 },
 "nbformat": 4,
 "nbformat_minor": 5
}

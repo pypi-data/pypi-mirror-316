{
 "cells": [
  {
   "cell_type": "code",
   "execution_count": null,
   "id": "cf770028",
   "metadata": {
    "scrolled": false
   },
   "outputs": [],
   "source": [
    "from spacr.submodules import analyze_endodyogeny\n",
    "%matplotlib inline\n",
    "\n",
    "settings = {\n",
    "    'src': 'path',\n",
    "    'tables': ['cell', 'nucleus', 'pathogen', 'cytoplasm'],\n",
    "    'cell_types': ['Hela'],\n",
    "    'cell_plate_metadata': None,\n",
    "    'pathogen_types': ['nc', 'pc'],\n",
    "    'pathogen_plate_metadata': [['c1'], ['c2']],\n",
    "    'treatments': None,\n",
    "    'treatment_plate_metadata': None,\n",
    "    'min_area_bin': 500,\n",
    "    'group_column': 'pathogen',\n",
    "    'compartment': 'pathogen',\n",
    "    'pathogen_limit': 1,\n",
    "    'nuclei_limit': 1000,\n",
    "    'level': 'well',\n",
    "    'um_per_px':0.1,\n",
    "    'max_bins':5,\n",
    "    'save':True,\n",
    "    'verbose': True}\n",
    "\n",
    "# Run the analysis\n",
    "output = analyze_endodyogeny(settings)"
   ]
  },
  {
   "cell_type": "code",
   "execution_count": null,
   "id": "6657b0db",
   "metadata": {},
   "outputs": [],
   "source": [
    "from spacr.submodules import analyze_class_proportion\n",
    "%matplotlib inline\n",
    "\n",
    "settings = {\n",
    "    'src': 'path',\n",
    "    'tables': ['cell', 'nucleus', 'pathogen', 'cytoplasm'],\n",
    "    'cell_types': ['cm','infg'],\n",
    "    'cell_plate_metadata': [['c1', 'c2', 'c3', 'c4', 'c5', 'c6', 'c13', 'c14', 'c15', 'c16', 'c17', 'c18'],['c7', 'c8', 'c9', 'c10', 'c11', 'c12','c18', 'c19', 'c20', 'c21', 'c22', 'c23', 'c24']],\n",
    "    'pathogen_types': ['nc', 'pc'],\n",
    "    'pathogen_plate_metadata': [['c1', 'c2', 'c3', 'c4', 'c5', 'c6', 'c7', 'c8', 'c9', 'c10', 'c11', 'c12'], ['c13', 'c14', 'c15', 'c16', 'c17', 'c18', 'c19', 'c20', 'c21', 'c22', 'c23', 'c24']],\n",
    "    'treatments': ['ub','rnf'],\n",
    "    'treatment_plate_metadata': [['c1', 'c2','c3', 'c7','c8','c9', 'c13','c14','c15','c19','c20','c21'],['c4','c5','c6','c10','c11','c12','c16','c17','c18','c22','c23','c24']],\n",
    "    'group_column': 'condition',\n",
    "    'class_column':'test',\n",
    "    'pathogen_limit': 1000,\n",
    "    'nuclei_limit': 1000,\n",
    "    'level': 'well',\n",
    "    'save':True,\n",
    "    'verbose': True}\n",
    "\n",
    "# Run the analysis\n",
    "output = analyze_class_proportion(settings)"
   ]
  }
 ],
 "metadata": {
  "kernelspec": {
   "display_name": "spacr",
   "language": "python",
   "name": "spacr"
  },
  "language_info": {
   "codemirror_mode": {
    "name": "ipython",
    "version": 3
   },
   "file_extension": ".py",
   "mimetype": "text/x-python",
   "name": "python",
   "nbconvert_exporter": "python",
   "pygments_lexer": "ipython3",
   "version": "3.9.19"
  }
 },
 "nbformat": 4,
 "nbformat_minor": 5
}

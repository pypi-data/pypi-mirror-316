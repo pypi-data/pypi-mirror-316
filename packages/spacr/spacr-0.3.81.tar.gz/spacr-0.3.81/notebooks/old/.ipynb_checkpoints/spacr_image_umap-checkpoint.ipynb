{
 "cells": [
  {
   "cell_type": "code",
   "execution_count": null,
   "id": "8274abfe",
   "metadata": {
    "scrolled": false
   },
   "outputs": [],
   "source": [
    "from spacr.core import generate_image_umap\n",
    "%matplotlib inline\n",
    "\n",
    "setings = {'src':'/nas_mnt/carruthers/Einar/tsg101_screen/TSG101SCREEN_20240810_132824/plate1',\n",
    "          'row_limit':1000,\n",
    "          'min_samples':100,\n",
    "          'eps':0.9}\n",
    "\n",
    "generate_image_umap(setings)"
   ]
  },
  {
   "cell_type": "code",
   "execution_count": null,
   "id": "0b255f68",
   "metadata": {},
   "outputs": [],
   "source": [
    "def set_default_umap_image_settings(settings={}):\n",
    "    settings.setdefault('src', 'path')\n",
    "    settings.setdefault('row_limit', 1000)\n",
    "    settings.setdefault('tables', ['cell', 'cytoplasm', 'nucleus', 'pathogen'])\n",
    "    settings.setdefault('visualize', 'cell')\n",
    "    settings.setdefault('image_nr', 16)\n",
    "    settings.setdefault('dot_size', 50)\n",
    "    settings.setdefault('n_neighbors', 1000)\n",
    "    settings.setdefault('min_dist', 0.1)\n",
    "    settings.setdefault('metric', 'euclidean')\n",
    "    settings.setdefault('eps', 0.9)\n",
    "    settings.setdefault('min_samples', 100)\n",
    "    settings.setdefault('filter_by', 'channel_0')\n",
    "    settings.setdefault('img_zoom', 0.5)\n",
    "    settings.setdefault('plot_by_cluster', True)\n",
    "    settings.setdefault('plot_cluster_grids', True)\n",
    "    settings.setdefault('remove_cluster_noise', True)\n",
    "    settings.setdefault('remove_highly_correlated', True)\n",
    "    settings.setdefault('log_data', False)\n",
    "    settings.setdefault('figuresize', 10)\n",
    "    settings.setdefault('black_background', True)\n",
    "    settings.setdefault('remove_image_canvas', False)\n",
    "    settings.setdefault('plot_outlines', True)\n",
    "    settings.setdefault('plot_points', True)\n",
    "    settings.setdefault('smooth_lines', True)\n",
    "    settings.setdefault('clustering', 'dbscan')\n",
    "    settings.setdefault('exclude', None)\n",
    "    settings.setdefault('col_to_compare', 'column_name')\n",
    "    settings.setdefault('pos', 'c1')\n",
    "    settings.setdefault('neg', 'c2')\n",
    "    settings.setdefault('mix', 'c3')\n",
    "    settings.setdefault('embedding_by_controls', False)\n",
    "    settings.setdefault('plot_images', True)\n",
    "    settings.setdefault('reduction_method','umap')\n",
    "    settings.setdefault('save_figure', False)\n",
    "    settings.setdefault('n_jobs', -1)\n",
    "    settings.setdefault('color_by', None)\n",
    "    settings.setdefault('exclude_conditions', None)\n",
    "    settings.setdefault('analyze_clusters', False)\n",
    "    settings.setdefault('resnet_features', False)\n",
    "    settings.setdefault('verbose',True)\n",
    "    return settings"
   ]
  }
 ],
 "metadata": {
  "kernelspec": {
   "display_name": "spacr",
   "language": "python",
   "name": "spacr"
  },
  "language_info": {
   "codemirror_mode": {
    "name": "ipython",
    "version": 3
   },
   "file_extension": ".py",
   "mimetype": "text/x-python",
   "name": "python",
   "nbconvert_exporter": "python",
   "pygments_lexer": "ipython3",
   "version": "3.9.19"
  }
 },
 "nbformat": 4,
 "nbformat_minor": 5
}

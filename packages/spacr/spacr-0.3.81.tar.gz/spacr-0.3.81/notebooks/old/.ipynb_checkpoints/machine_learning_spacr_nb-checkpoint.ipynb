{
 "cells": [
  {
   "cell_type": "code",
   "execution_count": null,
   "id": "9e030e83",
   "metadata": {
    "scrolled": true
   },
   "outputs": [],
   "source": [
    "# Description: Train a ML model to classigy cells based on measurement data\n",
    "\n",
    "from spacr.ml import generate_ml_scores\n",
    "%matplotlib inline\n",
    "\n",
    "settings = {'src':'/nas_mnt/carruthers/Einar/tsg101_screen/TSG101SCREEN_20240810_132824/plate1',\n",
    "            'model_type_ml':'xgboost',\n",
    "            'heatmap_feature':'predictions',\n",
    "            'grouping':'mean',\n",
    "            'min_max':'allq',\n",
    "            'cmap':'viridis',\n",
    "            'n_estimators':100,\n",
    "            'test_size':0.2,\n",
    "            'location_column':'col',\n",
    "            'positive_control':'c2',\n",
    "            'negative_control':'c1',\n",
    "            'exclude':None,\n",
    "            'include_multinucleated':True,\n",
    "            'include_multiinfected':3,\n",
    "            'include_noninfected':True,\n",
    "            'n_repeats':10,\n",
    "            'top_features':30,\n",
    "            'channel_of_interest':1,\n",
    "            'minimum_cell_count':25,\n",
    "            'remove_low_variance_features':True,\n",
    "            'remove_highly_correlated_features':True,\n",
    "            'verbose':True,\n",
    "            'n_jobs':28}\n",
    "\n",
    "results = spacr.ml.generate_ml_scores(settings)"
   ]
  },
  {
   "cell_type": "code",
   "execution_count": null,
   "id": "e316cb19",
   "metadata": {
    "scrolled": false
   },
   "outputs": [],
   "source": [
    "# Description: Fix a regression model to estimate the effect size of gRNAs on cell scores.\n",
    "\n",
    "from spacr.ml import perform_regression\n",
    "import pandas as pd\n",
    "%matplotlib inline\n",
    "\n",
    "settings = {'count_data':'path',\n",
    "            'score_data':'path',\n",
    "            'highlight':'string',\n",
    "            'fraction_threshold':0.1,\n",
    "            'dependent_variable': 'prediction_probability_class_1',\n",
    "            'transform':'log',\n",
    "            'agg_type':'median',\n",
    "            'min_cell_count':25,\n",
    "            'regression_type':'ols',\n",
    "            'random_row_column_effects':False,\n",
    "            'plate':None,\n",
    "            'cov_type':None,\n",
    "            'alpha':0.8,\n",
    "            'nc':'c1',\n",
    "            'pc':'c2',\n",
    "            'other':'c3'}\n",
    "\n",
    "coef_df = perform_regression(settings)"
   ]
  }
 ],
 "metadata": {
  "kernelspec": {
   "display_name": "spacr",
   "language": "python",
   "name": "spacr"
  },
  "language_info": {
   "codemirror_mode": {
    "name": "ipython",
    "version": 3
   },
   "file_extension": ".py",
   "mimetype": "text/x-python",
   "name": "python",
   "nbconvert_exporter": "python",
   "pygments_lexer": "ipython3",
   "version": "3.9.19"
  }
 },
 "nbformat": 4,
 "nbformat_minor": 5
}

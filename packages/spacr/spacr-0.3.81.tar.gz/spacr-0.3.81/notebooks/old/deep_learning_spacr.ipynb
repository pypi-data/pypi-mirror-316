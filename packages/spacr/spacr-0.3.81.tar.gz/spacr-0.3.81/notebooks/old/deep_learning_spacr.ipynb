{
 "cells": [
  {
   "cell_type": "code",
   "execution_count": null,
   "id": "8267a4ee",
   "metadata": {
    "scrolled": true
   },
   "outputs": [],
   "source": [
    "# Description: Generate train and test folders with class subfolders for training DL models.\n",
    "\n",
    "from spacr.core import generate_training_dataset\n",
    "\n",
    "settings = {'src':'path',\n",
    "            'dataset_mode':'metadata',\n",
    "            'test_split':0.1,\n",
    "            'metadata_type_by':'col',\n",
    "            'class_metadata':[['c1'],['c2']],\n",
    "            'png_type':'cell_png',\n",
    "            'include_multinucleated':True,\n",
    "            'include_multiinfected':3,\n",
    "            'include_noninfected':False,\n",
    "            'size':None}\n",
    "\n",
    "generate_training_dataset(settings)"
   ]
  },
  {
   "cell_type": "code",
   "execution_count": null,
   "id": "1b617e68",
   "metadata": {
    "scrolled": true
   },
   "outputs": [],
   "source": [
    "# Description: train a torch model then apply it to to a holdout test dataset.\n",
    "\n",
    "from spacr.deep_spacr import train_test_model\n",
    "\n",
    "settings = {'src':'path', \n",
    "            'train':True,\n",
    "            'test': True,\n",
    "            'custom_model':True,\n",
    "            'custom_model_path':'path',\n",
    "            'classes':['nc','pc'],\n",
    "            'model_type':'maxvit_t',\n",
    "            'optimizer_type':'adamw',\n",
    "            'schedule':'reduce_lr_on_plateau',\n",
    "            'loss_type':'focal_loss',\n",
    "            'normalize':True,\n",
    "            'image_size':224,\n",
    "            'batch_size':64,\n",
    "            'epochs':100,\n",
    "            'val_split':0.1,\n",
    "            'learning_rate':0.0001,\n",
    "            'weight_decay':0.00001,\n",
    "            'dropout_rate':0.1,\n",
    "            'init_weights':True,\n",
    "            'amsgrad':True,\n",
    "            'use_checkpoint':True,\n",
    "            'gradient_accumulation':True,\n",
    "            'gradient_accumulation_steps':4,\n",
    "            'intermedeate_save':True,\n",
    "            'pin_memory':True,\n",
    "            'n_jobs':30,\n",
    "            'train_channels':['r','g','b'],\n",
    "            'augment':True,\n",
    "            'verbose':True}\n",
    "\n",
    "train_test_model(settings)"
   ]
  },
  {
   "cell_type": "code",
   "execution_count": null,
   "id": "b0de0794",
   "metadata": {},
   "outputs": [],
   "source": [
    "# Description: Generate a tar dataset from png_images and measurements.db png_list table\n",
    "\n",
    "from spacr.io import generate_dataset\n",
    "\n",
    "settings = {'src':'path',\n",
    "           'file_metadata':None,\n",
    "           'experiment':'exp',\n",
    "           'sample':None}\n",
    "\n",
    "generate_dataset(settings)"
   ]
  },
  {
   "cell_type": "code",
   "execution_count": null,
   "id": "50470548",
   "metadata": {},
   "outputs": [],
   "source": [
    "# Description: Apply a trained torch model to a tar dataset\n",
    "\n",
    "from spacr.core import apply_model_to_tar\n",
    "\n",
    "settings = {'tar_path':'path',\n",
    "            'model_path':'path', \n",
    "            'file_type':'cell_png',\n",
    "            'image_size':224,\n",
    "            'batch_size':64,\n",
    "            'normalize':True,\n",
    "            'score_threshold':0.5,\n",
    "            'n_jobs':30,\n",
    "            'verbose':True}\n",
    "\n",
    "result_df = spacr.core.apply_model_to_tar(settings)"
   ]
  }
 ],
 "metadata": {
  "kernelspec": {
   "display_name": "spacr",
   "language": "python",
   "name": "spacr"
  },
  "language_info": {
   "codemirror_mode": {
    "name": "ipython",
    "version": 3
   },
   "file_extension": ".py",
   "mimetype": "text/x-python",
   "name": "python",
   "nbconvert_exporter": "python",
   "pygments_lexer": "ipython3",
   "version": "3.9.19"
  }
 },
 "nbformat": 4,
 "nbformat_minor": 5
}

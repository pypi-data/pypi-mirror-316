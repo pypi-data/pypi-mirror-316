{
 "cells": [
  {
   "cell_type": "markdown",
   "metadata": {},
   "source": [
    "# Polar Coordinates\n",
    "\n",
    "By assembling general linear combinations of differential operators with variable coefficients in _findiff_, you can use vector calculus operators in coordinates other than cartesian. Here we show an example for using polar coordinates in 2D."
   ]
  },
  {
   "cell_type": "code",
   "execution_count": 1,
   "metadata": {
    "collapsed": true
   },
   "outputs": [],
   "source": [
    "import numpy as np\n",
    "from findiff import FinDiff, Coefficient, Laplacian"
   ]
  },
  {
   "cell_type": "markdown",
   "metadata": {},
   "source": [
    "## Sample Problem\n",
    "\n",
    "In this example, we calculate the Laplacian of the 2D paraboloid\n",
    "\n",
    "$$\n",
    "f(x, y) = x^2 + y^2\n",
    "$$\n",
    "\n",
    "once in cartesian coordinates and once in polar coordinates. Let's start with cartesian.\n",
    "\n",
    "The Laplacian is obviously\n",
    "\n",
    "$$\n",
    "\\nabla^2 f = 2 + 2 = 4\n",
    "$$\n",
    "\n",
    "for all points $(x, y)$.\n",
    "\n",
    "Now let's do this with _findiff_. First we define the grid and the function."
   ]
  },
  {
   "cell_type": "code",
   "execution_count": 2,
   "metadata": {
    "collapsed": true
   },
   "outputs": [],
   "source": [
    "x, y = [np.linspace(-5, 5, 100)] * 2\n",
    "dx, dy = x[1] - x[0], y[1] - y[0]\n",
    "X, Y = np.meshgrid(x, y, indexing='ij')\n",
    "f = X**2 + Y**2"
   ]
  },
  {
   "cell_type": "markdown",
   "metadata": {},
   "source": [
    "Then we define and apply the Laplacian in cartesian coordinates:"
   ]
  },
  {
   "cell_type": "code",
   "execution_count": 3,
   "metadata": {
    "collapsed": true
   },
   "outputs": [],
   "source": [
    "laplace = Laplacian(h=[dx, dy])\n",
    "laplace_f = laplace(f)"
   ]
  },
  {
   "cell_type": "markdown",
   "metadata": {},
   "source": [
    "We get"
   ]
  },
  {
   "cell_type": "code",
   "execution_count": 4,
   "metadata": {
    "collapsed": false
   },
   "outputs": [
    {
     "data": {
      "text/plain": [
       "array([[4., 4., 4., ..., 4., 4., 4.],\n",
       "       [4., 4., 4., ..., 4., 4., 4.],\n",
       "       [4., 4., 4., ..., 4., 4., 4.],\n",
       "       ...,\n",
       "       [4., 4., 4., ..., 4., 4., 4.],\n",
       "       [4., 4., 4., ..., 4., 4., 4.],\n",
       "       [4., 4., 4., ..., 4., 4., 4.]])"
      ]
     },
     "execution_count": 4,
     "metadata": {},
     "output_type": "execute_result"
    }
   ],
   "source": [
    "laplace_f"
   ]
  },
  {
   "cell_type": "markdown",
   "metadata": {},
   "source": [
    "### Polar Coordinates\n",
    "\n",
    "In polar coordinates the paraboloid is simply\n",
    "\n",
    "$$\n",
    "f(r, \\varphi) = r^2\n",
    "$$\n",
    "\n",
    "We define our grid in polar coordinates and calculate the $f$ in polar coordinates:"
   ]
  },
  {
   "cell_type": "code",
   "execution_count": 5,
   "metadata": {
    "collapsed": false
   },
   "outputs": [],
   "source": [
    "r = np.linspace(0.1, 10, 100)\n",
    "phi = np.linspace(0, 2*np.pi, 100, endpoint=False)\n",
    "dr, dphi = r[1] - r[0], phi[1] - phi[0]\n",
    "R, Phi = np.meshgrid(r, phi, indexing='ij')\n",
    "f_polar = R**2"
   ]
  },
  {
   "cell_type": "markdown",
   "metadata": {},
   "source": [
    "Of course, the two arrays `f` and `f_polar` are completely different:"
   ]
  },
  {
   "cell_type": "code",
   "execution_count": 6,
   "metadata": {
    "collapsed": false
   },
   "outputs": [
    {
     "data": {
      "text/plain": [
       "array([[ 49.99      ,  48.99010203,  48.01061014, ...,  48.01061014,\n",
       "         48.99010203,  49.99      ],\n",
       "       [ 48.96010203,  47.96020406,  46.98071217, ...,  46.98071217,\n",
       "         47.96020406,  48.96010203],\n",
       "       [ 47.93061014,  46.93071217,  45.95122028, ...,  45.95122028,\n",
       "         46.93071217,  47.93061014],\n",
       "       ...,\n",
       "       [-48.01938986, -49.01928783, -49.99877972, ..., -49.99877972,\n",
       "        -49.01928783, -48.01938986],\n",
       "       [-49.00989797, -50.00979594, -50.98928783, ..., -50.98928783,\n",
       "        -50.00979594, -49.00989797],\n",
       "       [-50.        , -50.99989797, -51.97938986, ..., -51.97938986,\n",
       "        -50.99989797, -50.        ]])"
      ]
     },
     "execution_count": 6,
     "metadata": {},
     "output_type": "execute_result"
    }
   ],
   "source": [
    "f - f_polar"
   ]
  },
  {
   "cell_type": "markdown",
   "metadata": {},
   "source": [
    "The Laplacian in polar coordinates is\n",
    "\n",
    "$$\n",
    "\\nabla^2 = \\frac{\\partial^2}{\\partial r^2} + \\frac{1}{r}\\frac{\\partial}{\\partial r} + \\frac{1}{r^2}\\frac{\\partial^2}{\\partial \\varphi^2}\n",
    "$$\n",
    "\n",
    "or in _findiff_:"
   ]
  },
  {
   "cell_type": "code",
   "execution_count": 7,
   "metadata": {
    "collapsed": true
   },
   "outputs": [],
   "source": [
    "laplace_polar = FinDiff(0, dr, 2) + Coefficient(1/R) * FinDiff(0, dr) + Coefficient(1/R**2) * FinDiff(1, dphi, 2)\n",
    "result = laplace_polar(f_polar)"
   ]
  },
  {
   "cell_type": "markdown",
   "metadata": {},
   "source": [
    "And we get the same result"
   ]
  },
  {
   "cell_type": "code",
   "execution_count": 8,
   "metadata": {
    "collapsed": false
   },
   "outputs": [
    {
     "data": {
      "text/plain": [
       "array([[4., 4., 4., ..., 4., 4., 4.],\n",
       "       [4., 4., 4., ..., 4., 4., 4.],\n",
       "       [4., 4., 4., ..., 4., 4., 4.],\n",
       "       ...,\n",
       "       [4., 4., 4., ..., 4., 4., 4.],\n",
       "       [4., 4., 4., ..., 4., 4., 4.],\n",
       "       [4., 4., 4., ..., 4., 4., 4.]])"
      ]
     },
     "execution_count": 8,
     "metadata": {},
     "output_type": "execute_result"
    }
   ],
   "source": [
    "result"
   ]
  }
 ],
 "metadata": {
  "kernelspec": {
   "display_name": "Python 3",
   "language": "python",
   "name": "python3"
  },
  "language_info": {
   "codemirror_mode": {
    "name": "ipython",
    "version": 3
   },
   "file_extension": ".py",
   "mimetype": "text/x-python",
   "name": "python",
   "nbconvert_exporter": "python",
   "pygments_lexer": "ipython3",
   "version": "3.6.4"
  }
 },
 "nbformat": 4,
 "nbformat_minor": 2
}

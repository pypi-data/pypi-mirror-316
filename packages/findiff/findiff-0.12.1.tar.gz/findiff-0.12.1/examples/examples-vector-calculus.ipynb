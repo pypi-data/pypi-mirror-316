{
 "cells": [
  {
   "cell_type": "markdown",
   "metadata": {},
   "source": [
    "# Vector Calculus\n",
    "\n",
    "_findiff_ implements the standard vector calculus operations\n",
    "\n",
    "$$\n",
    "\\left(\n",
    "\\frac{\\partial}{\\partial x_0},\n",
    "\\frac{\\partial}{\\partial x_1},\n",
    "\\dots,\n",
    "\\frac{\\partial}{\\partial x_{N-1}}\n",
    "\\right)\\;, \\quad\n",
    "\\nabla \\cdot\\;, \\quad\n",
    "\\nabla^2\\;, \\quad\n",
    "\\nabla \\times\n",
    "$$\n",
    "\n",
    "by the convenience classes `Gradient`, `Divergence`, `Laplace` and `Curl`, respectively."
   ]
  },
  {
   "cell_type": "code",
   "execution_count": 1,
   "metadata": {},
   "outputs": [],
   "source": [
    "import numpy as np\n",
    "from findiff import Gradient, Divergence, Laplacian, Curl"
   ]
  },
  {
   "cell_type": "markdown",
   "metadata": {},
   "source": [
    "First, we want to apply the gradient, the divergence and the Laplacian to some scalar function\n",
    "\n",
    "$$\n",
    "f(x, y, z) = \\sin(x) \\cos(y) \\sin(z)\n",
    "$$\n",
    "\n",
    "We set up our grid and fill the array `f`:"
   ]
  },
  {
   "cell_type": "code",
   "execution_count": 2,
   "metadata": {},
   "outputs": [],
   "source": [
    "x, y, z = [np.linspace(0, 10, 100)] * 3\n",
    "dx, dy, dz = [c[1] - c[0] for c in (x, y, z)]\n",
    "X, Y, Z = np.meshgrid(x, y, z, indexing='ij')\n",
    "f = np.sin(X) * np.cos(Y) * np.sin(Z)"
   ]
  },
  {
   "cell_type": "markdown",
   "metadata": {},
   "source": [
    "$f(x, y, z)$ is a function of three variables, so the array `f` has three axes:"
   ]
  },
  {
   "cell_type": "code",
   "execution_count": 3,
   "metadata": {},
   "outputs": [
    {
     "data": {
      "text/plain": [
       "(100, 100, 100)"
      ]
     },
     "execution_count": 3,
     "metadata": {},
     "output_type": "execute_result"
    }
   ],
   "source": [
    "f.shape"
   ]
  },
  {
   "cell_type": "markdown",
   "metadata": {},
   "source": [
    "It is a scalar function, so we can apply the gradient:"
   ]
  },
  {
   "cell_type": "code",
   "execution_count": 5,
   "metadata": {},
   "outputs": [],
   "source": [
    "grad = Gradient(spac=[dx, dy, dz])\n",
    "grad_f = grad(f)"
   ]
  },
  {
   "cell_type": "markdown",
   "metadata": {},
   "source": [
    "Applying the gradient yields a vector function, where each component is a function of three variables. So the shape of the gradient array is:"
   ]
  },
  {
   "cell_type": "code",
   "execution_count": 6,
   "metadata": {},
   "outputs": [
    {
     "data": {
      "text/plain": [
       "(3, 100, 100, 100)"
      ]
     },
     "execution_count": 6,
     "metadata": {},
     "output_type": "execute_result"
    }
   ],
   "source": [
    "grad_f.shape"
   ]
  },
  {
   "cell_type": "markdown",
   "metadata": {},
   "source": [
    "Applying the Laplacian to a scalar function yields another scalar function:"
   ]
  },
  {
   "cell_type": "code",
   "execution_count": 7,
   "metadata": {},
   "outputs": [
    {
     "data": {
      "text/plain": [
       "(100, 100, 100)"
      ]
     },
     "execution_count": 7,
     "metadata": {},
     "output_type": "execute_result"
    }
   ],
   "source": [
    "laplace = Laplacian(h=[dx, dy, dz])\n",
    "laplace_f = laplace(f)\n",
    "laplace_f.shape"
   ]
  },
  {
   "cell_type": "markdown",
   "metadata": {},
   "source": [
    "Now we define a vector function\n",
    "$$\n",
    "{\\bf g}(x, y, z) = \\left(\n",
    "f(x, y, z), 2\\cdot f(x, y, z), 3\\cdot f(x, y, z)\n",
    "\\right)\n",
    "$$"
   ]
  },
  {
   "cell_type": "code",
   "execution_count": 8,
   "metadata": {},
   "outputs": [
    {
     "data": {
      "text/plain": [
       "(3, 100, 100, 100)"
      ]
     },
     "execution_count": 8,
     "metadata": {},
     "output_type": "execute_result"
    }
   ],
   "source": [
    "g = np.array([f, 2*f, 3*f])\n",
    "g.shape"
   ]
  },
  {
   "cell_type": "markdown",
   "metadata": {},
   "source": [
    "Applying the divergence yields a scalar function:"
   ]
  },
  {
   "cell_type": "code",
   "execution_count": 10,
   "metadata": {},
   "outputs": [
    {
     "data": {
      "text/plain": [
       "(100, 100, 100)"
      ]
     },
     "execution_count": 10,
     "metadata": {},
     "output_type": "execute_result"
    }
   ],
   "source": [
    "div = Divergence(spac=[dx, dy, dz])\n",
    "div_g = div(g)\n",
    "div_g.shape"
   ]
  },
  {
   "cell_type": "markdown",
   "metadata": {},
   "source": [
    "Applying the curl yields another vector function:"
   ]
  },
  {
   "cell_type": "code",
   "execution_count": 9,
   "metadata": {},
   "outputs": [
    {
     "data": {
      "text/plain": [
       "(3, 100, 100, 100)"
      ]
     },
     "execution_count": 9,
     "metadata": {},
     "output_type": "execute_result"
    }
   ],
   "source": [
    "curl = Curl(h=[dx, dy, dz])\n",
    "curl_g = curl(g)\n",
    "curl_g.shape"
   ]
  },
  {
   "cell_type": "markdown",
   "metadata": {},
   "source": [
    "Note that the curl is only defined for three dimensions. Defining the operator on some other dimension raises an exception."
   ]
  }
 ],
 "metadata": {
  "kernelspec": {
   "display_name": "Python 3",
   "language": "python",
   "name": "python3"
  },
  "language_info": {
   "codemirror_mode": {
    "name": "ipython",
    "version": 3
   },
   "file_extension": ".py",
   "mimetype": "text/x-python",
   "name": "python",
   "nbconvert_exporter": "python",
   "pygments_lexer": "ipython3",
   "version": "3.6.4"
  }
 },
 "nbformat": 4,
 "nbformat_minor": 2
}

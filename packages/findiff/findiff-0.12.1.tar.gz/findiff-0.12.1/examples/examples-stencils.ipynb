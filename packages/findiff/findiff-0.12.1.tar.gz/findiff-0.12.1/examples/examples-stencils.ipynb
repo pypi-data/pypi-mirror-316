{
 "cells": [
  {
   "cell_type": "markdown",
   "source": [
    "# Creating stencils for arbitrary offsets"
   ],
   "metadata": {
    "collapsed": false,
    "pycharm": {
     "name": "#%% md\n"
    }
   }
  },
  {
   "cell_type": "markdown",
   "source": [
    "By default, findiff creates representations of differential operations without giving the\n",
    "explicit form of the stencil, i.e. which grid points around a given evaluation point\n",
    "you want to use. Normally, you just say what differential operator you want and what\n",
    "accuracy. This approach will use a set of stencils which are symmetric in the interior\n",
    "of the grid and one-sided near the boundaries. However, sometimes you want to specify\n",
    "which points to use, explicitely. For example, you may want to calculate a derivative\n",
    "using an asymmetric distribution of points. In that case, generic stencils are the way\n",
    "to go in *findiff*. This feature has been implemented as of version 0.9.0.\n"
   ],
   "metadata": {
    "collapsed": false,
    "pycharm": {
     "name": "#%% md\n"
    }
   }
  },
  {
   "cell_type": "markdown",
   "source": [
    "## The `partials` dictionary\n",
    "\n",
    "In the stencils module, we define linear differential operators as Python dictionaries.\n",
    "\n",
    "Each key of the dictionary is a tuple, say `(2, 0)`. This means we have a 2D grid (length of the tuple is 2)\n",
    "and along the zeroth axis, we take the second derivative. Along the 1-axis, we take zeroth derivative (do nothing):\n",
    "\n",
    "$$\n",
    "\\frac{\\partial^2}{\\partial x_0^2}\n",
    "$$\n",
    "\n",
    "Accordingly, `(2, 1, 1)` would mean we have a 3D grid, with second partial derivative along axis 0, first\n",
    "partial derivative along axis 1 and first partial derivative along axis 2:\n",
    "\n",
    "$$\n",
    "\\frac{\\partial^4}{\\partial x_0^2\\partial x_1 \\partial x_2}\n",
    "$$\n",
    "\n",
    "The values of each item in the dictionary give the weight of the derivative, so\n",
    "\n",
    "```\n",
    "(2, 0): 4\n",
    "```\n",
    "\n",
    "means we have the term\n",
    "\n",
    "$$\n",
    "4 \\frac{\\partial^2}{\\partial x_0^2}\n",
    "$$\n",
    "\n",
    "Finally, the dictionary implies a sum over all items, so\n",
    "\n",
    "```\n",
    "{\n",
    " (2, 0): 1,\n",
    " (0, 2): 2\n",
    "}\n",
    "```\n",
    "\n",
    "means\n",
    "\n",
    "$$\n",
    "\\frac{\\partial^2}{\\partial x_0^2} + 2 \\frac{\\partial^2}{\\partial x_1^2}\n",
    "$$"
   ],
   "metadata": {
    "collapsed": false,
    "pycharm": {
     "name": "#%% md\n"
    }
   }
  },
  {
   "cell_type": "markdown",
   "source": [
    "## Example 1: Stencil for 2D Laplacian using 5-points"
   ],
   "metadata": {
    "collapsed": false,
    "pycharm": {
     "name": "#%% md\n"
    }
   }
  },
  {
   "cell_type": "code",
   "execution_count": 1,
   "outputs": [
    {
     "data": {
      "text/plain": "{(0, 0): -4.0, (1, 0): 1.0, (-1, 0): 1.0, (0, 1): 1.0, (0, -1): 1.0}"
     },
     "execution_count": 1,
     "metadata": {},
     "output_type": "execute_result"
    }
   ],
   "source": [
    "from findiff.stencils import Stencil\n",
    "\n",
    "# Which points (given as offsets) to use:\n",
    "offsets = [(0, 0), (1, 0), (-1, 0), (0, 1), (0, -1)]\n",
    "\n",
    "# For the partials argument, see the section above\n",
    "stencil = Stencil(offsets, partials={(2, 0): 1, (0, 2): 1}, spacings=(1, 1))\n",
    "stencil.values"
   ],
   "metadata": {
    "collapsed": false,
    "pycharm": {
     "name": "#%%\n"
    }
   }
  },
  {
   "cell_type": "code",
   "execution_count": 2,
   "outputs": [
    {
     "data": {
      "text/plain": "[(-1, -1), (-1, 0), (-1, 1), (0, -1), (0, 0), (0, 1), (1, -1), (1, 0), (1, 1)]"
     },
     "execution_count": 2,
     "metadata": {},
     "output_type": "execute_result"
    }
   ],
   "source": [
    "from itertools import product\n",
    "\n",
    "offsets = list(product([-1, 0, 1], repeat=2))\n",
    "offsets"
   ],
   "metadata": {
    "collapsed": false,
    "pycharm": {
     "name": "#%%\n"
    }
   }
  },
  {
   "cell_type": "code",
   "execution_count": 4,
   "outputs": [
    {
     "data": {
      "text/plain": "{(-1, 0): 1.0, (0, -1): 1.0, (0, 0): -4.0, (0, 1): 1.0, (1, 0): 1.0}"
     },
     "execution_count": 4,
     "metadata": {},
     "output_type": "execute_result"
    }
   ],
   "source": [
    "# For the partials argument, see the section above\n",
    "stencil = Stencil(offsets, partials={(2, 0): 1, (0, 2): 1}, spacings=(1, 1))\n",
    "stencil.values"
   ],
   "metadata": {
    "collapsed": false,
    "pycharm": {
     "name": "#%%\n"
    }
   }
  },
  {
   "cell_type": "code",
   "execution_count": 7,
   "outputs": [
    {
     "data": {
      "text/plain": "({(0, 0): -2.0, (1, 1): 0.5, (-1, -1): 0.5, (1, -1): 0.5, (-1, 1): 0.5}, 2)"
     },
     "execution_count": 7,
     "metadata": {},
     "output_type": "execute_result"
    }
   ],
   "source": [
    "offsets = [(0, 0), (1, 1), (-1, -1), (1, -1), (-1, 1)]\n",
    "stencil = Stencil(offsets, partials={(2, 0): 1, (0, 2): 1}, spacings=(1, 1))\n",
    "stencil.values, stencil.accuracy"
   ],
   "metadata": {
    "collapsed": false,
    "pycharm": {
     "name": "#%%\n"
    }
   }
  },
  {
   "cell_type": "code",
   "execution_count": 8,
   "outputs": [
    {
     "data": {
      "text/plain": "({(-1, -1): 0.25, (-1, 1): -0.25, (1, -1): -0.25, (1, 1): 0.25}, 2)"
     },
     "execution_count": 8,
     "metadata": {},
     "output_type": "execute_result"
    }
   ],
   "source": [
    "offsets = list(product([-1, 0, 1], repeat=2))\n",
    "stencil = Stencil(offsets, partials={(1, 1): 1}, spacings=(1, 1))\n",
    "stencil.values, stencil.accuracy"
   ],
   "metadata": {
    "collapsed": false,
    "pycharm": {
     "name": "#%%\n"
    }
   }
  },
  {
   "cell_type": "code",
   "execution_count": 3,
   "outputs": [
    {
     "data": {
      "text/plain": "({(-4,): -0.0017857142857142828,\n  (-3,): 0.02539682539682533,\n  (-2,): -0.19999999999999918,\n  (-1,): 1.5999999999999954,\n  (0,): -2.8472222222222148,\n  (1,): 1.5999999999999956,\n  (2,): -0.19999999999999915,\n  (3,): 0.025396825396825296,\n  (4,): -0.0017857142857142785},\n 8)"
     },
     "execution_count": 3,
     "metadata": {},
     "output_type": "execute_result"
    }
   ],
   "source": [
    "offsets = list(range(-4, 5))\n",
    "stencil = Stencil(offsets, partials={(2,): 1}, spacings=(1,))\n",
    "stencil.values, stencil.accuracy"
   ],
   "metadata": {
    "collapsed": false,
    "pycharm": {
     "name": "#%%\n"
    }
   }
  },
  {
   "cell_type": "code",
   "execution_count": null,
   "outputs": [],
   "source": [],
   "metadata": {
    "collapsed": false,
    "pycharm": {
     "name": "#%%\n"
    }
   }
  }
 ],
 "metadata": {
  "kernelspec": {
   "display_name": "Python 3",
   "language": "python",
   "name": "python3"
  },
  "language_info": {
   "codemirror_mode": {
    "name": "ipython",
    "version": 2
   },
   "file_extension": ".py",
   "mimetype": "text/x-python",
   "name": "python",
   "nbconvert_exporter": "python",
   "pygments_lexer": "ipython2",
   "version": "2.7.6"
  }
 },
 "nbformat": 4,
 "nbformat_minor": 0
}
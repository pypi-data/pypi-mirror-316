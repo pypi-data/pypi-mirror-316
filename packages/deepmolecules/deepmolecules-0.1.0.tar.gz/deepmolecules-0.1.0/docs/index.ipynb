{
 "cells": [
  {
   "cell_type": "markdown",
   "metadata": {},
   "source": [
    "# deepmolecules tutorial"
   ]
  },
  {
   "cell_type": "code",
   "execution_count": 2,
   "metadata": {},
   "outputs": [
    {
     "name": "stderr",
     "output_type": "stream",
     "text": [
      "2024-12-23 10:51:38,424 INFO     Data already exists at /home/marvin/.cache/deepmolecules/data\n"
     ]
    }
   ],
   "source": [
    "from deepmolecules import download_data, kcat, km\n",
    "\n",
    "# Download additional data\n",
    "download_data()"
   ]
  },
  {
   "cell_type": "code",
   "execution_count": 3,
   "metadata": {},
   "outputs": [
    {
     "data": {
      "text/html": [
       "<div>\n",
       "<style scoped>\n",
       "    .dataframe tbody tr th:only-of-type {\n",
       "        vertical-align: middle;\n",
       "    }\n",
       "\n",
       "    .dataframe tbody tr th {\n",
       "        vertical-align: top;\n",
       "    }\n",
       "\n",
       "    .dataframe thead th {\n",
       "        text-align: right;\n",
       "    }\n",
       "</style>\n",
       "<table border=\"1\" class=\"dataframe\">\n",
       "  <thead>\n",
       "    <tr style=\"text-align: right;\">\n",
       "      <th></th>\n",
       "      <th>substrate</th>\n",
       "      <th>enzyme</th>\n",
       "      <th>GNN rep</th>\n",
       "      <th>enzyme rep</th>\n",
       "      <th>complete</th>\n",
       "      <th>KM [mM]</th>\n",
       "    </tr>\n",
       "  </thead>\n",
       "  <tbody>\n",
       "    <tr>\n",
       "      <th>0</th>\n",
       "      <td>C00012</td>\n",
       "      <td>MSIPETQKGVIFYESHGKLEYKDIPVPKPKANELLINVKYSGVCHT...</td>\n",
       "      <td>[2.1599, 40.12873, 3.2620366, 2.1908092, 0.0, ...</td>\n",
       "      <td>[-0.07678479, 0.3095483, -0.072399296, -0.0750...</td>\n",
       "      <td>True</td>\n",
       "      <td>0.349176</td>\n",
       "    </tr>\n",
       "    <tr>\n",
       "      <th>1</th>\n",
       "      <td>InChI=1S/C21H27N7O14P2/c22-17-12-19(25-7-24-17...</td>\n",
       "      <td>MSIPETQKGVIFYESHGKLEYKDIPVPKPKANELLINVKYSGVCHT...</td>\n",
       "      <td>[20.846977, 173.14688, 12.362773, 110.97217, 0...</td>\n",
       "      <td>[-0.076705605, 0.30694333, -0.06873098, -0.074...</td>\n",
       "      <td>True</td>\n",
       "      <td>0.197812</td>\n",
       "    </tr>\n",
       "  </tbody>\n",
       "</table>\n",
       "</div>"
      ],
      "text/plain": [
       "                                           substrate  \\\n",
       "0                                             C00012   \n",
       "1  InChI=1S/C21H27N7O14P2/c22-17-12-19(25-7-24-17...   \n",
       "\n",
       "                                              enzyme  \\\n",
       "0  MSIPETQKGVIFYESHGKLEYKDIPVPKPKANELLINVKYSGVCHT...   \n",
       "1  MSIPETQKGVIFYESHGKLEYKDIPVPKPKANELLINVKYSGVCHT...   \n",
       "\n",
       "                                             GNN rep  \\\n",
       "0  [2.1599, 40.12873, 3.2620366, 2.1908092, 0.0, ...   \n",
       "1  [20.846977, 173.14688, 12.362773, 110.97217, 0...   \n",
       "\n",
       "                                          enzyme rep  complete   KM [mM]  \n",
       "0  [-0.07678479, 0.3095483, -0.072399296, -0.0750...      True  0.349176  \n",
       "1  [-0.076705605, 0.30694333, -0.06873098, -0.074...      True  0.197812  "
      ]
     },
     "execution_count": 3,
     "metadata": {},
     "output_type": "execute_result"
    }
   ],
   "source": [
    "km.predict(\n",
    "    substrates=[\n",
    "        \"C00012\",\n",
    "        \"InChI=1S/C21H27N7O14P2/c22-17-12-19(25-7-24-17)\"\n",
    "        \"28(8-26-12)21-16(32)14(30)11(41-21)6-39-44(36,37)\"\n",
    "        \"42-43(34,35)38-5-10-13(29)15(31)20(40-10)27-3-1-2-9\"\n",
    "        \"(4-27)18(23)33/h1-4,7-8,10-11,13-16,20-21,29-32H,\"\n",
    "        \"5-6H2,(H5-,22,23,24,25,33,34,35,36,37)/p-1/t10-,\"\n",
    "        \"11-,13-,14-,15-,16-,20-,21-/m1/s1\",\n",
    "    ],\n",
    "    enzymes=[\n",
    "        \"MSIPETQKGVIFYESHGKLEYKDIPVPKPKANELLINVKYSGVCHTDLHAW\"\n",
    "        \"HGDWPLPVKLPLVGGHEGAGVVVGMGENVKWKIGDYAGIKWLNGSCMACEY\"\n",
    "        \"CELGNESNCPHADLSGYTHDGSFQQYATADAVQAAHIPQGTDLAQVAPILC\"\n",
    "        \"AGITVYKALKSANLMAGHWVAISGAAGGLGSLAVQYAKAMGYRVLGIDGGE\"\n",
    "        \"GKEELFRSIGGEVFIDFTKEKDIVGAVLKATDGGAHGVINVSVSEAAIEAS\"\n",
    "        \"TRYVRANGTTVLVGMPAGAKCCSDVFNQVVKSISIVGSYVGNRADTREALD\"\n",
    "        \"FFARGLVKSPIKVVGLSTLPEIYEKMEKGQIVGRYVVDTSK\",\n",
    "        \"MSIPETQKGVIFYESHGKLEYKDIPVPKPKANELLINVKYSGVCHTDLHAW\"\n",
    "        \"HGDWPLPVKLPLVGGHEGAGVVVGMGENVKWKIGDYAGIKWLNGSCMACEY\"\n",
    "        \"CELGNESNCPHADLSGYTHDGSFQQYATADAVQAAHIPQGTDLAQVAPILC\"\n",
    "        \"AGITVYKALKSANLMAGHWVAISGAAGGLGSLAVQYAKAMGYRVLGIDGGE\"\n",
    "        \"GKEELFRSIGGEVFIDFTKEKDIVGAVLKATDGGAHGVINVSVSEAAIEAS\"\n",
    "        \"TRYVRANGTTVLVGMPAGAKCCSDVFNQVVKSISIVGSYVGNRADTREALD\"\n",
    "        \"FFARGLVKSPIKVVGLSTLPEIYEKMEKGQIVGRYVVDTST\",\n",
    "    ],\n",
    ").head()\n",
    "\n",
    "# Webserver prediction as reference: 0.35 mM"
   ]
  },
  {
   "cell_type": "code",
   "execution_count": 4,
   "metadata": {},
   "outputs": [
    {
     "name": "stderr",
     "output_type": "stream",
     "text": [
      "[10:51:51] DEPRECATION WARNING: please use AtomPairGenerator\n",
      "[10:51:51] DEPRECATION WARNING: please use AtomPairGenerator\n",
      "[10:51:51] DEPRECATION WARNING: please use AtomPairGenerator\n",
      "[10:51:51] DEPRECATION WARNING: please use AtomPairGenerator\n",
      "[10:51:51] DEPRECATION WARNING: please use AtomPairGenerator\n"
     ]
    },
    {
     "data": {
      "text/html": [
       "<div>\n",
       "<style scoped>\n",
       "    .dataframe tbody tr th:only-of-type {\n",
       "        vertical-align: middle;\n",
       "    }\n",
       "\n",
       "    .dataframe tbody tr th {\n",
       "        vertical-align: top;\n",
       "    }\n",
       "\n",
       "    .dataframe thead th {\n",
       "        text-align: right;\n",
       "    }\n",
       "</style>\n",
       "<table border=\"1\" class=\"dataframe\">\n",
       "  <thead>\n",
       "    <tr style=\"text-align: right;\">\n",
       "      <th></th>\n",
       "      <th>substrates</th>\n",
       "      <th>products</th>\n",
       "      <th>enzyme</th>\n",
       "      <th>difference_fp</th>\n",
       "      <th>enzyme rep</th>\n",
       "      <th>complete</th>\n",
       "      <th>kcat [s^(-1)]</th>\n",
       "    </tr>\n",
       "  </thead>\n",
       "  <tbody>\n",
       "    <tr>\n",
       "      <th>0</th>\n",
       "      <td>InChI=1S/C7H5NO4/c9-8(10)5-1-2-6-7(3-5)12-4-11...</td>\n",
       "      <td>InChI=1S/C6H5NO4/c8-5-2-1-4(7(10)11)3-6(5)9/h1...</td>\n",
       "      <td>MKYFPLFPTLVFAARVVAFPAYASLAGLSQQELDAIIPTLEAREPG...</td>\n",
       "      <td>[0.0, 0.0, 0.0, 0.0, 0.0, 0.0, 0.0, 0.0, 0.0, ...</td>\n",
       "      <td>[0.8315532, 0.08632779, -0.4214351, 0.4193583,...</td>\n",
       "      <td>True</td>\n",
       "      <td>216.114853</td>\n",
       "    </tr>\n",
       "  </tbody>\n",
       "</table>\n",
       "</div>"
      ],
      "text/plain": [
       "                                          substrates  \\\n",
       "0  InChI=1S/C7H5NO4/c9-8(10)5-1-2-6-7(3-5)12-4-11...   \n",
       "\n",
       "                                            products  \\\n",
       "0  InChI=1S/C6H5NO4/c8-5-2-1-4(7(10)11)3-6(5)9/h1...   \n",
       "\n",
       "                                              enzyme  \\\n",
       "0  MKYFPLFPTLVFAARVVAFPAYASLAGLSQQELDAIIPTLEAREPG...   \n",
       "\n",
       "                                       difference_fp  \\\n",
       "0  [0.0, 0.0, 0.0, 0.0, 0.0, 0.0, 0.0, 0.0, 0.0, ...   \n",
       "\n",
       "                                          enzyme rep  complete  kcat [s^(-1)]  \n",
       "0  [0.8315532, 0.08632779, -0.4214351, 0.4193583,...      True     216.114853  "
      ]
     },
     "execution_count": 4,
     "metadata": {},
     "output_type": "execute_result"
    }
   ],
   "source": [
    "kcat.predict(\n",
    "    substrates=[\n",
    "        \"InChI=1S/C7H5NO4/c9-8(10)5-1-2-6-7(3-5)\"\n",
    "        \"12-4-11-6/h1-3H,4H2;InChI=1S/H2O2/c1-2/h1-2H\",\n",
    "    ],\n",
    "    products=[\n",
    "        \"InChI=1S/C6H5NO4/c8-5-2-1-4(7(10)11)3-6(5)9/\"\n",
    "        \"h1-3,8-9H;InChI=1S/CH2O2/c2-1-3/h1H,(H,2,3);InChI=1S/H2O/h1H2\",\n",
    "    ],\n",
    "    enzymes=[\n",
    "        \"MKYFPLFPTLVFAARVVAFPAYASLAGLSQQELDAIIPTLEAREP\"\n",
    "        \"GLPPGPLENSSAKLVNDEAHPWKPLRPGDIRGPCPGLNTLASHGY\"\n",
    "        \"LPRNGVATPVQIINAVQEGLNFDNQAAVFATYAAHLVDGNLITDL\"\n",
    "        \"LSIGRKTRLTGPDPPPPASVGGLNEHGTFEGDASMTRGDAFFGNN\"\n",
    "        \"HDFNETLFEQLVDYSNRFGGGKYNLTVAGELRFKRIQDSIATNPN\"\n",
    "        \"FSFVDFRFFTAYGETTFPANLFVDGRRDDGQLDMDAARSFFQFSR\"\n",
    "        \"MPDDFFRAPSPRSGTGVEVVIQAHPMQPGRNVGKINSYTVDPTSS\"\n",
    "        \"DFSTPCLMYEKFVNITVKSLYPNPTVQLRKALNTNLDFFFQGVAA\"\n",
    "        \"GCTQVFPYGRD\",\n",
    "    ],\n",
    ").head()\n",
    "\n",
    "# Webserver prediction as reference: 2.12 [1/sec]"
   ]
  },
  {
   "cell_type": "code",
   "execution_count": null,
   "metadata": {},
   "outputs": [],
   "source": []
  }
 ],
 "metadata": {
  "kernelspec": {
   "display_name": ".venv",
   "language": "python",
   "name": "python3"
  },
  "language_info": {
   "codemirror_mode": {
    "name": "ipython",
    "version": 3
   },
   "file_extension": ".py",
   "mimetype": "text/x-python",
   "name": "python",
   "nbconvert_exporter": "python",
   "pygments_lexer": "ipython3",
   "version": "3.11.11"
  },
  "toc": {
   "base_numbering": 1,
   "nav_menu": {},
   "number_sections": true,
   "sideBar": true,
   "skip_h1_title": false,
   "title_cell": "Table of Contents",
   "title_sidebar": "Contents",
   "toc_cell": false,
   "toc_position": {},
   "toc_section_display": true,
   "toc_window_display": false
  }
 },
 "nbformat": 4,
 "nbformat_minor": 2
}

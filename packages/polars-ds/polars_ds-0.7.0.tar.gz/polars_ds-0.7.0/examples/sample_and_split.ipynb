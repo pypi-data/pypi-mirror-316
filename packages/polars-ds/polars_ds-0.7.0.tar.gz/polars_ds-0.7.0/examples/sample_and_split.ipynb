{
 "cells": [
  {
   "cell_type": "markdown",
   "metadata": {},
   "source": [
    "# Sampling and Splitting"
   ]
  },
  {
   "cell_type": "markdown",
   "metadata": {},
   "source": [
    "## Sampling\n",
    "\n",
    "Sampling for basic tabular datasets. (Not designed for time series as of now.)"
   ]
  },
  {
   "cell_type": "code",
   "execution_count": 1,
   "metadata": {},
   "outputs": [],
   "source": [
    "import polars as pl\n",
    "import polars_ds as pds\n",
    "import polars_ds.sample_and_split as sa"
   ]
  },
  {
   "cell_type": "code",
   "execution_count": 2,
   "metadata": {},
   "outputs": [
    {
     "data": {
      "text/html": [
       "<div><style>\n",
       ".dataframe > thead > tr,\n",
       ".dataframe > tbody > tr {\n",
       "  text-align: right;\n",
       "  white-space: pre-wrap;\n",
       "}\n",
       "</style>\n",
       "<small>shape: (5, 8)</small><table border=\"1\" class=\"dataframe\"><thead><tr><th>row_num</th><th>uniform_1</th><th>uniform_2</th><th>exp</th><th>normal</th><th>fat_normal</th><th>flags</th><th>category</th></tr><tr><td>i64</td><td>f64</td><td>f64</td><td>f64</td><td>f64</td><td>f64</td><td>i32</td><td>str</td></tr></thead><tbody><tr><td>0</td><td>5.355462</td><td>0.227585</td><td>0.875413</td><td>1.255306</td><td>-1534.296075</td><td>0</td><td>&quot;A&quot;</td></tr><tr><td>1</td><td>3.143742</td><td>0.651711</td><td>2.12331</td><td>-0.27767</td><td>544.798771</td><td>0</td><td>&quot;A&quot;</td></tr><tr><td>2</td><td>9.585138</td><td>0.720147</td><td>1.04885</td><td>0.01982</td><td>2388.724441</td><td>0</td><td>&quot;A&quot;</td></tr><tr><td>3</td><td>11.73043</td><td>0.059602</td><td>3.624234</td><td>-1.177224</td><td>442.397518</td><td>0</td><td>&quot;A&quot;</td></tr><tr><td>4</td><td>1.310415</td><td>0.783836</td><td>3.70326</td><td>1.501242</td><td>189.064492</td><td>2</td><td>&quot;A&quot;</td></tr></tbody></table></div>"
      ],
      "text/plain": [
       "shape: (5, 8)\n",
       "┌─────────┬───────────┬───────────┬──────────┬───────────┬──────────────┬───────┬──────────┐\n",
       "│ row_num ┆ uniform_1 ┆ uniform_2 ┆ exp      ┆ normal    ┆ fat_normal   ┆ flags ┆ category │\n",
       "│ ---     ┆ ---       ┆ ---       ┆ ---      ┆ ---       ┆ ---          ┆ ---   ┆ ---      │\n",
       "│ i64     ┆ f64       ┆ f64       ┆ f64      ┆ f64       ┆ f64          ┆ i32   ┆ str      │\n",
       "╞═════════╪═══════════╪═══════════╪══════════╪═══════════╪══════════════╪═══════╪══════════╡\n",
       "│ 0       ┆ 5.355462  ┆ 0.227585  ┆ 0.875413 ┆ 1.255306  ┆ -1534.296075 ┆ 0     ┆ A        │\n",
       "│ 1       ┆ 3.143742  ┆ 0.651711  ┆ 2.12331  ┆ -0.27767  ┆ 544.798771   ┆ 0     ┆ A        │\n",
       "│ 2       ┆ 9.585138  ┆ 0.720147  ┆ 1.04885  ┆ 0.01982   ┆ 2388.724441  ┆ 0     ┆ A        │\n",
       "│ 3       ┆ 11.73043  ┆ 0.059602  ┆ 3.624234 ┆ -1.177224 ┆ 442.397518   ┆ 0     ┆ A        │\n",
       "│ 4       ┆ 1.310415  ┆ 0.783836  ┆ 3.70326  ┆ 1.501242  ┆ 189.064492   ┆ 2     ┆ A        │\n",
       "└─────────┴───────────┴───────────┴──────────┴───────────┴──────────────┴───────┴──────────┘"
      ]
     },
     "execution_count": 2,
     "metadata": {},
     "output_type": "execute_result"
    }
   ],
   "source": [
    "df = pds.frame(size=100_000).with_columns(\n",
    "    pds.random(0.0, 12.0).alias(\"uniform_1\"),\n",
    "    pds.random(0.0, 1.0).alias(\"uniform_2\"),\n",
    "    pds.random_exp(0.5).alias(\"exp\"),\n",
    "    pds.random_normal(0.0, 1.0).alias(\"normal\"),\n",
    "    pds.random_normal(0.0, 1000.0).alias(\"fat_normal\"),\n",
    "    (pds.random_int(0, 3)).alias(\"flags\"),\n",
    "    pl.Series([\"A\"] * 30_000 + [\"B\"] * 30_000 + [\"C\"] * 40_000).alias(\"category\"),\n",
    ")\n",
    "df.head()"
   ]
  },
  {
   "cell_type": "code",
   "execution_count": 3,
   "metadata": {},
   "outputs": [
    {
     "data": {
      "text/plain": [
       "['row_num', 'uniform_2', 'exp']"
      ]
     },
     "execution_count": 3,
     "metadata": {},
     "output_type": "execute_result"
    }
   ],
   "source": [
    "sa.random_cols(df.columns, 2, keep = [\"row_num\"])"
   ]
  },
  {
   "cell_type": "code",
   "execution_count": 4,
   "metadata": {},
   "outputs": [
    {
     "data": {
      "text/html": [
       "<div><style>\n",
       ".dataframe > thead > tr,\n",
       ".dataframe > tbody > tr {\n",
       "  text-align: right;\n",
       "  white-space: pre-wrap;\n",
       "}\n",
       "</style>\n",
       "<small>shape: (60_000, 8)</small><table border=\"1\" class=\"dataframe\"><thead><tr><th>row_num</th><th>uniform_1</th><th>uniform_2</th><th>exp</th><th>normal</th><th>fat_normal</th><th>flags</th><th>category</th></tr><tr><td>i64</td><td>f64</td><td>f64</td><td>f64</td><td>f64</td><td>f64</td><td>i32</td><td>str</td></tr></thead><tbody><tr><td>1</td><td>3.143742</td><td>0.651711</td><td>2.12331</td><td>-0.27767</td><td>544.798771</td><td>0</td><td>&quot;A&quot;</td></tr><tr><td>2</td><td>9.585138</td><td>0.720147</td><td>1.04885</td><td>0.01982</td><td>2388.724441</td><td>0</td><td>&quot;A&quot;</td></tr><tr><td>6</td><td>0.189662</td><td>0.0651</td><td>1.316939</td><td>-0.244435</td><td>748.995179</td><td>0</td><td>&quot;A&quot;</td></tr><tr><td>7</td><td>0.661346</td><td>0.874092</td><td>4.843038</td><td>0.31243</td><td>-383.659135</td><td>0</td><td>&quot;A&quot;</td></tr><tr><td>8</td><td>0.053801</td><td>0.983342</td><td>0.452362</td><td>0.312257</td><td>-386.689719</td><td>0</td><td>&quot;A&quot;</td></tr><tr><td>&hellip;</td><td>&hellip;</td><td>&hellip;</td><td>&hellip;</td><td>&hellip;</td><td>&hellip;</td><td>&hellip;</td><td>&hellip;</td></tr><tr><td>99994</td><td>7.536122</td><td>0.11414</td><td>2.847801</td><td>-0.916853</td><td>-1340.111513</td><td>2</td><td>&quot;C&quot;</td></tr><tr><td>99996</td><td>10.030577</td><td>0.939568</td><td>0.987719</td><td>0.701578</td><td>-768.062655</td><td>0</td><td>&quot;C&quot;</td></tr><tr><td>99997</td><td>5.118598</td><td>0.552395</td><td>2.390273</td><td>-2.57956</td><td>-1076.610099</td><td>0</td><td>&quot;C&quot;</td></tr><tr><td>99998</td><td>5.701428</td><td>0.521572</td><td>1.290974</td><td>-1.361779</td><td>5.278061</td><td>1</td><td>&quot;C&quot;</td></tr><tr><td>99999</td><td>7.946039</td><td>0.225155</td><td>2.564999</td><td>0.367505</td><td>-1021.479937</td><td>1</td><td>&quot;C&quot;</td></tr></tbody></table></div>"
      ],
      "text/plain": [
       "shape: (60_000, 8)\n",
       "┌─────────┬───────────┬───────────┬──────────┬───────────┬──────────────┬───────┬──────────┐\n",
       "│ row_num ┆ uniform_1 ┆ uniform_2 ┆ exp      ┆ normal    ┆ fat_normal   ┆ flags ┆ category │\n",
       "│ ---     ┆ ---       ┆ ---       ┆ ---      ┆ ---       ┆ ---          ┆ ---   ┆ ---      │\n",
       "│ i64     ┆ f64       ┆ f64       ┆ f64      ┆ f64       ┆ f64          ┆ i32   ┆ str      │\n",
       "╞═════════╪═══════════╪═══════════╪══════════╪═══════════╪══════════════╪═══════╪══════════╡\n",
       "│ 1       ┆ 3.143742  ┆ 0.651711  ┆ 2.12331  ┆ -0.27767  ┆ 544.798771   ┆ 0     ┆ A        │\n",
       "│ 2       ┆ 9.585138  ┆ 0.720147  ┆ 1.04885  ┆ 0.01982   ┆ 2388.724441  ┆ 0     ┆ A        │\n",
       "│ 6       ┆ 0.189662  ┆ 0.0651    ┆ 1.316939 ┆ -0.244435 ┆ 748.995179   ┆ 0     ┆ A        │\n",
       "│ 7       ┆ 0.661346  ┆ 0.874092  ┆ 4.843038 ┆ 0.31243   ┆ -383.659135  ┆ 0     ┆ A        │\n",
       "│ 8       ┆ 0.053801  ┆ 0.983342  ┆ 0.452362 ┆ 0.312257  ┆ -386.689719  ┆ 0     ┆ A        │\n",
       "│ …       ┆ …         ┆ …         ┆ …        ┆ …         ┆ …            ┆ …     ┆ …        │\n",
       "│ 99994   ┆ 7.536122  ┆ 0.11414   ┆ 2.847801 ┆ -0.916853 ┆ -1340.111513 ┆ 2     ┆ C        │\n",
       "│ 99996   ┆ 10.030577 ┆ 0.939568  ┆ 0.987719 ┆ 0.701578  ┆ -768.062655  ┆ 0     ┆ C        │\n",
       "│ 99997   ┆ 5.118598  ┆ 0.552395  ┆ 2.390273 ┆ -2.57956  ┆ -1076.610099 ┆ 0     ┆ C        │\n",
       "│ 99998   ┆ 5.701428  ┆ 0.521572  ┆ 1.290974 ┆ -1.361779 ┆ 5.278061     ┆ 1     ┆ C        │\n",
       "│ 99999   ┆ 7.946039  ┆ 0.225155  ┆ 2.564999 ┆ 0.367505  ┆ -1021.479937 ┆ 1     ┆ C        │\n",
       "└─────────┴───────────┴───────────┴──────────┴───────────┴──────────────┴───────┴──────────┘"
      ]
     },
     "execution_count": 4,
     "metadata": {},
     "output_type": "execute_result"
    }
   ],
   "source": [
    "# Random Sample\n",
    "sa.sample(df, 0.6) # by ratio"
   ]
  },
  {
   "cell_type": "code",
   "execution_count": 5,
   "metadata": {},
   "outputs": [
    {
     "data": {
      "text/html": [
       "<div><style>\n",
       ".dataframe > thead > tr,\n",
       ".dataframe > tbody > tr {\n",
       "  text-align: right;\n",
       "  white-space: pre-wrap;\n",
       "}\n",
       "</style>\n",
       "<small>shape: (30_000, 8)</small><table border=\"1\" class=\"dataframe\"><thead><tr><th>row_num</th><th>uniform_1</th><th>uniform_2</th><th>exp</th><th>normal</th><th>fat_normal</th><th>flags</th><th>category</th></tr><tr><td>i64</td><td>f64</td><td>f64</td><td>f64</td><td>f64</td><td>f64</td><td>i32</td><td>str</td></tr></thead><tbody><tr><td>10</td><td>9.781623</td><td>0.563868</td><td>4.488553</td><td>0.123101</td><td>1628.818496</td><td>1</td><td>&quot;A&quot;</td></tr><tr><td>11</td><td>4.508328</td><td>0.594697</td><td>3.877757</td><td>0.849688</td><td>-1242.37697</td><td>1</td><td>&quot;A&quot;</td></tr><tr><td>14</td><td>1.702338</td><td>0.776305</td><td>1.346987</td><td>0.481826</td><td>-403.30214</td><td>2</td><td>&quot;A&quot;</td></tr><tr><td>19</td><td>11.897234</td><td>0.55035</td><td>1.791477</td><td>0.861923</td><td>641.532776</td><td>2</td><td>&quot;A&quot;</td></tr><tr><td>22</td><td>4.077515</td><td>0.737717</td><td>1.093235</td><td>1.048444</td><td>1269.183071</td><td>2</td><td>&quot;A&quot;</td></tr><tr><td>&hellip;</td><td>&hellip;</td><td>&hellip;</td><td>&hellip;</td><td>&hellip;</td><td>&hellip;</td><td>&hellip;</td><td>&hellip;</td></tr><tr><td>99989</td><td>5.26012</td><td>0.479069</td><td>0.748342</td><td>-0.224175</td><td>-84.266224</td><td>1</td><td>&quot;C&quot;</td></tr><tr><td>99994</td><td>7.536122</td><td>0.11414</td><td>2.847801</td><td>-0.916853</td><td>-1340.111513</td><td>2</td><td>&quot;C&quot;</td></tr><tr><td>99995</td><td>10.490682</td><td>0.611692</td><td>0.384882</td><td>-0.474915</td><td>157.011096</td><td>2</td><td>&quot;C&quot;</td></tr><tr><td>99996</td><td>10.030577</td><td>0.939568</td><td>0.987719</td><td>0.701578</td><td>-768.062655</td><td>0</td><td>&quot;C&quot;</td></tr><tr><td>99998</td><td>5.701428</td><td>0.521572</td><td>1.290974</td><td>-1.361779</td><td>5.278061</td><td>1</td><td>&quot;C&quot;</td></tr></tbody></table></div>"
      ],
      "text/plain": [
       "shape: (30_000, 8)\n",
       "┌─────────┬───────────┬───────────┬──────────┬───────────┬──────────────┬───────┬──────────┐\n",
       "│ row_num ┆ uniform_1 ┆ uniform_2 ┆ exp      ┆ normal    ┆ fat_normal   ┆ flags ┆ category │\n",
       "│ ---     ┆ ---       ┆ ---       ┆ ---      ┆ ---       ┆ ---          ┆ ---   ┆ ---      │\n",
       "│ i64     ┆ f64       ┆ f64       ┆ f64      ┆ f64       ┆ f64          ┆ i32   ┆ str      │\n",
       "╞═════════╪═══════════╪═══════════╪══════════╪═══════════╪══════════════╪═══════╪══════════╡\n",
       "│ 10      ┆ 9.781623  ┆ 0.563868  ┆ 4.488553 ┆ 0.123101  ┆ 1628.818496  ┆ 1     ┆ A        │\n",
       "│ 11      ┆ 4.508328  ┆ 0.594697  ┆ 3.877757 ┆ 0.849688  ┆ -1242.37697  ┆ 1     ┆ A        │\n",
       "│ 14      ┆ 1.702338  ┆ 0.776305  ┆ 1.346987 ┆ 0.481826  ┆ -403.30214   ┆ 2     ┆ A        │\n",
       "│ 19      ┆ 11.897234 ┆ 0.55035   ┆ 1.791477 ┆ 0.861923  ┆ 641.532776   ┆ 2     ┆ A        │\n",
       "│ 22      ┆ 4.077515  ┆ 0.737717  ┆ 1.093235 ┆ 1.048444  ┆ 1269.183071  ┆ 2     ┆ A        │\n",
       "│ …       ┆ …         ┆ …         ┆ …        ┆ …         ┆ …            ┆ …     ┆ …        │\n",
       "│ 99989   ┆ 5.26012   ┆ 0.479069  ┆ 0.748342 ┆ -0.224175 ┆ -84.266224   ┆ 1     ┆ C        │\n",
       "│ 99994   ┆ 7.536122  ┆ 0.11414   ┆ 2.847801 ┆ -0.916853 ┆ -1340.111513 ┆ 2     ┆ C        │\n",
       "│ 99995   ┆ 10.490682 ┆ 0.611692  ┆ 0.384882 ┆ -0.474915 ┆ 157.011096   ┆ 2     ┆ C        │\n",
       "│ 99996   ┆ 10.030577 ┆ 0.939568  ┆ 0.987719 ┆ 0.701578  ┆ -768.062655  ┆ 0     ┆ C        │\n",
       "│ 99998   ┆ 5.701428  ┆ 0.521572  ┆ 1.290974 ┆ -1.361779 ┆ 5.278061     ┆ 1     ┆ C        │\n",
       "└─────────┴───────────┴───────────┴──────────┴───────────┴──────────────┴───────┴──────────┘"
      ]
     },
     "execution_count": 5,
     "metadata": {},
     "output_type": "execute_result"
    }
   ],
   "source": [
    "sa.sample(df, 30_000) # by count"
   ]
  },
  {
   "cell_type": "code",
   "execution_count": 6,
   "metadata": {},
   "outputs": [
    {
     "data": {
      "text/html": [
       "<div><style>\n",
       ".dataframe > thead > tr,\n",
       ".dataframe > tbody > tr {\n",
       "  text-align: right;\n",
       "  white-space: pre-wrap;\n",
       "}\n",
       "</style>\n",
       "<small>shape: (3, 2)</small><table border=\"1\" class=\"dataframe\"><thead><tr><th>flags</th><th>len</th></tr><tr><td>i32</td><td>u32</td></tr></thead><tbody><tr><td>0</td><td>33381</td></tr><tr><td>1</td><td>33169</td></tr><tr><td>2</td><td>33450</td></tr></tbody></table></div>"
      ],
      "text/plain": [
       "shape: (3, 2)\n",
       "┌───────┬───────┐\n",
       "│ flags ┆ len   │\n",
       "│ ---   ┆ ---   │\n",
       "│ i32   ┆ u32   │\n",
       "╞═══════╪═══════╡\n",
       "│ 0     ┆ 33381 │\n",
       "│ 1     ┆ 33169 │\n",
       "│ 2     ┆ 33450 │\n",
       "└───────┴───────┘"
      ]
     },
     "execution_count": 6,
     "metadata": {},
     "output_type": "execute_result"
    }
   ],
   "source": [
    "df.group_by(\"flags\").len().sort(\"flags\")"
   ]
  },
  {
   "cell_type": "code",
   "execution_count": 7,
   "metadata": {},
   "outputs": [
    {
     "data": {
      "text/html": [
       "<div><style>\n",
       ".dataframe > thead > tr,\n",
       ".dataframe > tbody > tr {\n",
       "  text-align: right;\n",
       "  white-space: pre-wrap;\n",
       "}\n",
       "</style>\n",
       "<small>shape: (3, 2)</small><table border=\"1\" class=\"dataframe\"><thead><tr><th>flags</th><th>len</th></tr><tr><td>i32</td><td>u32</td></tr></thead><tbody><tr><td>0</td><td>16690</td></tr><tr><td>1</td><td>33169</td></tr><tr><td>2</td><td>33450</td></tr></tbody></table></div>"
      ],
      "text/plain": [
       "shape: (3, 2)\n",
       "┌───────┬───────┐\n",
       "│ flags ┆ len   │\n",
       "│ ---   ┆ ---   │\n",
       "│ i32   ┆ u32   │\n",
       "╞═══════╪═══════╡\n",
       "│ 0     ┆ 16690 │\n",
       "│ 1     ┆ 33169 │\n",
       "│ 2     ┆ 33450 │\n",
       "└───────┴───────┘"
      ]
     },
     "execution_count": 7,
     "metadata": {},
     "output_type": "execute_result"
    }
   ],
   "source": [
    "# Downsample on one group\n",
    "sa1 = sa.downsample(\n",
    "    df, \n",
    "    (pl.col(\"flags\") == 0, 0.5)\n",
    ")\n",
    "sa1.group_by(\"flags\").len().sort(\"flags\")"
   ]
  },
  {
   "cell_type": "code",
   "execution_count": 8,
   "metadata": {},
   "outputs": [
    {
     "data": {
      "text/html": [
       "<div><style>\n",
       ".dataframe > thead > tr,\n",
       ".dataframe > tbody > tr {\n",
       "  text-align: right;\n",
       "  white-space: pre-wrap;\n",
       "}\n",
       "</style>\n",
       "<small>shape: (3, 2)</small><table border=\"1\" class=\"dataframe\"><thead><tr><th>flags</th><th>len</th></tr><tr><td>i32</td><td>u32</td></tr></thead><tbody><tr><td>0</td><td>16690</td></tr><tr><td>1</td><td>9950</td></tr><tr><td>2</td><td>13380</td></tr></tbody></table></div>"
      ],
      "text/plain": [
       "shape: (3, 2)\n",
       "┌───────┬───────┐\n",
       "│ flags ┆ len   │\n",
       "│ ---   ┆ ---   │\n",
       "│ i32   ┆ u32   │\n",
       "╞═══════╪═══════╡\n",
       "│ 0     ┆ 16690 │\n",
       "│ 1     ┆ 9950  │\n",
       "│ 2     ┆ 13380 │\n",
       "└───────┴───────┘"
      ]
     },
     "execution_count": 8,
     "metadata": {},
     "output_type": "execute_result"
    }
   ],
   "source": [
    "# Downsample on multiple groups\n",
    "sa2 = sa.downsample(\n",
    "    df, \n",
    "    (pl.col(\"flags\") == 0, 0.5),\n",
    "    (pl.col(\"flags\") == 1, 0.3),\n",
    "    (pl.col(\"flags\") == 2, 0.4),\n",
    ")\n",
    "sa2.group_by(\"flags\").len().sort(\"flags\")"
   ]
  },
  {
   "cell_type": "code",
   "execution_count": 9,
   "metadata": {},
   "outputs": [
    {
     "data": {
      "text/html": [
       "<div><style>\n",
       ".dataframe > thead > tr,\n",
       ".dataframe > tbody > tr {\n",
       "  text-align: right;\n",
       "  white-space: pre-wrap;\n",
       "}\n",
       "</style>\n",
       "<small>shape: (3, 2)</small><table border=\"1\" class=\"dataframe\"><thead><tr><th>category</th><th>len</th></tr><tr><td>str</td><td>u32</td></tr></thead><tbody><tr><td>&quot;A&quot;</td><td>30000</td></tr><tr><td>&quot;B&quot;</td><td>30000</td></tr><tr><td>&quot;C&quot;</td><td>40000</td></tr></tbody></table></div>"
      ],
      "text/plain": [
       "shape: (3, 2)\n",
       "┌──────────┬───────┐\n",
       "│ category ┆ len   │\n",
       "│ ---      ┆ ---   │\n",
       "│ str      ┆ u32   │\n",
       "╞══════════╪═══════╡\n",
       "│ A        ┆ 30000 │\n",
       "│ B        ┆ 30000 │\n",
       "│ C        ┆ 40000 │\n",
       "└──────────┴───────┘"
      ]
     },
     "execution_count": 9,
     "metadata": {},
     "output_type": "execute_result"
    }
   ],
   "source": [
    "df.group_by(\"category\").len().sort(\"category\")"
   ]
  },
  {
   "cell_type": "code",
   "execution_count": 10,
   "metadata": {},
   "outputs": [
    {
     "data": {
      "text/html": [
       "<div><style>\n",
       ".dataframe > thead > tr,\n",
       ".dataframe > tbody > tr {\n",
       "  text-align: right;\n",
       "  white-space: pre-wrap;\n",
       "}\n",
       "</style>\n",
       "<small>shape: (3, 2)</small><table border=\"1\" class=\"dataframe\"><thead><tr><th>category</th><th>len</th></tr><tr><td>str</td><td>u32</td></tr></thead><tbody><tr><td>&quot;A&quot;</td><td>30000</td></tr><tr><td>&quot;B&quot;</td><td>30000</td></tr><tr><td>&quot;C&quot;</td><td>30000</td></tr></tbody></table></div>"
      ],
      "text/plain": [
       "shape: (3, 2)\n",
       "┌──────────┬───────┐\n",
       "│ category ┆ len   │\n",
       "│ ---      ┆ ---   │\n",
       "│ str      ┆ u32   │\n",
       "╞══════════╪═══════╡\n",
       "│ A        ┆ 30000 │\n",
       "│ B        ┆ 30000 │\n",
       "│ C        ┆ 30000 │\n",
       "└──────────┴───────┘"
      ]
     },
     "execution_count": 10,
     "metadata": {},
     "output_type": "execute_result"
    }
   ],
   "source": [
    "# Volume neutral by each category, will take the greatest possible value so that we get neutral volume.\n",
    "vn = sa.volume_neutral(\n",
    "    df,\n",
    "    by = pl.col(\"category\"),\n",
    ")\n",
    "vn.group_by(\"category\").len().sort(\"category\")"
   ]
  },
  {
   "cell_type": "code",
   "execution_count": 11,
   "metadata": {},
   "outputs": [
    {
     "data": {
      "text/html": [
       "<div><style>\n",
       ".dataframe > thead > tr,\n",
       ".dataframe > tbody > tr {\n",
       "  text-align: right;\n",
       "  white-space: pre-wrap;\n",
       "}\n",
       "</style>\n",
       "<small>shape: (3, 2)</small><table border=\"1\" class=\"dataframe\"><thead><tr><th>category</th><th>len</th></tr><tr><td>str</td><td>u32</td></tr></thead><tbody><tr><td>&quot;A&quot;</td><td>10000</td></tr><tr><td>&quot;B&quot;</td><td>10000</td></tr><tr><td>&quot;C&quot;</td><td>10000</td></tr></tbody></table></div>"
      ],
      "text/plain": [
       "shape: (3, 2)\n",
       "┌──────────┬───────┐\n",
       "│ category ┆ len   │\n",
       "│ ---      ┆ ---   │\n",
       "│ str      ┆ u32   │\n",
       "╞══════════╪═══════╡\n",
       "│ A        ┆ 10000 │\n",
       "│ B        ┆ 10000 │\n",
       "│ C        ┆ 10000 │\n",
       "└──────────┴───────┘"
      ]
     },
     "execution_count": 11,
     "metadata": {},
     "output_type": "execute_result"
    }
   ],
   "source": [
    "# Volume neutral (10_000) by each category\n",
    "vn = sa.volume_neutral(\n",
    "    df,\n",
    "    by = pl.col(\"category\"),\n",
    "    target_volume = 10_000\n",
    ")\n",
    "vn.group_by(\"category\").len().sort(\"category\")"
   ]
  },
  {
   "cell_type": "code",
   "execution_count": 12,
   "metadata": {},
   "outputs": [
    {
     "data": {
      "text/html": [
       "<div><style>\n",
       ".dataframe > thead > tr,\n",
       ".dataframe > tbody > tr {\n",
       "  text-align: right;\n",
       "  white-space: pre-wrap;\n",
       "}\n",
       "</style>\n",
       "<small>shape: (3, 2)</small><table border=\"1\" class=\"dataframe\"><thead><tr><th>category</th><th>len</th></tr><tr><td>str</td><td>u32</td></tr></thead><tbody><tr><td>&quot;A&quot;</td><td>10000</td></tr><tr><td>&quot;B&quot;</td><td>4220</td></tr><tr><td>&quot;C&quot;</td><td>5780</td></tr></tbody></table></div>"
      ],
      "text/plain": [
       "shape: (3, 2)\n",
       "┌──────────┬───────┐\n",
       "│ category ┆ len   │\n",
       "│ ---      ┆ ---   │\n",
       "│ str      ┆ u32   │\n",
       "╞══════════╪═══════╡\n",
       "│ A        ┆ 10000 │\n",
       "│ B        ┆ 4220  │\n",
       "│ C        ┆ 5780  │\n",
       "└──────────┴───────┘"
      ]
     },
     "execution_count": 12,
     "metadata": {},
     "output_type": "execute_result"
    }
   ],
   "source": [
    "# Volume neutral (10_000) by a more complicated condition\n",
    "vn = sa.volume_neutral(\n",
    "    df,\n",
    "    by = pl.col(\"category\") == \"A\",\n",
    "    target_volume = 10_000\n",
    ") # This makes sense because count for B + count for C = 10_000\n",
    "vn.group_by(\"category\").len().sort(\"category\")"
   ]
  },
  {
   "cell_type": "code",
   "execution_count": 13,
   "metadata": {},
   "outputs": [
    {
     "data": {
      "text/html": [
       "<div><style>\n",
       ".dataframe > thead > tr,\n",
       ".dataframe > tbody > tr {\n",
       "  text-align: right;\n",
       "  white-space: pre-wrap;\n",
       "}\n",
       "</style>\n",
       "<small>shape: (9, 3)</small><table border=\"1\" class=\"dataframe\"><thead><tr><th>category</th><th>flags</th><th>len</th></tr><tr><td>str</td><td>i32</td><td>u32</td></tr></thead><tbody><tr><td>&quot;A&quot;</td><td>0</td><td>9917</td></tr><tr><td>&quot;A&quot;</td><td>1</td><td>9917</td></tr><tr><td>&quot;A&quot;</td><td>2</td><td>9917</td></tr><tr><td>&quot;B&quot;</td><td>0</td><td>9848</td></tr><tr><td>&quot;B&quot;</td><td>1</td><td>9848</td></tr><tr><td>&quot;B&quot;</td><td>2</td><td>9848</td></tr><tr><td>&quot;C&quot;</td><td>0</td><td>13262</td></tr><tr><td>&quot;C&quot;</td><td>1</td><td>13262</td></tr><tr><td>&quot;C&quot;</td><td>2</td><td>13262</td></tr></tbody></table></div>"
      ],
      "text/plain": [
       "shape: (9, 3)\n",
       "┌──────────┬───────┬───────┐\n",
       "│ category ┆ flags ┆ len   │\n",
       "│ ---      ┆ ---   ┆ ---   │\n",
       "│ str      ┆ i32   ┆ u32   │\n",
       "╞══════════╪═══════╪═══════╡\n",
       "│ A        ┆ 0     ┆ 9917  │\n",
       "│ A        ┆ 1     ┆ 9917  │\n",
       "│ A        ┆ 2     ┆ 9917  │\n",
       "│ B        ┆ 0     ┆ 9848  │\n",
       "│ B        ┆ 1     ┆ 9848  │\n",
       "│ B        ┆ 2     ┆ 9848  │\n",
       "│ C        ┆ 0     ┆ 13262 │\n",
       "│ C        ┆ 1     ┆ 13262 │\n",
       "│ C        ┆ 2     ┆ 13262 │\n",
       "└──────────┴───────┴───────┘"
      ]
     },
     "execution_count": 13,
     "metadata": {},
     "output_type": "execute_result"
    }
   ],
   "source": [
    "# Volume neutral sample with a control level. Volume neutral happens under the category level, meaning\n",
    "# the volume for each flag in each category is neutral.\n",
    "vn = sa.volume_neutral(\n",
    "    df,\n",
    "    by = pl.col(\"flags\"),\n",
    "    control = pl.col(\"category\")\n",
    ") \n",
    "vn.group_by([\"category\", \"flags\"]).len().sort([\"category\", \"flags\"])"
   ]
  },
  {
   "cell_type": "code",
   "execution_count": 14,
   "metadata": {},
   "outputs": [
    {
     "data": {
      "text/html": [
       "<div><style>\n",
       ".dataframe > thead > tr,\n",
       ".dataframe > tbody > tr {\n",
       "  text-align: right;\n",
       "  white-space: pre-wrap;\n",
       "}\n",
       "</style>\n",
       "<small>shape: (9, 3)</small><table border=\"1\" class=\"dataframe\"><thead><tr><th>category</th><th>flags</th><th>len</th></tr><tr><td>str</td><td>i32</td><td>u32</td></tr></thead><tbody><tr><td>&quot;A&quot;</td><td>0</td><td>9917</td></tr><tr><td>&quot;A&quot;</td><td>1</td><td>9917</td></tr><tr><td>&quot;A&quot;</td><td>2</td><td>9917</td></tr><tr><td>&quot;B&quot;</td><td>0</td><td>9848</td></tr><tr><td>&quot;B&quot;</td><td>1</td><td>9848</td></tr><tr><td>&quot;B&quot;</td><td>2</td><td>9848</td></tr><tr><td>&quot;C&quot;</td><td>0</td><td>10000</td></tr><tr><td>&quot;C&quot;</td><td>1</td><td>10000</td></tr><tr><td>&quot;C&quot;</td><td>2</td><td>10000</td></tr></tbody></table></div>"
      ],
      "text/plain": [
       "shape: (9, 3)\n",
       "┌──────────┬───────┬───────┐\n",
       "│ category ┆ flags ┆ len   │\n",
       "│ ---      ┆ ---   ┆ ---   │\n",
       "│ str      ┆ i32   ┆ u32   │\n",
       "╞══════════╪═══════╪═══════╡\n",
       "│ A        ┆ 0     ┆ 9917  │\n",
       "│ A        ┆ 1     ┆ 9917  │\n",
       "│ A        ┆ 2     ┆ 9917  │\n",
       "│ B        ┆ 0     ┆ 9848  │\n",
       "│ B        ┆ 1     ┆ 9848  │\n",
       "│ B        ┆ 2     ┆ 9848  │\n",
       "│ C        ┆ 0     ┆ 10000 │\n",
       "│ C        ┆ 1     ┆ 10000 │\n",
       "│ C        ┆ 2     ┆ 10000 │\n",
       "└──────────┴───────┴───────┘"
      ]
     },
     "execution_count": 14,
     "metadata": {},
     "output_type": "execute_result"
    }
   ],
   "source": [
    "# We may not meet the target volume for all categories.\n",
    "vn = sa.volume_neutral(\n",
    "    df,\n",
    "    by = pl.col(\"flags\"),\n",
    "    control = pl.col(\"category\"),\n",
    "    target_volume= 10_000\n",
    ") # \n",
    "vn.group_by([\"category\", \"flags\"]).len().sort([\"category\", \"flags\"])"
   ]
  },
  {
   "cell_type": "markdown",
   "metadata": {},
   "source": [
    "## Splitting\n",
    "\n",
    "Split by ratios."
   ]
  },
  {
   "cell_type": "code",
   "execution_count": 15,
   "metadata": {},
   "outputs": [
    {
     "name": "stdout",
     "output_type": "stream",
     "text": [
      "(100000, 8)\n",
      "(60000, 8)\n",
      "(40000, 8)\n"
     ]
    }
   ],
   "source": [
    "print(df.shape)\n",
    "train, test = sa.split_by_ratio(\n",
    "    df,\n",
    "    split_ratio = 0.6\n",
    ")\n",
    "print(train.shape)\n",
    "print(test.shape)\n"
   ]
  },
  {
   "cell_type": "code",
   "execution_count": 16,
   "metadata": {},
   "outputs": [
    {
     "name": "stdout",
     "output_type": "stream",
     "text": [
      "(100000, 8)\n",
      "(25000, 8)\n",
      "(40000, 8)\n",
      "(10000, 8)\n",
      "(25000, 8)\n"
     ]
    }
   ],
   "source": [
    "print(df.shape)\n",
    "for frame in sa.split_by_ratio(df, split_ratio = [0.25, 0.4, 0.10, 0.25]):\n",
    "    print(frame.shape)"
   ]
  },
  {
   "cell_type": "code",
   "execution_count": null,
   "metadata": {},
   "outputs": [],
   "source": []
  }
 ],
 "metadata": {
  "kernelspec": {
   "display_name": ".venv",
   "language": "python",
   "name": "python3"
  },
  "language_info": {
   "codemirror_mode": {
    "name": "ipython",
    "version": 3
   },
   "file_extension": ".py",
   "mimetype": "text/x-python",
   "name": "python",
   "nbconvert_exporter": "python",
   "pygments_lexer": "ipython3",
   "version": "3.12.7"
  }
 },
 "nbformat": 4,
 "nbformat_minor": 2
}

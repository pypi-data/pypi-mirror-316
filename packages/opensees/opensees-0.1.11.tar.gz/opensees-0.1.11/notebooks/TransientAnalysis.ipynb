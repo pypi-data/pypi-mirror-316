{
 "cells": [
  {
   "cell_type": "code",
   "execution_count": 1,
   "id": "1c341e1e-7812-4997-9b85-22a21c9fc718",
   "metadata": {},
   "outputs": [],
   "source": [
    "import opensees\n",
    "import opensees.analysis\n",
    "# import opensees.pattern\n",
    "import quakeio.elcentro"
   ]
  },
  {
   "cell_type": "code",
   "execution_count": 2,
   "id": "d6a7ec3c-d70b-43cc-b6bb-0b53492dcb4a",
   "metadata": {},
   "outputs": [],
   "source": [
    "material = opensees.uniaxial.Elastic(None, 3000.0)\n",
    "truss = opensees.element.Truss(None, None, 10.0, material)\n",
    "\n",
    "m = opensees.model(ndm=1, ndf=1,\n",
    "    nodes = {1: [0.0], 2: [72.0]},\n",
    "    elems = [[truss, [1,2]]]\n",
    ")\n",
    "\n",
    "m.fix(1,1)"
   ]
  },
  {
   "cell_type": "code",
   "execution_count": 3,
   "id": "2721f8db-d724-4580-ada2-a650daae49f9",
   "metadata": {},
   "outputs": [],
   "source": [
    "patterns = {\n",
    "    1: opensees.pattern.UniformExcitation(1, 1, accel=quakeio.elcentro.accel),\n",
    "}"
   ]
  },
  {
   "cell_type": "code",
   "execution_count": 4,
   "id": "97a5f06c-ca41-427b-85f1-415e3b81ac2f",
   "metadata": {},
   "outputs": [
    {
     "data": {
      "text/plain": [
       "{'constraints': ['Transformation'],\n",
       " 'numberer': ['Plain'],\n",
       " 'test': ['NormDispIncr', '1e-06', '6'],\n",
       " 'system': ['ProfileSPD'],\n",
       " 'algorithm': ['Linear']}"
      ]
     },
     "execution_count": 4,
     "metadata": {},
     "output_type": "execute_result"
    }
   ],
   "source": [
    "strategy = dict(\n",
    "    constraints = [\"Transformation\"],\n",
    "    numberer    = [\"Plain\"],\n",
    "    test        = [\"NormDispIncr\", 1e-6, 6],\n",
    "    system      = ['ProfileSPD'],\n",
    "    algorithm   = [\"Linear\"],\n",
    "    # integrator  = [\"Newmark\", 0.5, 0.25],\n",
    ")\n",
    "\n",
    "{\n",
    "    k: [str(i) for i in v]\n",
    "    for k,v in strategy.items()\n",
    "}"
   ]
  },
  {
   "cell_type": "code",
   "execution_count": 5,
   "id": "2d05f770-15df-44ae-8215-11d8162f42e5",
   "metadata": {},
   "outputs": [],
   "source": [
    "a = opensees.analysis.DirectIntegrationAnalysis(m, patterns, strategy)"
   ]
  },
  {
   "cell_type": "code",
   "execution_count": 6,
   "id": "e5e07706-5fad-4f2d-a57c-7dd4cdee12de",
   "metadata": {},
   "outputs": [
    {
     "data": {
      "text/plain": [
       "0"
      ]
     },
     "execution_count": 6,
     "metadata": {},
     "output_type": "execute_result"
    }
   ],
   "source": [
    "incr = 0.0001\n",
    "steps = 5\n",
    "a.analyze(steps, incr)"
   ]
  },
  {
   "cell_type": "code",
   "execution_count": 7,
   "id": "3ef188cb-4e06-493f-aa4e-2c5626f2f64b",
   "metadata": {},
   "outputs": [
    {
     "name": "stdout",
     "output_type": "stream",
     "text": [
      "time:  0.0005\n"
     ]
    }
   ],
   "source": [
    "time = a.rt.time()\n",
    "print(f'time: ', time)\n",
    "approx_vtime = incr * steps\n",
    "assert 0.99 < time / approx_vtime < 1.01,  (time,  approx_vtime)"
   ]
  },
  {
   "cell_type": "markdown",
   "id": "073cda88-ae95-48fa-b3dc-bb70a4c46b25",
   "metadata": {},
   "source": [
    "## Part II\n"
   ]
  },
  {
   "cell_type": "code",
   "execution_count": 8,
   "id": "7e38c1f1-b50c-4b01-a897-f2bbdf9b88d5",
   "metadata": {},
   "outputs": [],
   "source": [
    "m.mass(2, [1.0])"
   ]
  },
  {
   "cell_type": "code",
   "execution_count": 9,
   "id": "0d39b21e-d775-4e4a-ba2f-85a440dfe015",
   "metadata": {},
   "outputs": [],
   "source": [
    "hist = opensees.pattern.TimeSeries(step=0.1, values=[\n",
    "    0.0000, 5.0000, 8.6603,10.0000, 8.6603, 5.0000, 0.0000, 0.0000, 0.0000, 0.0000, 0.0000\n",
    "])\n",
    "\n",
    "patterns = {\n",
    "    1: opensees.pattern.Plain(1, hist, {(2,\"x\"): 1.0})\n",
    "}"
   ]
  },
  {
   "cell_type": "markdown",
   "id": "e24c33c6-d707-49f7-9ec6-be6ff8ad2daa",
   "metadata": {},
   "source": [
    "</details>"
   ]
  },
  {
   "cell_type": "code",
   "execution_count": 10,
   "id": "fd980214-2200-4e59-a600-a997c4ba1faf",
   "metadata": {},
   "outputs": [
    {
     "data": {
      "text/plain": [
       "[0.0, 5.0, 8.6603, 10.0, 8.6603, 5.0, 0.0, 0.0, 0.0, 0.0, 0.0]"
      ]
     },
     "execution_count": 10,
     "metadata": {},
     "output_type": "execute_result"
    }
   ],
   "source": [
    "patterns[1].series.values"
   ]
  },
  {
   "cell_type": "code",
   "execution_count": 11,
   "id": "b3a49686-c19c-49f8-bd19-7ecf6bff31ae",
   "metadata": {},
   "outputs": [],
   "source": [
    "# ops.analysis('Transient')\n",
    "a = opensees.analysis.DirectIntegrationAnalysis(m, patterns, strategy)"
   ]
  },
  {
   "cell_type": "code",
   "execution_count": 12,
   "id": "b9baf881-3480-49c6-88a0-90a069cf2a02",
   "metadata": {},
   "outputs": [
    {
     "name": "stdout",
     "output_type": "stream",
     "text": [
      "0.1 [0.00612245]\n",
      "0.2 [0.02259945]\n",
      "0.30000000000000004 [0.03253137]\n",
      "0.4 [0.02177143]\n",
      "0.5 [0.00615625]\n",
      "0.6 [0.00082664]\n",
      "0.7 [-6.7537103e-05]\n",
      "0.7999999999999999 [-0.00082388]\n",
      "0.8999999999999999 [0.00010116]\n",
      "0.9999999999999999 [0.00081975]\n"
     ]
    }
   ],
   "source": [
    "for i in range(10):\n",
    "    a.analyze(1, 0.1)\n",
    "    print(a.rt.time(), a.rt.getNodeResponse(2, \"displ\"))"
   ]
  },
  {
   "cell_type": "code",
   "execution_count": null,
   "id": "7841e9f0-784b-46ab-ac8f-70f19284467f",
   "metadata": {},
   "outputs": [],
   "source": []
  },
  {
   "cell_type": "code",
   "execution_count": null,
   "id": "d2253b01-620c-4bb5-ba7a-977144565936",
   "metadata": {},
   "outputs": [],
   "source": []
  }
 ],
 "metadata": {
  "kernelspec": {
   "display_name": "Mamba-39",
   "language": "python",
   "name": "mamba-py39"
  },
  "language_info": {
   "codemirror_mode": {
    "name": "ipython",
    "version": 3
   },
   "file_extension": ".py",
   "mimetype": "text/x-python",
   "name": "python",
   "nbconvert_exporter": "python",
   "pygments_lexer": "ipython3",
   "version": "3.9.13"
  }
 },
 "nbformat": 4,
 "nbformat_minor": 5
}

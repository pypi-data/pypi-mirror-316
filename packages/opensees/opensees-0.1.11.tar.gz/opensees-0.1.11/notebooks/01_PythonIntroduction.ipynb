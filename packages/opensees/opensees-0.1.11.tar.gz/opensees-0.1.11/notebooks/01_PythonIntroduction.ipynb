{
 "cells": [
  {
   "cell_type": "code",
   "execution_count": null,
   "id": "f0787231-7f42-495a-b24c-fc71a628e077",
   "metadata": {},
   "outputs": [],
   "source": []
  },
  {
   "cell_type": "markdown",
   "id": "6f4873e7-904a-4717-88b8-b1facecda207",
   "metadata": {},
   "source": [
    "# Programming Concepts"
   ]
  },
  {
   "cell_type": "markdown",
   "id": "3f82ad7d-8988-48bb-8c03-932b5f54d040",
   "metadata": {
    "tags": []
   },
   "source": [
    "## Data types\n",
    "\n",
    "1. `list` (Python) or `array` (Matlab)\n",
    "    - associates a *number* with an entry\n",
    "2. `dict` (Python, short for \"dictionary\"), or `struct` (Matlab, C, short for \"structure\")\n",
    "    - associates a *name* with an entry"
   ]
  },
  {
   "cell_type": "code",
   "execution_count": 16,
   "id": "ab87acd1-4f73-45a5-841e-2a7e8415021b",
   "metadata": {},
   "outputs": [],
   "source": [
    "import numpy as np"
   ]
  },
  {
   "cell_type": "code",
   "execution_count": 47,
   "id": "521c8384-f99b-4985-a7c8-6ca115ea7cc4",
   "metadata": {},
   "outputs": [
    {
     "name": "stdout",
     "output_type": "stream",
     "text": [
      "[20, 30, 40] ['a', 30, [20, 1.0]]\n"
     ]
    }
   ],
   "source": [
    "# creating a list\n",
    "my_list = [20, 30, 40]\n",
    "\n",
    "# in Python, list items can be different types; in Matlab this is not so\n",
    "my_list_2 = [\"a\", 30, [20, 1.0]]\n",
    "\n",
    "print(my_list, my_list_2)"
   ]
  },
  {
   "cell_type": "code",
   "execution_count": null,
   "id": "c51509ae-cc9c-4ece-a83e-6f571f52f27f",
   "metadata": {},
   "outputs": [],
   "source": []
  },
  {
   "cell_type": "code",
   "execution_count": 45,
   "id": "e860010d-d01b-4f75-83b3-6400ad07f9b0",
   "metadata": {},
   "outputs": [
    {
     "name": "stdout",
     "output_type": "stream",
     "text": [
      "{'key': 30, 'key2': 380.0}\n",
      "30\n"
     ]
    }
   ],
   "source": [
    "a = {\n",
    "    \"key\": 30,\n",
    "    \"key2\": 380.0,\n",
    "}\n",
    "\n",
    "print(a)\n",
    "print(a[\"key\"])"
   ]
  },
  {
   "cell_type": "code",
   "execution_count": null,
   "id": "2219dcdc-9ea1-4285-aa8e-77d796b44077",
   "metadata": {},
   "outputs": [],
   "source": [
    "class Object: pass\n",
    "\n",
    "\n",
    "def array(*values):\n",
    "    self = Object()\n",
    "    self.values = values\n",
    "    return self\n",
    "\n",
    "        \n",
    "y = array(\"3\", 3.0, 20)\n",
    "x = array(\"2\", 50, 50, 19, 39)\n",
    "\n",
    "print(y.values)\n",
    "print(x.values)"
   ]
  }
 ],
 "metadata": {
  "kernelspec": {
   "display_name": "Python (elle)",
   "language": "python",
   "name": "elle"
  },
  "language_info": {
   "codemirror_mode": {
    "name": "ipython",
    "version": 3
   },
   "file_extension": ".py",
   "mimetype": "text/x-python",
   "name": "python",
   "nbconvert_exporter": "python",
   "pygments_lexer": "ipython3",
   "version": "3.8.12"
  }
 },
 "nbformat": 4,
 "nbformat_minor": 5
}

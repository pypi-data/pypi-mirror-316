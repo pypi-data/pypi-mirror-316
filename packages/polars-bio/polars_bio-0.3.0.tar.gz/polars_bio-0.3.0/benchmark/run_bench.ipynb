{
 "cells": [
  {
   "cell_type": "markdown",
   "id": "eb072f632cedbed3",
   "metadata": {},
   "source": "## Install dependencies"
  },
  {
   "cell_type": "code",
   "execution_count": null,
   "id": "initial_id",
   "metadata": {
    "collapsed": true
   },
   "outputs": [],
   "source": [
    "!pip install --force-reinstall bioframe==0.7.2 pyarrow fastparquet pyranges==0.1.2 pybedtools==0.10.0 git+https://gitlab.com/gtamazian/pygenomics.git"
   ]
  },
  {
   "cell_type": "markdown",
   "id": "11ecf3f76791210",
   "metadata": {},
   "source": "## Setup the environment\n"
  },
  {
   "cell_type": "code",
   "execution_count": 9,
   "id": "bc154f4724028a04",
   "metadata": {
    "ExecuteTime": {
     "end_time": "2024-12-16T06:43:35.806399Z",
     "start_time": "2024-12-16T06:43:35.801676Z"
    }
   },
   "outputs": [
    {
     "name": "stdout",
     "output_type": "stream",
     "text": [
      "env: BENCH_DATA_ROOT=/Users/mwiewior/research/git/openstack-bdg-runners/ansible/roles/gha_runner/files/databio\n",
      "env: SEQUILA_CLI=/Users/mwiewior/CLionProjects/sequila-native/target/release/sequila-cli\n"
     ]
    }
   ],
   "source": [
    "%env BENCH_DATA_ROOT=/Users/mwiewior/research/git/openstack-bdg-runners/ansible/roles/gha_runner/files/databio\n",
    "%env SEQUILA_CLI=/Users/mwiewior/CLionProjects/sequila-native/target/release/sequila-cli"
   ]
  },
  {
   "cell_type": "code",
   "execution_count": 10,
   "id": "ae490515180f0af4",
   "metadata": {
    "ExecuteTime": {
     "end_time": "2024-12-16T06:43:37.130136Z",
     "start_time": "2024-12-16T06:43:37.128323Z"
    }
   },
   "outputs": [],
   "source": [
    "import os\n",
    "\n",
    "BENCH_DATA_ROOT = os.getenv(\"BENCH_DATA_ROOT\", \"/data/bench_data/databio/\")"
   ]
  },
  {
   "cell_type": "code",
   "execution_count": 11,
   "id": "4ade8155f7bea44b",
   "metadata": {
    "ExecuteTime": {
     "end_time": "2024-12-16T06:43:38.724196Z",
     "start_time": "2024-12-16T06:43:38.482490Z"
    }
   },
   "outputs": [],
   "source": [
    "import pandas as pd"
   ]
  },
  {
   "cell_type": "code",
   "execution_count": 21,
   "id": "21bb288ddcb3bc12",
   "metadata": {
    "ExecuteTime": {
     "end_time": "2024-12-16T06:52:36.306325Z",
     "start_time": "2024-12-16T06:52:36.304523Z"
    }
   },
   "outputs": [],
   "source": [
    "# 0-\n",
    "df_path_0 = f\"{BENCH_DATA_ROOT}/chainRn4/*.parquet\"\n",
    "df_path_1 = f\"{BENCH_DATA_ROOT}/fBrain-DS14718/*.parquet\""
   ]
  },
  {
   "cell_type": "code",
   "execution_count": 22,
   "id": "9d4b74fee7c23e1f",
   "metadata": {
    "ExecuteTime": {
     "end_time": "2024-12-16T06:52:37.511959Z",
     "start_time": "2024-12-16T06:52:37.510079Z"
    }
   },
   "outputs": [],
   "source": [
    "# 0-3\n",
    "df_path_0 = f\"{BENCH_DATA_ROOT}/chainRn4/*.parquet\"\n",
    "df_path_3 = f\"{BENCH_DATA_ROOT}/chainOrnAna1/*.parquet\""
   ]
  },
  {
   "cell_type": "code",
   "execution_count": 23,
   "id": "696876ae1fc468b9",
   "metadata": {
    "ExecuteTime": {
     "end_time": "2024-12-16T06:52:38.857019Z",
     "start_time": "2024-12-16T06:52:38.855346Z"
    }
   },
   "outputs": [],
   "source": [
    "# 0-8\n",
    "df_path_0 = f\"{BENCH_DATA_ROOT}/chainRn4/*.parquet\"\n",
    "df_path_8 = f\"{BENCH_DATA_ROOT}/ex-rna/*.parquet\""
   ]
  },
  {
   "cell_type": "code",
   "execution_count": 24,
   "id": "fdd8e48c1393bc2b",
   "metadata": {
    "ExecuteTime": {
     "end_time": "2024-12-16T06:52:41.350810Z",
     "start_time": "2024-12-16T06:52:41.348934Z"
    }
   },
   "outputs": [],
   "source": [
    "# 7-8\n",
    "df_path_7 = f\"{BENCH_DATA_ROOT}/ex-anno/*.parquet\"\n",
    "df_path_8 = f\"{BENCH_DATA_ROOT}/ex-rna/*.parquet\""
   ]
  },
  {
   "cell_type": "code",
   "execution_count": null,
   "id": "948c4a842a06030a",
   "metadata": {},
   "outputs": [],
   "source": []
  },
  {
   "cell_type": "code",
   "execution_count": 26,
   "id": "3621a226d6b36e61",
   "metadata": {
    "ExecuteTime": {
     "end_time": "2024-12-16T06:52:58.499429Z",
     "start_time": "2024-12-16T06:52:58.246305Z"
    }
   },
   "outputs": [],
   "source": [
    "df_0 = pd.read_parquet(df_path_0.replace(\"*.parquet\", \"\"), engine=\"pyarrow\")\n",
    "df_1 = pd.read_parquet(df_path_1.replace(\"*.parquet\", \"\"), engine=\"pyarrow\")\n",
    "df_3 = pd.read_parquet(df_path_3.replace(\"*.parquet\", \"\"), engine=\"pyarrow\")\n",
    "df_7 = pd.read_parquet(df_path_7.replace(\"*.parquet\", \"\"), engine=\"pyarrow\")\n",
    "df_8 = pd.read_parquet(df_path_8.replace(\"*.parquet\", \"\"), engine=\"pyarrow\")"
   ]
  },
  {
   "cell_type": "code",
   "execution_count": 27,
   "id": "90831b206d78970a",
   "metadata": {
    "ExecuteTime": {
     "end_time": "2024-12-16T06:53:03.084092Z",
     "start_time": "2024-12-16T06:53:02.506476Z"
    }
   },
   "outputs": [
    {
     "data": {
      "text/plain": [
       "contig        320955\n",
       "pos_start     320955\n",
       "pos_end       320955\n",
       "contig_       320955\n",
       "pos_start_    320955\n",
       "pos_end_      320955\n",
       "dtype: int64"
      ]
     },
     "execution_count": 27,
     "metadata": {},
     "output_type": "execute_result"
    }
   ],
   "source": [
    "import bioframe as bf\n",
    "\n",
    "bf.overlap(\n",
    "    df_0,\n",
    "    df_1,\n",
    "    cols1=(\"contig\", \"pos_start\", \"pos_end\"),\n",
    "    cols2=(\"contig\", \"pos_start\", \"pos_end\"),\n",
    "    how=\"inner\",\n",
    ").count()"
   ]
  },
  {
   "cell_type": "code",
   "execution_count": 4,
   "id": "7a7e25a918672b12",
   "metadata": {
    "ExecuteTime": {
     "end_time": "2024-12-11T23:03:38.690900Z",
     "start_time": "2024-12-11T23:03:38.455518Z"
    }
   },
   "outputs": [
    {
     "name": "stdout",
     "output_type": "stream",
     "text": [
      "0 row(s) fetched. \n",
      "Elapsed 0.018 seconds.\n",
      "\n",
      "0 row(s) fetched. \n",
      "Elapsed 0.000 seconds.\n",
      "\n",
      "0 row(s) fetched. \n",
      "Elapsed 0.000 seconds.\n",
      "\n",
      "0 row(s) fetched. \n",
      "Elapsed 0.000 seconds.\n",
      "\n",
      "0 row(s) fetched. \n",
      "Elapsed 0.000 seconds.\n",
      "\n",
      "0 row(s) fetched. \n",
      "Elapsed 0.009 seconds.\n",
      "\n",
      "0 row(s) fetched. \n",
      "Elapsed 0.000 seconds.\n",
      "\n",
      "+-----------------+\n",
      "| count(Int64(1)) |\n",
      "+-----------------+\n",
      "| 320955          |\n",
      "+-----------------+\n",
      "1 row(s) fetched. \n",
      "Elapsed 0.138 seconds.\n",
      "\n"
     ]
    }
   ],
   "source": [
    "%%bash\n",
    "$SEQUILA_CLI --file queries/0-1.sql"
   ]
  },
  {
   "cell_type": "code",
   "execution_count": null,
   "id": "fcb27a787b8b7c97",
   "metadata": {},
   "outputs": [],
   "source": [
    "bf.overlap(\n",
    "    df_0,\n",
    "    df_3,\n",
    "    cols1=(\"contig\", \"pos_start\", \"pos_end\"),\n",
    "    cols2=(\"contig\", \"pos_start\", \"pos_end\"),\n",
    "    how=\"inner\",\n",
    ").count()"
   ]
  },
  {
   "cell_type": "code",
   "execution_count": null,
   "id": "186b1e6fca447dc7",
   "metadata": {},
   "outputs": [],
   "source": [
    "%%bash\n",
    "$SEQUILA_CLI --file queries/0-3.sql"
   ]
  },
  {
   "cell_type": "code",
   "execution_count": null,
   "id": "74d31db9ac48f44f",
   "metadata": {},
   "outputs": [],
   "source": [
    "bf.overlap(\n",
    "    df_0,\n",
    "    df_8,\n",
    "    cols1=(\"contig\", \"pos_start\", \"pos_end\"),\n",
    "    cols2=(\"contig\", \"pos_start\", \"pos_end\"),\n",
    "    how=\"inner\",\n",
    ").count()"
   ]
  },
  {
   "cell_type": "code",
   "execution_count": null,
   "id": "bd5a331edde24cb1",
   "metadata": {},
   "outputs": [],
   "source": [
    "%%bash\n",
    "$SEQUILA_CLI --file queries/0-8.sql"
   ]
  },
  {
   "cell_type": "code",
   "execution_count": null,
   "id": "d35eb67e7a3a3822",
   "metadata": {},
   "outputs": [],
   "source": [
    "bf.overlap(\n",
    "    df_7,\n",
    "    df_8,\n",
    "    cols1=(\"contig\", \"pos_start\", \"pos_end\"),\n",
    "    cols2=(\"contig\", \"pos_start\", \"pos_end\"),\n",
    "    how=\"inner\",\n",
    ").count()"
   ]
  },
  {
   "cell_type": "code",
   "execution_count": null,
   "id": "d480fbb838b5a255",
   "metadata": {},
   "outputs": [],
   "source": [
    "%%bash\n",
    "$SEQUILA_CLI --file queries/7-8.sql"
   ]
  },
  {
   "cell_type": "markdown",
   "id": "958f97c5c7016f52",
   "metadata": {},
   "source": "### pyranges"
  },
  {
   "cell_type": "code",
   "execution_count": 13,
   "id": "ab270537110baba2",
   "metadata": {
    "ExecuteTime": {
     "end_time": "2024-12-16T06:44:07.792613Z",
     "start_time": "2024-12-16T06:44:07.699735Z"
    }
   },
   "outputs": [],
   "source": [
    "import pyranges as pr\n",
    "\n",
    "\n",
    "def df2pr(df):\n",
    "    return pr.PyRanges(\n",
    "        chromosomes=df.contig,\n",
    "        starts=df.pos_start,\n",
    "        ends=df.pos_end,\n",
    "    )"
   ]
  },
  {
   "cell_type": "code",
   "execution_count": 14,
   "id": "920fc6c0e98b23d4",
   "metadata": {
    "ExecuteTime": {
     "end_time": "2024-12-16T06:44:11.731196Z",
     "start_time": "2024-12-16T06:44:10.496332Z"
    }
   },
   "outputs": [],
   "source": [
    "df_0_pr = df2pr(df_0)\n",
    "df_1_pr = df2pr(df_1)\n",
    "df_3_pr = df2pr(df_3)\n",
    "df_7_pr = df2pr(df_7)\n",
    "df_8_pr = df2pr(df_8)"
   ]
  },
  {
   "cell_type": "code",
   "execution_count": null,
   "id": "d5514b11e4315a18",
   "metadata": {},
   "outputs": [],
   "source": []
  },
  {
   "cell_type": "code",
   "execution_count": null,
   "id": "f57a68d0ca3e6894",
   "metadata": {},
   "outputs": [],
   "source": [
    "len(df_0_pr.join(df_1_pr))"
   ]
  },
  {
   "cell_type": "code",
   "execution_count": null,
   "id": "61d44780f5eed493",
   "metadata": {},
   "outputs": [],
   "source": [
    "len(df_0_pr.join(df_3_pr))"
   ]
  },
  {
   "cell_type": "code",
   "execution_count": null,
   "id": "3bad2681af94f295",
   "metadata": {},
   "outputs": [],
   "source": [
    "len(df_0_pr.join(df_8_pr))"
   ]
  },
  {
   "cell_type": "code",
   "execution_count": null,
   "id": "673b2468c4418264",
   "metadata": {},
   "outputs": [],
   "source": [
    "len(df_7_pr.join(df_8_pr))"
   ]
  },
  {
   "cell_type": "markdown",
   "id": "1eb620562954f9c3",
   "metadata": {},
   "source": "### pybedtools"
  },
  {
   "cell_type": "code",
   "execution_count": null,
   "id": "8838e8e4ff90fc0f",
   "metadata": {},
   "outputs": [],
   "source": [
    "import pybedtools"
   ]
  },
  {
   "cell_type": "code",
   "execution_count": null,
   "id": "998842945f3e529a",
   "metadata": {},
   "outputs": [],
   "source": [
    "df_0_bed = pybedtools.BedTool.from_dataframe(df_0)\n",
    "df_1_bed = pybedtools.BedTool.from_dataframe(df_1)\n",
    "df_3_bed = pybedtools.BedTool.from_dataframe(df_3)\n",
    "df_7_bed = pybedtools.BedTool.from_dataframe(df_7)\n",
    "df_8_bed = pybedtools.BedTool.from_dataframe(df_8)"
   ]
  },
  {
   "cell_type": "code",
   "execution_count": null,
   "id": "78ca9b3a2e476162",
   "metadata": {},
   "outputs": [],
   "source": [
    "df_0_bed.intersect(df_1_bed).count()"
   ]
  },
  {
   "cell_type": "code",
   "execution_count": null,
   "id": "45f3fa54c1ac185d",
   "metadata": {},
   "outputs": [],
   "source": [
    "df_0_bed.intersect(df_3_bed).count()"
   ]
  },
  {
   "cell_type": "code",
   "execution_count": null,
   "id": "e04aee9aa177d52c",
   "metadata": {},
   "outputs": [],
   "source": [
    "df_0_bed.intersect(df_8_bed).count()"
   ]
  },
  {
   "cell_type": "code",
   "execution_count": null,
   "id": "af842070d00c48db",
   "metadata": {},
   "outputs": [],
   "source": [
    "df_7_bed.intersect(df_8_bed).count()"
   ]
  },
  {
   "cell_type": "markdown",
   "id": "7808a7e53de88910",
   "metadata": {},
   "source": "### pygenomics"
  },
  {
   "cell_type": "code",
   "execution_count": null,
   "id": "3438785aa2066da2",
   "metadata": {},
   "outputs": [],
   "source": [
    "from pygenomics.interval import GenomicBase\n",
    "import itertools"
   ]
  },
  {
   "cell_type": "code",
   "execution_count": null,
   "id": "23807573c7e55fc1",
   "metadata": {},
   "outputs": [],
   "source": [
    "df_0_pg = GenomicBase([(r.contig, r.pos_start, r.pos_end) for r in df_0.itertuples()])"
   ]
  },
  {
   "cell_type": "code",
   "execution_count": null,
   "id": "d7fe544b1190fbd",
   "metadata": {},
   "outputs": [],
   "source": [
    "df_1_pg = GenomicBase([(r.contig, r.pos_start, r.pos_end) for r in df_1.itertuples()])"
   ]
  },
  {
   "cell_type": "code",
   "execution_count": null,
   "id": "3401359170ce0752",
   "metadata": {},
   "outputs": [],
   "source": [
    "df_7_pg = GenomicBase([(r.contig, r.pos_start, r.pos_end) for r in df_7.itertuples()])"
   ]
  },
  {
   "cell_type": "code",
   "execution_count": null,
   "id": "787ca4a4c8162110",
   "metadata": {},
   "outputs": [],
   "source": [
    "df_1_a = df_1.values.tolist()\n",
    "df_3_a = df_3.values.tolist()\n",
    "df_8_a = df_8.values.tolist()"
   ]
  },
  {
   "cell_type": "code",
   "execution_count": null,
   "id": "7dc826a7e22d234c",
   "metadata": {},
   "outputs": [],
   "source": [
    "df_1_a[1]"
   ]
  },
  {
   "cell_type": "code",
   "execution_count": null,
   "id": "22d742fe4f7a5581",
   "metadata": {},
   "outputs": [],
   "source": [
    "len(\n",
    "    list(\n",
    "        itertools.chain.from_iterable(\n",
    "            [df_0_pg.find_all((r[0], r[1], r[2])) for r in df_1_a]\n",
    "        )\n",
    "    )\n",
    ")"
   ]
  },
  {
   "cell_type": "code",
   "execution_count": null,
   "id": "6b776729965815f2",
   "metadata": {},
   "outputs": [],
   "source": [
    "# slower than array\n",
    "# len(list(itertools.chain.from_iterable([df_0_pg.find_all((r.contig, r.pos_start, r.pos_end)) for r in df_3.itertuples()])))\n"
   ]
  },
  {
   "cell_type": "code",
   "execution_count": null,
   "id": "2c1e2dd48f2406e1",
   "metadata": {},
   "outputs": [],
   "source": [
    "len(\n",
    "    list(\n",
    "        itertools.chain.from_iterable(\n",
    "            [df_0_pg.find_all((r[0], r[1], r[2])) for r in df_3_a]\n",
    "        )\n",
    "    )\n",
    ")"
   ]
  },
  {
   "cell_type": "code",
   "execution_count": null,
   "id": "5f1194dc906f8944",
   "metadata": {},
   "outputs": [],
   "source": [
    "len(\n",
    "    list(\n",
    "        itertools.chain.from_iterable(\n",
    "            [df_0_pg.find_all((r[0], r[1], r[2])) for r in df_8_a]\n",
    "        )\n",
    "    )\n",
    ")"
   ]
  },
  {
   "cell_type": "code",
   "execution_count": null,
   "id": "79a036041cdbc3b3",
   "metadata": {},
   "outputs": [],
   "source": [
    "len(\n",
    "    list(\n",
    "        itertools.chain.from_iterable(\n",
    "            [\n",
    "                df_7_pg.find_all((r.contig, r.pos_start, r.pos_end))\n",
    "                for r in df_8.itertuples()\n",
    "            ]\n",
    "        )\n",
    "    )\n",
    ")"
   ]
  },
  {
   "cell_type": "code",
   "execution_count": null,
   "id": "37203b78de5f8e3b",
   "metadata": {},
   "outputs": [],
   "source": [
    "len(\n",
    "    list(\n",
    "        itertools.chain.from_iterable(\n",
    "            [df_7_pg.find_all((r[0], r[1], r[2])) for r in df_8_a]\n",
    "        )\n",
    "    )\n",
    ")"
   ]
  },
  {
   "cell_type": "code",
   "execution_count": null,
   "id": "9d637ac58bcbc60e",
   "metadata": {},
   "outputs": [],
   "source": []
  },
  {
   "cell_type": "markdown",
   "id": "2d7c7ab26897912",
   "metadata": {},
   "source": ""
  },
  {
   "cell_type": "code",
   "execution_count": 5,
   "id": "f77062ce640cc526",
   "metadata": {
    "ExecuteTime": {
     "end_time": "2024-12-15T13:21:32.204321Z",
     "start_time": "2024-12-15T13:21:32.197916Z"
    }
   },
   "outputs": [],
   "source": [
    "import matplotlib.pyplot as plt\n",
    "import numpy as np\n",
    "\n",
    "\n",
    "def plot_metrics(metrics, labels, title):\n",
    "    x = np.arange(len(labels))  # the label locations\n",
    "    width = 0.10  # the width of the bars\n",
    "    fig, ax = plt.subplots()\n",
    "    k = 0\n",
    "    for m in metrics:\n",
    "        ax.bar(\n",
    "            x + width * k,\n",
    "            [\n",
    "                metrics[m][\"0-1\"],\n",
    "                metrics[m][\"0-3\"],\n",
    "                metrics[m][\"0-8\"],\n",
    "                metrics[m][\"7-8\"],\n",
    "            ],\n",
    "            width,\n",
    "            label=m,\n",
    "        )\n",
    "        k += 1\n",
    "    ax.set_xticks(x)\n",
    "    ax.set_xticklabels(labels)\n",
    "    ax.set_ylabel(\"Time [s]\")\n",
    "    ax.set_title(title)\n",
    "    ax.legend(loc=\"upper center\", bbox_to_anchor=(0.5, -0.05), shadow=True, ncol=4)\n",
    "    ax.grid(True)\n",
    "    fig.set_size_inches(10, 5)\n",
    "    plt.show()"
   ]
  },
  {
   "cell_type": "code",
   "execution_count": 6,
   "id": "75aba28753e4572c",
   "metadata": {
    "ExecuteTime": {
     "end_time": "2024-12-15T13:21:33.478961Z",
     "start_time": "2024-12-15T13:21:33.400773Z"
    }
   },
   "outputs": [
    {
     "data": {
      "image/png": "[encoded data removed]",
      "text/plain": [
       "<Figure size 1000x500 with 1 Axes>"
      ]
     },
     "metadata": {},
     "output_type": "display_data"
    }
   ],
   "source": [
    "# pygenomic uses ge/lte for comparison - results differ\n",
    "\n",
    "metrics = {\n",
    "    \"seq-native\": {\"0-1\": 0.144, \"0-3\": 9.425, \"0-8\": 3.374, \"7-8\": 4.756},\n",
    "    \"polars-bio-nat-pl-lf\": {\"0-1\": 0.164, \"0-3\": 9.248, \"0-8\": 3.470, \"7-8\": 5.090},\n",
    "    \"polars-bio-nat-pl-df\": {\"0-1\": 0.145, \"0-3\": 24.668, \"0-8\": 4.210, \"7-8\": 6.698},\n",
    "    \"polars-bio-nat-pd-df\": {\"0-1\": 0.150, \"0-3\": 41.995, \"0-8\": 6.392, \"7-8\": 10.639},\n",
    "    \"Bioframe\": {\"0-1\": 0.559, \"0-3\": 196.0, \"0-8\": 21.128, \"7-8\": 41.103},\n",
    "    \"PyRanges\": {\"0-1\": 0.135, \"0-3\": 92.0, \"0-8\": 10.629, \"7-8\": 19.461},\n",
    "    \"PyBedTools\": {\"0-1\": 1.512, \"0-3\": 2029.0, \"0-8\": 350.0, \"7-8\": 611.0},\n",
    "    \"PyGenomics\": {\"0-1\": 1.579, \"0-3\": 487.0, \"0-8\": 153.0, \"7-8\": 193},\n",
    "}\n",
    "plot_metrics(\n",
    "    metrics, [\"0-1\", \"0-3\", \"0-8\", \"7-8\"], \"Overlap operation performance comparison\"\n",
    ")"
   ]
  },
  {
   "cell_type": "code",
   "execution_count": 7,
   "id": "657a85d9bf76f15c",
   "metadata": {
    "ExecuteTime": {
     "end_time": "2024-12-15T13:21:43.351332Z",
     "start_time": "2024-12-15T13:21:43.285502Z"
    }
   },
   "outputs": [
    {
     "data": {
      "image/png": "[encoded data removed]",
      "text/plain": [
       "<Figure size 1000x500 with 1 Axes>"
      ]
     },
     "metadata": {},
     "output_type": "display_data"
    }
   ],
   "source": [
    "metrics = {\n",
    "    \"polars-bio-nat-pl-lf\": {\"0-1\": 0.164, \"0-3\": 9.248, \"0-8\": 3.470, \"7-8\": 5.090},\n",
    "    \"polars-bio-pl-df--pl-lf\": {\n",
    "        \"0-1\": 0.147,\n",
    "        \"0-3\": 44.942,\n",
    "        \"0-8\": 6.096,\n",
    "        \"7-8\": 9.522,\n",
    "    },\n",
    "    \"polars-bio-pd-df--pl-lf\": {\n",
    "        \"0-1\": 0.177,\n",
    "        \"0-3\": 43.369,\n",
    "        \"0-8\": 6.241,\n",
    "        \"7-8\": 9.688,\n",
    "    },\n",
    "    \"polars-bio-pd-df--pd-df\": {\n",
    "        \"0-1\": 0.175,\n",
    "        \"0-3\": 51.226,\n",
    "        \"0-8\": 7.435,\n",
    "        \"7-8\": 11.756,\n",
    "    },\n",
    "}\n",
    "plot_metrics(\n",
    "    metrics,\n",
    "    [\"0-1\", \"0-3\", \"0-8\", \"7-8\"],\n",
    "    \"Overlap operation performance comparison between DataFrames\",\n",
    ")"
   ]
  },
  {
   "cell_type": "markdown",
   "id": "caccc329ea316f05",
   "metadata": {},
   "source": "## Nearest"
  },
  {
   "cell_type": "code",
   "execution_count": 43,
   "id": "7307580054aa7d4e",
   "metadata": {
    "ExecuteTime": {
     "end_time": "2024-12-16T06:54:58.562728Z",
     "start_time": "2024-12-16T06:54:58.560945Z"
    }
   },
   "outputs": [],
   "source": [
    "from polars_bio import FilterOp\n",
    "import polars_bio as pb\n",
    "\n",
    "pb.ctx.set_option(\"datafusion.execution.target_partitions\", \"1\")\n",
    "pb.ctx.set_option(\"datafusion.optimizer.repartition_joins\", \"false\")"
   ]
  },
  {
   "cell_type": "markdown",
   "id": "d808c04c9f99c6b6",
   "metadata": {},
   "source": "### 0-1"
  },
  {
   "cell_type": "code",
   "execution_count": 71,
   "id": "821e3151e6a6e1f",
   "metadata": {
    "ExecuteTime": {
     "end_time": "2024-12-16T07:10:27.983325Z",
     "start_time": "2024-12-16T07:10:27.258575Z"
    }
   },
   "outputs": [
    {
     "data": {
      "text/plain": [
       "2350965"
      ]
     },
     "execution_count": 71,
     "metadata": {},
     "output_type": "execute_result"
    }
   ],
   "source": [
    "len(df_0_pr.nearest(df_1_pr))"
   ]
  },
  {
   "cell_type": "code",
   "execution_count": 72,
   "id": "44f3329dc936f096",
   "metadata": {
    "ExecuteTime": {
     "end_time": "2024-12-16T07:10:29.672109Z",
     "start_time": "2024-12-16T07:10:29.438203Z"
    }
   },
   "outputs": [
    {
     "name": "stderr",
     "output_type": "stream",
     "text": [
      "INFO:polars_bio:Running nearest: algorithm CoitreesNearest with 1 threads\n"
     ]
    },
    {
     "data": {
      "text/html": [
       "<div><style>\n",
       ".dataframe > thead > tr,\n",
       ".dataframe > tbody > tr {\n",
       "  text-align: right;\n",
       "  white-space: pre-wrap;\n",
       "}\n",
       "</style>\n",
       "<small>shape: (1, 7)</small><table border=\"1\" class=\"dataframe\"><thead><tr><th>contig_1</th><th>pos_start_1</th><th>pos_end_1</th><th>contig_2</th><th>pos_start_2</th><th>pos_end_2</th><th>distance</th></tr><tr><td>u32</td><td>u32</td><td>u32</td><td>u32</td><td>u32</td><td>u32</td><td>u32</td></tr></thead><tbody><tr><td>2350965</td><td>2350965</td><td>2350965</td><td>2350965</td><td>2350965</td><td>2350965</td><td>2350965</td></tr></tbody></table></div>"
      ],
      "text/plain": [
       "shape: (1, 7)\n",
       "┌──────────┬─────────────┬───────────┬──────────┬─────────────┬───────────┬──────────┐\n",
       "│ contig_1 ┆ pos_start_1 ┆ pos_end_1 ┆ contig_2 ┆ pos_start_2 ┆ pos_end_2 ┆ distance │\n",
       "│ ---      ┆ ---         ┆ ---       ┆ ---      ┆ ---         ┆ ---       ┆ ---      │\n",
       "│ u32      ┆ u32         ┆ u32       ┆ u32      ┆ u32         ┆ u32       ┆ u32      │\n",
       "╞══════════╪═════════════╪═══════════╪══════════╪═════════════╪═══════════╪══════════╡\n",
       "│ 2350965  ┆ 2350965     ┆ 2350965   ┆ 2350965  ┆ 2350965     ┆ 2350965   ┆ 2350965  │\n",
       "└──────────┴─────────────┴───────────┴──────────┴─────────────┴───────────┴──────────┘"
      ]
     },
     "execution_count": 72,
     "metadata": {},
     "output_type": "execute_result"
    }
   ],
   "source": [
    "pb.nearest(df_path_0, df_path_1, overlap_filter=FilterOp.Strict).collect().count()"
   ]
  },
  {
   "cell_type": "code",
   "execution_count": 83,
   "id": "48a0121f4a018d32",
   "metadata": {
    "ExecuteTime": {
     "end_time": "2024-12-16T07:30:54.883707Z",
     "start_time": "2024-12-16T07:30:54.556121Z"
    }
   },
   "outputs": [
    {
     "name": "stderr",
     "output_type": "stream",
     "text": [
      "INFO:polars_bio:Running nearest: algorithm CoitreesNearest with 1 threads\n"
     ]
    },
    {
     "data": {
      "text/plain": [
       "2350965"
      ]
     },
     "execution_count": 83,
     "metadata": {},
     "output_type": "execute_result"
    }
   ],
   "source": [
    "len(\n",
    "    pb.nearest(\n",
    "        df_0, df_1, overlap_filter=FilterOp.Strict, output_type=\"pandas.DataFrame\"\n",
    "    )\n",
    ")"
   ]
  },
  {
   "cell_type": "code",
   "execution_count": 76,
   "id": "851b2aac4c2007c1",
   "metadata": {
    "ExecuteTime": {
     "end_time": "2024-12-16T07:22:37.785612Z",
     "start_time": "2024-12-16T07:22:36.286072Z"
    }
   },
   "outputs": [
    {
     "data": {
      "text/plain": [
       "2350965"
      ]
     },
     "execution_count": 76,
     "metadata": {},
     "output_type": "execute_result"
    }
   ],
   "source": [
    "len(\n",
    "    bf.closest(\n",
    "        df_0,\n",
    "        df_1,\n",
    "        suffixes=(\"_1\", \"_2\"),\n",
    "        cols1=(\"contig\", \"pos_start\", \"pos_end\"),\n",
    "        cols2=(\"contig\", \"pos_start\", \"pos_end\"),\n",
    "    )\n",
    ")"
   ]
  },
  {
   "cell_type": "code",
   "execution_count": 46,
   "id": "1635e076c58e372f",
   "metadata": {
    "ExecuteTime": {
     "end_time": "2024-12-16T06:55:36.059294Z",
     "start_time": "2024-12-16T06:55:36.057562Z"
    }
   },
   "outputs": [],
   "source": [
    "### 0-3"
   ]
  },
  {
   "cell_type": "code",
   "execution_count": 65,
   "id": "742a4f3e4e829068",
   "metadata": {
    "ExecuteTime": {
     "end_time": "2024-12-16T07:09:51.687014Z",
     "start_time": "2024-12-16T07:09:50.966193Z"
    }
   },
   "outputs": [
    {
     "data": {
      "text/plain": [
       "2350965"
      ]
     },
     "execution_count": 65,
     "metadata": {},
     "output_type": "execute_result"
    }
   ],
   "source": [
    "len(df_0_pr.nearest(df_3_pr))"
   ]
  },
  {
   "cell_type": "code",
   "execution_count": 77,
   "id": "3c1d8f23eea97c63",
   "metadata": {
    "ExecuteTime": {
     "end_time": "2024-12-16T07:22:46.856131Z",
     "start_time": "2024-12-16T07:22:44.911028Z"
    }
   },
   "outputs": [
    {
     "name": "stderr",
     "output_type": "stream",
     "text": [
      "INFO:polars_bio:Running nearest: algorithm CoitreesNearest with 1 threads\n"
     ]
    },
    {
     "data": {
      "text/html": [
       "<div><style>\n",
       ".dataframe > thead > tr,\n",
       ".dataframe > tbody > tr {\n",
       "  text-align: right;\n",
       "  white-space: pre-wrap;\n",
       "}\n",
       "</style>\n",
       "<small>shape: (1, 7)</small><table border=\"1\" class=\"dataframe\"><thead><tr><th>contig_1</th><th>pos_start_1</th><th>pos_end_1</th><th>contig_2</th><th>pos_start_2</th><th>pos_end_2</th><th>distance</th></tr><tr><td>u32</td><td>u32</td><td>u32</td><td>u32</td><td>u32</td><td>u32</td><td>u32</td></tr></thead><tbody><tr><td>2350965</td><td>2350965</td><td>2350965</td><td>2350965</td><td>2350965</td><td>2350965</td><td>2350965</td></tr></tbody></table></div>"
      ],
      "text/plain": [
       "shape: (1, 7)\n",
       "┌──────────┬─────────────┬───────────┬──────────┬─────────────┬───────────┬──────────┐\n",
       "│ contig_1 ┆ pos_start_1 ┆ pos_end_1 ┆ contig_2 ┆ pos_start_2 ┆ pos_end_2 ┆ distance │\n",
       "│ ---      ┆ ---         ┆ ---       ┆ ---      ┆ ---         ┆ ---       ┆ ---      │\n",
       "│ u32      ┆ u32         ┆ u32       ┆ u32      ┆ u32         ┆ u32       ┆ u32      │\n",
       "╞══════════╪═════════════╪═══════════╪══════════╪═════════════╪═══════════╪══════════╡\n",
       "│ 2350965  ┆ 2350965     ┆ 2350965   ┆ 2350965  ┆ 2350965     ┆ 2350965   ┆ 2350965  │\n",
       "└──────────┴─────────────┴───────────┴──────────┴─────────────┴───────────┴──────────┘"
      ]
     },
     "execution_count": 77,
     "metadata": {},
     "output_type": "execute_result"
    }
   ],
   "source": [
    "pb.nearest(df_path_0, df_path_3, overlap_filter=FilterOp.Strict).collect().count()"
   ]
  },
  {
   "cell_type": "code",
   "execution_count": 82,
   "id": "9511200a4747c7ac",
   "metadata": {
    "ExecuteTime": {
     "end_time": "2024-12-16T07:30:35.059914Z",
     "start_time": "2024-12-16T07:30:33.120323Z"
    }
   },
   "outputs": [
    {
     "name": "stderr",
     "output_type": "stream",
     "text": [
      "INFO:polars_bio:Running nearest: algorithm CoitreesNearest with 1 threads\n"
     ]
    },
    {
     "data": {
      "text/plain": [
       "2350965"
      ]
     },
     "execution_count": 82,
     "metadata": {},
     "output_type": "execute_result"
    }
   ],
   "source": [
    "len(\n",
    "    pb.nearest(\n",
    "        df_0, df_3, overlap_filter=FilterOp.Strict, output_type=\"pandas.DataFrame\"\n",
    "    )\n",
    ")"
   ]
  },
  {
   "cell_type": "code",
   "execution_count": 78,
   "id": "45b5c52d86addda1",
   "metadata": {
    "ExecuteTime": {
     "end_time": "2024-12-16T07:24:33.106378Z",
     "start_time": "2024-12-16T07:22:49.056273Z"
    }
   },
   "outputs": [
    {
     "data": {
      "text/plain": [
       "2350965"
      ]
     },
     "execution_count": 78,
     "metadata": {},
     "output_type": "execute_result"
    }
   ],
   "source": [
    "len(\n",
    "    bf.closest(\n",
    "        df_0,\n",
    "        df_3,\n",
    "        suffixes=(\"_1\", \"_2\"),\n",
    "        cols1=(\"contig\", \"pos_start\", \"pos_end\"),\n",
    "        cols2=(\"contig\", \"pos_start\", \"pos_end\"),\n",
    "    )\n",
    ")"
   ]
  },
  {
   "cell_type": "markdown",
   "id": "d24b8def21308bb0",
   "metadata": {},
   "source": "### 0-8"
  },
  {
   "cell_type": "code",
   "execution_count": 67,
   "id": "c656968bfe2fb445",
   "metadata": {
    "ExecuteTime": {
     "end_time": "2024-12-16T07:10:03.959021Z",
     "start_time": "2024-12-16T07:10:00.992170Z"
    }
   },
   "outputs": [
    {
     "data": {
      "text/plain": [
       "2350965"
      ]
     },
     "execution_count": 67,
     "metadata": {},
     "output_type": "execute_result"
    }
   ],
   "source": [
    "len(df_0_pr.nearest(df_8_pr))"
   ]
  },
  {
   "cell_type": "code",
   "execution_count": 68,
   "id": "9b0a3f17d49d1a8b",
   "metadata": {
    "ExecuteTime": {
     "end_time": "2024-12-16T07:10:06.694111Z",
     "start_time": "2024-12-16T07:10:05.578835Z"
    }
   },
   "outputs": [
    {
     "name": "stderr",
     "output_type": "stream",
     "text": [
      "INFO:polars_bio:Running nearest: algorithm CoitreesNearest with 1 threads\n"
     ]
    },
    {
     "data": {
      "text/html": [
       "<div><style>\n",
       ".dataframe > thead > tr,\n",
       ".dataframe > tbody > tr {\n",
       "  text-align: right;\n",
       "  white-space: pre-wrap;\n",
       "}\n",
       "</style>\n",
       "<small>shape: (1, 7)</small><table border=\"1\" class=\"dataframe\"><thead><tr><th>contig_1</th><th>pos_start_1</th><th>pos_end_1</th><th>contig_2</th><th>pos_start_2</th><th>pos_end_2</th><th>distance</th></tr><tr><td>u32</td><td>u32</td><td>u32</td><td>u32</td><td>u32</td><td>u32</td><td>u32</td></tr></thead><tbody><tr><td>2350965</td><td>2350965</td><td>2350965</td><td>2350965</td><td>2350965</td><td>2350965</td><td>2350965</td></tr></tbody></table></div>"
      ],
      "text/plain": [
       "shape: (1, 7)\n",
       "┌──────────┬─────────────┬───────────┬──────────┬─────────────┬───────────┬──────────┐\n",
       "│ contig_1 ┆ pos_start_1 ┆ pos_end_1 ┆ contig_2 ┆ pos_start_2 ┆ pos_end_2 ┆ distance │\n",
       "│ ---      ┆ ---         ┆ ---       ┆ ---      ┆ ---         ┆ ---       ┆ ---      │\n",
       "│ u32      ┆ u32         ┆ u32       ┆ u32      ┆ u32         ┆ u32       ┆ u32      │\n",
       "╞══════════╪═════════════╪═══════════╪══════════╪═════════════╪═══════════╪══════════╡\n",
       "│ 2350965  ┆ 2350965     ┆ 2350965   ┆ 2350965  ┆ 2350965     ┆ 2350965   ┆ 2350965  │\n",
       "└──────────┴─────────────┴───────────┴──────────┴─────────────┴───────────┴──────────┘"
      ]
     },
     "execution_count": 68,
     "metadata": {},
     "output_type": "execute_result"
    }
   ],
   "source": [
    "pb.nearest(df_path_0, df_path_8, overlap_filter=FilterOp.Strict).collect().count()"
   ]
  },
  {
   "cell_type": "code",
   "execution_count": 81,
   "id": "e8d72e412223bcfd",
   "metadata": {
    "ExecuteTime": {
     "end_time": "2024-12-16T07:30:15.829254Z",
     "start_time": "2024-12-16T07:30:14.600179Z"
    }
   },
   "outputs": [
    {
     "name": "stderr",
     "output_type": "stream",
     "text": [
      "INFO:polars_bio:Running nearest: algorithm CoitreesNearest with 1 threads\n"
     ]
    },
    {
     "data": {
      "text/plain": [
       "2350965"
      ]
     },
     "execution_count": 81,
     "metadata": {},
     "output_type": "execute_result"
    }
   ],
   "source": [
    "len(\n",
    "    pb.nearest(\n",
    "        df_0, df_8, overlap_filter=FilterOp.Strict, output_type=\"pandas.DataFrame\"\n",
    "    )\n",
    ")"
   ]
  },
  {
   "cell_type": "code",
   "execution_count": 75,
   "id": "778737f01bb55519",
   "metadata": {
    "ExecuteTime": {
     "end_time": "2024-12-16T07:22:25.865473Z",
     "start_time": "2024-12-16T07:21:51.411229Z"
    }
   },
   "outputs": [
    {
     "data": {
      "text/plain": [
       "2350965"
      ]
     },
     "execution_count": 75,
     "metadata": {},
     "output_type": "execute_result"
    }
   ],
   "source": [
    "len(\n",
    "    bf.closest(\n",
    "        df_0,\n",
    "        df_8,\n",
    "        suffixes=(\"_1\", \"_2\"),\n",
    "        cols1=(\"contig\", \"pos_start\", \"pos_end\"),\n",
    "        cols2=(\"contig\", \"pos_start\", \"pos_end\"),\n",
    "    )\n",
    ")"
   ]
  },
  {
   "cell_type": "markdown",
   "id": "88d308f61a234402",
   "metadata": {},
   "source": "### 7-8"
  },
  {
   "cell_type": "code",
   "execution_count": 69,
   "id": "778bed8b6ecbeac2",
   "metadata": {
    "ExecuteTime": {
     "end_time": "2024-12-16T07:10:12.566070Z",
     "start_time": "2024-12-16T07:10:09.679856Z"
    }
   },
   "outputs": [
    {
     "data": {
      "text/plain": [
       "1194262"
      ]
     },
     "execution_count": 69,
     "metadata": {},
     "output_type": "execute_result"
    }
   ],
   "source": [
    "len(df_7_pr.nearest(df_8_pr))"
   ]
  },
  {
   "cell_type": "code",
   "execution_count": 70,
   "id": "4c63620db4a80cb2",
   "metadata": {
    "ExecuteTime": {
     "end_time": "2024-12-16T07:10:15.674024Z",
     "start_time": "2024-12-16T07:10:14.648745Z"
    }
   },
   "outputs": [
    {
     "name": "stderr",
     "output_type": "stream",
     "text": [
      "INFO:polars_bio:Running nearest: algorithm CoitreesNearest with 1 threads\n"
     ]
    },
    {
     "data": {
      "text/html": [
       "<div><style>\n",
       ".dataframe > thead > tr,\n",
       ".dataframe > tbody > tr {\n",
       "  text-align: right;\n",
       "  white-space: pre-wrap;\n",
       "}\n",
       "</style>\n",
       "<small>shape: (1, 7)</small><table border=\"1\" class=\"dataframe\"><thead><tr><th>contig_1</th><th>pos_start_1</th><th>pos_end_1</th><th>contig_2</th><th>pos_start_2</th><th>pos_end_2</th><th>distance</th></tr><tr><td>u32</td><td>u32</td><td>u32</td><td>u32</td><td>u32</td><td>u32</td><td>u32</td></tr></thead><tbody><tr><td>1194285</td><td>1194285</td><td>1194285</td><td>1194262</td><td>1194262</td><td>1194262</td><td>1194285</td></tr></tbody></table></div>"
      ],
      "text/plain": [
       "shape: (1, 7)\n",
       "┌──────────┬─────────────┬───────────┬──────────┬─────────────┬───────────┬──────────┐\n",
       "│ contig_1 ┆ pos_start_1 ┆ pos_end_1 ┆ contig_2 ┆ pos_start_2 ┆ pos_end_2 ┆ distance │\n",
       "│ ---      ┆ ---         ┆ ---       ┆ ---      ┆ ---         ┆ ---       ┆ ---      │\n",
       "│ u32      ┆ u32         ┆ u32       ┆ u32      ┆ u32         ┆ u32       ┆ u32      │\n",
       "╞══════════╪═════════════╪═══════════╪══════════╪═════════════╪═══════════╪══════════╡\n",
       "│ 1194285  ┆ 1194285     ┆ 1194285   ┆ 1194262  ┆ 1194262     ┆ 1194262   ┆ 1194285  │\n",
       "└──────────┴─────────────┴───────────┴──────────┴─────────────┴───────────┴──────────┘"
      ]
     },
     "execution_count": 70,
     "metadata": {},
     "output_type": "execute_result"
    }
   ],
   "source": [
    "pb.nearest(df_path_7, df_path_8, overlap_filter=FilterOp.Strict).collect().count()"
   ]
  },
  {
   "cell_type": "code",
   "execution_count": 80,
   "id": "f34aac1ff1ec9ac4",
   "metadata": {
    "ExecuteTime": {
     "end_time": "2024-12-16T07:29:35.817730Z",
     "start_time": "2024-12-16T07:29:34.625710Z"
    }
   },
   "outputs": [
    {
     "name": "stderr",
     "output_type": "stream",
     "text": [
      "INFO:polars_bio:Running nearest: algorithm CoitreesNearest with 1 threads\n"
     ]
    },
    {
     "data": {
      "text/plain": [
       "1194285"
      ]
     },
     "execution_count": 80,
     "metadata": {},
     "output_type": "execute_result"
    }
   ],
   "source": [
    "len(\n",
    "    pb.nearest(\n",
    "        df_7, df_8, overlap_filter=FilterOp.Strict, output_type=\"pandas.DataFrame\"\n",
    "    )\n",
    ")"
   ]
  },
  {
   "cell_type": "code",
   "execution_count": 74,
   "id": "d232e39d53502d3f",
   "metadata": {
    "ExecuteTime": {
     "end_time": "2024-12-16T07:21:43.770509Z",
     "start_time": "2024-12-16T07:20:35.225095Z"
    }
   },
   "outputs": [
    {
     "data": {
      "text/plain": [
       "1194285"
      ]
     },
     "execution_count": 74,
     "metadata": {},
     "output_type": "execute_result"
    }
   ],
   "source": [
    "len(\n",
    "    bf.closest(\n",
    "        df_7,\n",
    "        df_8,\n",
    "        suffixes=(\"_1\", \"_2\"),\n",
    "        cols1=(\"contig\", \"pos_start\", \"pos_end\"),\n",
    "        cols2=(\"contig\", \"pos_start\", \"pos_end\"),\n",
    "    )\n",
    ")"
   ]
  },
  {
   "cell_type": "code",
   "execution_count": 84,
   "id": "d712e9a31b24a645",
   "metadata": {
    "ExecuteTime": {
     "end_time": "2024-12-16T07:33:16.548733Z",
     "start_time": "2024-12-16T07:33:16.483366Z"
    }
   },
   "outputs": [
    {
     "data": {
      "image/png": "[encoded data removed]",
      "text/plain": [
       "<Figure size 1000x500 with 1 Axes>"
      ]
     },
     "metadata": {},
     "output_type": "display_data"
    }
   ],
   "source": [
    "metrics = {\n",
    "    \"polars-bio-nat-pl-lf\": {\"0-1\": 0.233, \"0-3\": 1.945, \"0-8\": 1.115, \"7-8\": 1.025},\n",
    "    \"polars-bio-pandas\": {\"0-1\": 0.327, \"0-3\": 1.939, \"0-8\": 1.229, \"7-8\": 1.192},\n",
    "    \"Bioframe\": {\"0-1\": 1.499, \"0-3\": 104.0, \"0-8\": 34.454, \"7-8\": 68.00},\n",
    "    \"PyRanges\": {\"0-1\": 0.724, \"0-3\": 0.720, \"0-8\": 2.966, \"7-8\": 2.866},\n",
    "}\n",
    "plot_metrics(\n",
    "    metrics, [\"0-1\", \"0-3\", \"0-8\", \"7-8\"], \"Nearest operation performance comparison\"\n",
    ")"
   ]
  }
 ],
 "metadata": {
  "kernelspec": {
   "display_name": "Python 3",
   "language": "python",
   "name": "python3"
  },
  "language_info": {
   "codemirror_mode": {
    "name": "ipython",
    "version": 2
   },
   "file_extension": ".py",
   "mimetype": "text/x-python",
   "name": "python",
   "nbconvert_exporter": "python",
   "pygments_lexer": "ipython2",
   "version": "2.7.6"
  }
 },
 "nbformat": 4,
 "nbformat_minor": 5
}

{
 "cells": [
  {
   "cell_type": "markdown",
   "id": "947f441f13ced60a",
   "metadata": {},
   "source": "### Import dependencies"
  },
  {
   "cell_type": "code",
   "id": "7b173024d3e8f76",
   "metadata": {},
   "source": [
    "import polars_bio as pb\n",
    "import pandas as pd\n",
    "from polars_bio.range_viz import visualize_intervals"
   ],
   "outputs": [],
   "execution_count": null
  },
  {
   "cell_type": "markdown",
   "id": "d2bb8c193890f27f",
   "metadata": {},
   "source": "### Sample data"
  },
  {
   "cell_type": "code",
   "id": "86fe039c3780140e",
   "metadata": {},
   "source": [
    "df1 = pd.DataFrame(\n",
    "    [[\"chr1\", 1, 5], [\"chr1\", 3, 8], [\"chr1\", 8, 10], [\"chr1\", 12, 14]],\n",
    "    columns=[\"contig\", \"pos_start\", \"pos_end\"],\n",
    ")\n",
    "\n",
    "df2 = pd.DataFrame(\n",
    "    [[\"chr1\", 4, 8], [\"chr1\", 10, 11]], columns=[\"contig\", \"pos_start\", \"pos_end\"]\n",
    ")"
   ],
   "outputs": [],
   "execution_count": null
  },
  {
   "cell_type": "markdown",
   "id": "a884cd2960796fdb",
   "metadata": {},
   "source": "### Overlap"
  },
  {
   "cell_type": "code",
   "id": "304f3aa6fcdc9650",
   "metadata": {},
   "source": [
    "overlapping_intervals = pb.overlap(df1, df2, output_type=\"pandas.DataFrame\")"
   ],
   "outputs": [],
   "execution_count": null
  },
  {
   "cell_type": "code",
   "id": "61c9254622598622",
   "metadata": {},
   "source": [
    "display(overlapping_intervals)"
   ],
   "outputs": [],
   "execution_count": null
  },
  {
   "cell_type": "code",
   "id": "e640901ec6e6ce11",
   "metadata": {},
   "source": [
    "visualize_intervals(overlapping_intervals)"
   ],
   "outputs": [],
   "execution_count": null
  },
  {
   "cell_type": "markdown",
   "id": "8e2509b9cb5237d8",
   "metadata": {},
   "source": "### Nearest"
  },
  {
   "cell_type": "code",
   "id": "bc0f8689c31221b3",
   "metadata": {},
   "source": [
    "nearest_intervals = pb.nearest(df1, df2, output_type=\"pandas.DataFrame\")"
   ],
   "outputs": [],
   "execution_count": null
  },
  {
   "cell_type": "code",
   "id": "aad83ab53e1294fc",
   "metadata": {},
   "source": [
    "display(nearest_intervals)"
   ],
   "outputs": [],
   "execution_count": null
  },
  {
   "cell_type": "code",
   "id": "5f69f700b50f58e2",
   "metadata": {},
   "source": [
    "visualize_intervals(nearest_intervals, \"nearest pair\")"
   ],
   "outputs": [],
   "execution_count": null
  }
 ],
 "metadata": {
  "kernelspec": {
   "display_name": "Python 3",
   "language": "python",
   "name": "python3"
  },
  "language_info": {
   "codemirror_mode": {
    "name": "ipython",
    "version": 2
   },
   "file_extension": ".py",
   "mimetype": "text/x-python",
   "name": "python",
   "nbconvert_exporter": "python",
   "pygments_lexer": "ipython2",
   "version": "2.7.6"
  }
 },
 "nbformat": 4,
 "nbformat_minor": 5
}

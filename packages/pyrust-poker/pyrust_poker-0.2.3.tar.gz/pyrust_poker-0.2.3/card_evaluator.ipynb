{
 "cells": [
  {
   "cell_type": "code",
   "execution_count": 1,
   "metadata": {},
   "outputs": [],
   "source": [
    "import pyrust_poker\n",
    "import numpy as np"
   ]
  },
  {
   "cell_type": "code",
   "execution_count": 2,
   "metadata": {},
   "outputs": [
    {
     "data": {
      "text/plain": [
       "[36865, 36874, 32773]"
      ]
     },
     "execution_count": 2,
     "metadata": {},
     "output_type": "execute_result"
    }
   ],
   "source": [
    "keep_cards_mask = np.zeros(shape=(3, 52), dtype=np.uint64)\n",
    "\n",
    "keep_cards_mask[0, [0, 4, 8, 12, 48]] = 1 # 36865 - straight flush 5 high\n",
    "keep_cards_mask[1, [48, 44, 40, 36, 32]] = 1 # 36874 - straight flush S high\n",
    "\n",
    "pyrust_poker.get_hand_strengths(keep_cards_mask)"
   ]
  },
  {
   "cell_type": "code",
   "execution_count": 3,
   "metadata": {},
   "outputs": [
    {
     "data": {
      "text/plain": [
       "[0]"
      ]
     },
     "execution_count": 3,
     "metadata": {},
     "output_type": "execute_result"
    }
   ],
   "source": [
    "wtf = np.array([[0, 0, 0, 0, 1, 0, 0, 0, 0, 0, 0, 0, 0, 0, 1, 0, 0, 0, 0, 0, 0, 0, 0, 0,\n",
    "  0, 0, 0, 0, 1, 1, 1, 0, 0, 0, 0, 0, 0, 0, 0, 0, 1, 0, 0, 0, 0, 0, 0, 0,\n",
    "  1, 0, 0, 0]])\n",
    "\n",
    "pyrust_poker.get_hand_strengths(wtf)"
   ]
  },
  {
   "cell_type": "code",
   "execution_count": 4,
   "metadata": {},
   "outputs": [
    {
     "data": {
      "text/plain": [
       "(1, 52)"
      ]
     },
     "execution_count": 4,
     "metadata": {},
     "output_type": "execute_result"
    }
   ],
   "source": [
    "wtf.shape"
   ]
  },
  {
   "cell_type": "code",
   "execution_count": 49,
   "metadata": {},
   "outputs": [],
   "source": [
    "import numpy as np\n",
    "from pyrust_poker import poker_hand, evaluate_list\n",
    "\n",
    "poker_keys = np.array([card.key for card in poker_hand.get_cards()], dtype=np.uint64)\n",
    "poker_mask = np.array([card.mask for card in poker_hand.get_cards()], dtype=np.uint64)\n",
    "\n",
    "\n",
    "def get_hand_strengths(hand_masks: np.array):\n",
    "  \"\"\"Maps hand mask to poker rank strength\n",
    "\n",
    "  Args:\n",
    "      hand_masks (np.array(n, 52)): every n element contains an independent hand mask containing 52 cards\n",
    "      0 index - 2 of a suite one\n",
    "      1 index - 3 of a suite two\n",
    "      ...\n",
    "      12 index - ace of suite one\n",
    "      ...\n",
    "      51 index - ace of of suite 4\n",
    "      \n",
    "  Returns:\n",
    "      (np.array(n, 1): for every n hand masked is mapped to an absolute value u16 for hand strength. \n",
    "      To determine which hand is stronger just compare with ><= operators\n",
    "  \"\"\"\n",
    "  hand_masks = hand_masks.astype(np.bool)\n",
    "  \n",
    "  keep_keys = np.multiply(poker_keys, hand_masks).astype(np.uint64)\n",
    "  # print(keep_keys)\n",
    "  keep_mask = np.multiply(poker_mask, hand_masks).astype(np.uint64)\n",
    "  # print(keep_mask)\n",
    "  \n",
    "  hand = poker_hand.Hand()\n",
    "  \n",
    "  all_cards_sum = hand.key + np.sum(keep_keys, axis=1)\n",
    "  # print(all_cards_sum)\n",
    "  all_cards_mask = np.bitwise_or.reduce(keep_mask, axis=1)\n",
    "  # print(all_cards_mask)\n",
    "  \n",
    "  eval_list = list(zip(all_cards_sum, all_cards_mask))\n",
    "  # print(eval_list)\n",
    "  \n",
    "  return evaluate_list(eval_list), keep_keys"
   ]
  },
  {
   "cell_type": "code",
   "execution_count": 51,
   "metadata": {},
   "outputs": [
    {
     "name": "stdout",
     "output_type": "stream",
     "text": [
      "(array([0, 0, 0, 0, 0, 0, 0]), array([ 4, 14, 28, 29, 30, 40, 48]))\n",
      "[17015]\n"
     ]
    }
   ],
   "source": [
    "wtf = np.array([[0, 0, 0, 0, 1, 0, 0, 0, 0, 0, 0, 0, 0, 0, 1, 0, 0, 0, 0, 0, 0, 0, 0, 0,\n",
    "  0, 0, 0, 0, 1, 1, 1, 0, 0, 0, 0, 0, 0, 0, 0, 0, 1, 0, 0, 0, 0, 0, 0, 0,\n",
    "  1, 0, 0, 0]])\n",
    "\n",
    "print(np.where(wtf == 1))\n",
    "\n",
    "res, keep_keys = get_hand_strengths(wtf)\n",
    "print(res)\n"
   ]
  },
  {
   "cell_type": "code",
   "execution_count": null,
   "metadata": {},
   "outputs": [],
   "source": [
    "3839037237444150705\n",
    "3839037237444150702"
   ]
  },
  {
   "cell_type": "code",
   "execution_count": null,
   "metadata": {},
   "outputs": [],
   "source": [
    "1477744177495670784\n",
    "1477744177495670784"
   ]
  },
  {
   "cell_type": "code",
   "execution_count": 23,
   "metadata": {},
   "outputs": [
    {
     "data": {
      "text/plain": [
       "np.uint64(3839037237444150702)"
      ]
     },
     "execution_count": 23,
     "metadata": {},
     "output_type": "execute_result"
    }
   ],
   "source": [
    "array = np.array([\n",
    "    0, 0, 0, 0,\n",
    "    281479271710721, 0, 0, 0,\n",
    "    0, 0, 0, 0,\n",
    "    0, 0, 72057598333132800, 0,\n",
    "    0, 0, 0, 0,\n",
    "    0, 0, 0, 0,\n",
    "    0, 0, 0, 0,\n",
    "    281479275978771, 4503603926638611, 72057598337196048, 0,\n",
    "    0, 0, 0, 0,\n",
    "    0, 0, 0, 0,\n",
    "    281479276445924, 0, 0, 0,\n",
    "    0, 0, 0, 0,\n",
    "    281479276479635, 0, 0, 0\n",
    "])\n",
    "\n",
    "# 72057598337196051\n",
    "# 72057598337196048\n",
    "# Calculate the sum\n",
    "hand = poker_hand.Hand()\n",
    "array_sum = hand.key + np.sum(keep_keys)\n",
    "array_sum"
   ]
  },
  {
   "cell_type": "code",
   "execution_count": 24,
   "metadata": {},
   "outputs": [
    {
     "data": {
      "text/plain": [
       "np.int64(3839037237444150705)"
      ]
     },
     "execution_count": 24,
     "metadata": {},
     "output_type": "execute_result"
    }
   ],
   "source": [
    "poop = [\n",
    "  3689292519746568192,\n",
    "  281479271710721,\n",
    "  72057598333132800,\n",
    "  281479275978771,\n",
    "  4503603926638611,\n",
    "  72057598337196051,\n",
    "  281479276445924,\n",
    "  281479276479635,\n",
    "]\n",
    "\n",
    "np.sum(poop)"
   ]
  },
  {
   "cell_type": "code",
   "execution_count": 28,
   "metadata": {},
   "outputs": [
    {
     "data": {
      "text/plain": [
       "np.uint64(72057598337196051)"
      ]
     },
     "execution_count": 28,
     "metadata": {},
     "output_type": "execute_result"
    }
   ],
   "source": [
    "poker_keys[30]"
   ]
  },
  {
   "cell_type": "code",
   "execution_count": 46,
   "metadata": {},
   "outputs": [
    {
     "name": "stdout",
     "output_type": "stream",
     "text": [
      "72057598337196051\n"
     ]
    }
   ],
   "source": [
    "test_matrix = np.zeros((1, 52), dtype=np.bool)\n",
    "test_matrix[:, 30] = 1\n",
    "\n",
    "checking = np.multiply(poker_keys, test_matrix)\n",
    "print(int(checking[0, 30]))"
   ]
  },
  {
   "cell_type": "code",
   "execution_count": 36,
   "metadata": {},
   "outputs": [
    {
     "data": {
      "text/plain": [
       "array([72057598337196051])"
      ]
     },
     "execution_count": 36,
     "metadata": {},
     "output_type": "execute_result"
    }
   ],
   "source": [
    "np.array([72057598337196051]) * np.array([1])"
   ]
  },
  {
   "cell_type": "code",
   "execution_count": 38,
   "metadata": {},
   "outputs": [
    {
     "data": {
      "text/plain": [
       "np.int64(72057598337196051)"
      ]
     },
     "execution_count": 38,
     "metadata": {},
     "output_type": "execute_result"
    }
   ],
   "source": [
    "np.matmul(np.array([72057598337196051]), np.array([1]))"
   ]
  },
  {
   "cell_type": "code",
   "execution_count": null,
   "metadata": {},
   "outputs": [],
   "source": []
  }
 ],
 "metadata": {
  "kernelspec": {
   "display_name": ".venv",
   "language": "python",
   "name": "python3"
  },
  "language_info": {
   "codemirror_mode": {
    "name": "ipython",
    "version": 3
   },
   "file_extension": ".py",
   "mimetype": "text/x-python",
   "name": "python",
   "nbconvert_exporter": "python",
   "pygments_lexer": "ipython3",
   "version": "3.12.8"
  }
 },
 "nbformat": 4,
 "nbformat_minor": 2
}

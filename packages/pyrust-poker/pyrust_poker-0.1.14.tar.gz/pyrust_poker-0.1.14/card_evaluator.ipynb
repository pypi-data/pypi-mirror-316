{
 "cells": [
  {
   "cell_type": "code",
   "execution_count": 1,
   "metadata": {},
   "outputs": [],
   "source": [
    "import pyrust_poker # pyrust_poker\n",
    "import numpy as np"
   ]
  },
  {
   "cell_type": "code",
   "execution_count": null,
   "metadata": {},
   "outputs": [],
   "source": [
    "len(pyrust_poker.poker_hand.get_cards())\n",
    "\n",
    "poker_keys = np.array([card.key for card in pyrust_poker.poker_hand.get_cards()], dtype=np.uint64)\n",
    "poker_mask = np.array([card.mask for card in pyrust_poker.poker_hand.get_cards()], dtype=np.uint64)\n",
    "\n",
    "print(poker_keys.dtype, poker_mask.dtype)\n",
    "print(poker_keys.shape, poker_mask.shape)"
   ]
  },
  {
   "cell_type": "code",
   "execution_count": 3,
   "metadata": {},
   "outputs": [],
   "source": [
    "poker_keys = np.array([card.key for card in pyrust_poker.poker_hand.get_cards()], dtype=np.uint64)\n",
    "poker_mask = np.array([card.mask for card in pyrust_poker.poker_hand.get_cards()], dtype=np.uint64)\n",
    "\n",
    "\n",
    "def get_hand_strength(hand_masks: np.array):\n",
    "  keep_keys = np.multiply(poker_keys, hand_masks).astype(np.uint64)\n",
    "  keep_mask = np.multiply(poker_mask, hand_masks).astype(np.uint64)\n",
    "  \n",
    "  cards_sum = np.sum(keep_keys)\n",
    "  cards_mask = np.bitwise_or.reduce(keep_mask)\n",
    "  \n",
    "  hand = pyrust_poker.poker_hand.Hand()\n",
    "  hand.key += cards_sum\n",
    "  hand.mask += cards_mask\n",
    "  \n",
    "  return pyrust_poker.evaluate(hand)\n",
    "  "
   ]
  },
  {
   "cell_type": "code",
   "execution_count": 4,
   "metadata": {},
   "outputs": [],
   "source": [
    "def get_hand_strength_matrix(hand_masks: np.array):\n",
    "  keep_keys = np.multiply(poker_keys, hand_masks).astype(np.uint64)\n",
    "  keep_mask = np.multiply(poker_mask, hand_masks).astype(np.uint64)\n",
    "  \n",
    "  hand = pyrust_poker.poker_hand.Hand()\n",
    "  \n",
    "  all_cards_sum = hand.key + np.sum(keep_keys, axis=1)\n",
    "  all_cards_mask = np.bitwise_or.reduce(keep_mask, axis=1)\n",
    "  \n",
    "  \n",
    "  results = np.zeros(shape=len(hand_masks))\n",
    "  \n",
    "  for index, (all_cards_sum, all_cards_mask) in enumerate(zip(all_cards_sum, all_cards_mask)):\n",
    "    hand.key = all_cards_sum\n",
    "    hand.mask = all_cards_mask\n",
    "    \n",
    "    results[index] = pyrust_poker.evaluate(hand)\n",
    "      \n",
    "  return results"
   ]
  },
  {
   "cell_type": "code",
   "execution_count": null,
   "metadata": {},
   "outputs": [],
   "source": [
    "keep_cards_mask = np.zeros(shape=(2, 52), dtype=np.uint64)\n",
    "\n",
    "keep_cards_mask[0, [0, 4, 8, 12, 48]] = 1 # 36865\n",
    "keep_cards_mask[1, [48, 44, 40, 36, 32]] = 1 # 36874\n",
    "\n",
    "get_hand_strength_matrix(keep_cards_mask)"
   ]
  },
  {
   "cell_type": "code",
   "execution_count": null,
   "metadata": {},
   "outputs": [],
   "source": [
    "import time\n",
    "\n",
    "hands_in_matrix = 10_000\n",
    "\n",
    "keep_cards_mask = np.zeros(shape=(hands_in_matrix, 52), dtype=np.uint64)\n",
    "keep_cards_mask[:, [0, 4, 8, 12, 48]] = 1\n",
    "\n",
    "iterations = 100  # Number of evaluations to test\n",
    "start_time = time.time()\n",
    "\n",
    "for _ in range(iterations):\n",
    "    get_hand_strength_matrix(keep_cards_mask)\n",
    "\n",
    "end_time = time.time()\n",
    "elapsed_time = end_time - start_time\n",
    "evaluations_per_second = hands_in_matrix * iterations / elapsed_time\n",
    "\n",
    "print(\"evaluations_per_second\", evaluations_per_second)"
   ]
  },
  {
   "cell_type": "code",
   "execution_count": 7,
   "metadata": {},
   "outputs": [],
   "source": [
    "def get_hand_strength_matrix(hand_masks: np.array):\n",
    "  keep_keys = np.multiply(poker_keys, hand_masks).astype(np.uint64)\n",
    "  keep_mask = np.multiply(poker_mask, hand_masks).astype(np.uint64)\n",
    "  \n",
    "  hand = pyrust_poker.poker_hand.Hand()\n",
    "  \n",
    "  all_cards_sum = hand.key + np.sum(keep_keys, axis=1)\n",
    "  all_cards_mask = np.bitwise_or.reduce(keep_mask, axis=1)\n",
    "  \n",
    "  eval_list = list(zip(all_cards_sum, all_cards_mask))\n",
    "  \n",
    "  return pyrust_poker.evaluate_list(eval_list)"
   ]
  },
  {
   "cell_type": "code",
   "execution_count": null,
   "metadata": {},
   "outputs": [],
   "source": [
    "get_hand_strength_matrix(keep_cards_mask[:3])"
   ]
  },
  {
   "cell_type": "code",
   "execution_count": null,
   "metadata": {},
   "outputs": [],
   "source": [
    "import time\n",
    "\n",
    "hands_in_matrix = 10_000\n",
    "\n",
    "keep_cards_mask = np.zeros(shape=(hands_in_matrix, 52), dtype=np.uint64)\n",
    "keep_cards_mask[:, [0, 4, 8, 12, 48]] = 1\n",
    "\n",
    "iterations = 1_000  # Number of evaluations to test\n",
    "start_time = time.time()\n",
    "\n",
    "\n",
    "\n",
    "for _ in range(iterations):\n",
    "    get_hand_strength_matrix(keep_cards_mask)\n",
    "\n",
    "end_time = time.time()\n",
    "elapsed_time = end_time - start_time\n",
    "evaluations_per_second = hands_in_matrix * iterations / elapsed_time\n",
    "\n",
    "print(\"evaluations_per_second\", evaluations_per_second)"
   ]
  }
 ],
 "metadata": {
  "kernelspec": {
   "display_name": ".venv",
   "language": "python",
   "name": "python3"
  },
  "language_info": {
   "codemirror_mode": {
    "name": "ipython",
    "version": 3
   },
   "file_extension": ".py",
   "mimetype": "text/x-python",
   "name": "python",
   "nbconvert_exporter": "python",
   "pygments_lexer": "ipython3",
   "version": "3.12.8"
  }
 },
 "nbformat": 4,
 "nbformat_minor": 2
}

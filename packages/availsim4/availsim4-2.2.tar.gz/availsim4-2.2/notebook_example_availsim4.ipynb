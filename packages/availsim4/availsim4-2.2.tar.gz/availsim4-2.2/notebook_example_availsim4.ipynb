{
 "cells": [
  {
   "cell_type": "markdown",
   "metadata": {},
   "source": [
    "# Example AvailSim4 Notebook\n",
    "\n",
    "This notebook is an example of how to use AvailSim4 from within notebooks or other scripts. The intended exposed functionality is limited to triggering the AvailSim4 script - other options may become available in the future.\n",
    "\n",
    "Nonetheless, that individual function already provides ample ways to leverage the tool. "
   ]
  },
  {
   "cell_type": "markdown",
   "metadata": {},
   "source": [
    "## Setting up\n",
    "\n",
    "The notebook just needs to import availsim4core.main module. Additionally, we import and set up logging to have control over the direct output. Level `logging.INFO` will cause the script to output progress updates to the standard output and the log file."
   ]
  },
  {
   "cell_type": "code",
   "execution_count": null,
   "metadata": {},
   "outputs": [],
   "source": [
    "# setting the logging at the level INFO\n",
    "import logging\n",
    "logger = logging.getLogger()\n",
    "logger.setLevel(logging.INFO)"
   ]
  },
  {
   "cell_type": "code",
   "execution_count": null,
   "metadata": {},
   "outputs": [],
   "source": [
    "# import the availsim4core module\n",
    "import availsim4core.main\n",
    "from availsim4core.main import Analysis, SimulationReader, SystemTemplateReader, LocalRunner\n",
    "from pathlib import Path"
   ]
  },
  {
   "cell_type": "markdown",
   "metadata": {},
   "source": [
    "## Simple simulations triggering\n",
    "\n",
    "The next cell triggers the simulations based on input from one of the end-to-end tests (for details, see the specified files). The result files will appear after the cell finishes execution in the folder `availsim4_output`."
   ]
  },
  {
   "cell_type": "code",
   "execution_count": null,
   "metadata": {},
   "outputs": [],
   "source": [
    "# executing a simulation of a simple example present in the End to End tests\n",
    "availsim4core.main.start(path_simulation = './availsim4core/test/E2E/input/convergence/N1000_simulation.xlsx',\n",
    "            path_system = './availsim4core/test/E2E/input/convergence/convergence_test_system.xlsx',\n",
    "            path_sensitivity_analysis='./availsim4core/test/E2E/input/convergence/convergence_test_sensitivityAnalysis.xlsx',\n",
    "            output_folder = './availsim4_output/example3/',\n",
    "            htcondor=False,\n",
    "            nb_processes=1)"
   ]
  },
  {
   "cell_type": "markdown",
   "metadata": {},
   "source": [
    "# Advanced simulations triggering \n",
    "\n",
    "Using some of the AvailSim4 objects, you can also trigger the simulations while having access to the contents of the input objects. The next cell shows how to do it.\n",
    "\n",
    "The recommended way still relies on the input XLSX files, since creation of the entire structure in Python code is very cumbersome."
   ]
  },
  {
   "cell_type": "code",
   "execution_count": null,
   "metadata": {},
   "outputs": [],
   "source": [
    "\n",
    "system_path = Path(\"input/system.xlsx\")\n",
    "simulation_path = Path(\"input/simulation.xlsx\")\n",
    "output_folder = Path(\"output/\")\n",
    "\n",
    "system_template = SystemTemplateReader().read(system_path)\n",
    "relevant_failure_mode = next(iter(fm for fm in system_template.failure_mode_list if fm.name == \"IC10_FAILURE_MODE\"), None)\n",
    "\n",
    "for i in range(1, 4):\n",
    "    # simulation objects preserve state within them (such as current_time, etc.) therefore they need to be re-created for each run\n",
    "    simulation = SimulationReader().read(simulation_path, 1)\n",
    "\n",
    "    # here we modify the value in the relevant failure mode\n",
    "    relevant_failure_mode.failure_law.parameters = [i]\n",
    "    analysis = Analysis(0, system_template, simulation)\n",
    "\n",
    "    # and trigger the simulations that will be saved in the output folder\n",
    "    LocalRunner.run(output_folder, analysis)"
   ]
  },
  {
   "cell_type": "markdown",
   "metadata": {},
   "source": []
  },
  {
   "cell_type": "code",
   "execution_count": null,
   "metadata": {},
   "outputs": [],
   "source": [
    "system_template = SystemTemplateReader().read(system_path)\n"
   ]
  },
  {
   "cell_type": "code",
   "execution_count": null,
   "metadata": {},
   "outputs": [],
   "source": [
    "system_template"
   ]
  },
  {
   "cell_type": "code",
   "execution_count": null,
   "metadata": {},
   "outputs": [],
   "source": []
  }
 ],
 "metadata": {
  "kernelspec": {
   "display_name": "env",
   "language": "python",
   "name": "python3"
  },
  "language_info": {
   "codemirror_mode": {
    "name": "ipython",
    "version": 3
   },
   "file_extension": ".py",
   "mimetype": "text/x-python",
   "name": "python",
   "nbconvert_exporter": "python",
   "pygments_lexer": "ipython3",
   "version": "3.11.9"
  }
 },
 "nbformat": 4,
 "nbformat_minor": 4
}

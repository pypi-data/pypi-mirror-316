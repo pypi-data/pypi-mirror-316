{
 "cells": [
  {
   "cell_type": "code",
   "execution_count": 1,
   "metadata": {},
   "outputs": [],
   "source": [
    "%load_ext autoreload\n",
    "%autoreload 2\n"
   ]
  },
  {
   "cell_type": "code",
   "execution_count": 8,
   "metadata": {},
   "outputs": [
    {
     "name": "stderr",
     "output_type": "stream",
     "text": [
      "2024-12-19 18:57:37,737 - environmental_risk_metrics.metrics.ndvi - INFO - Calculating mean NDVI values for polygon\n",
      "2024-12-19 18:57:37,738 - environmental_risk_metrics.metrics.ndvi - INFO - Loading NDVI data\n",
      "2024-12-19 18:57:37,739 - environmental_risk_metrics.metrics.ndvi - INFO - Loading Sentinel-2 data for bands ['B08', 'B04'] at 10m resolution\n",
      "2024-12-19 18:57:37,826 - environmental_risk_metrics.utils.planetary_computer - INFO - Searching for Sentinel-2 items between 2020-05-01 and 2024-08-31\n"
     ]
    },
    {
     "name": "stdout",
     "output_type": "stream",
     "text": [
      "Sentinel2\n"
     ]
    },
    {
     "name": "stderr",
     "output_type": "stream",
     "text": [
      "2024-12-19 18:57:38,818 - environmental_risk_metrics.utils.planetary_computer - INFO - Found 174 items\n",
      "2024-12-19 18:57:38,818 - environmental_risk_metrics.metrics.ndvi - INFO - Signing items for access\n",
      "2024-12-19 18:57:38,927 - environmental_risk_metrics.metrics.ndvi - INFO - Loading data into xarray Dataset\n"
     ]
    },
    {
     "data": {
      "application/vnd.jupyter.widget-view+json": {
       "model_id": "d53431f93d63403e871d08eba568f631",
       "version_major": 2,
       "version_minor": 0
      },
      "text/plain": [
       "  0%|          | 0/330 [00:00<?, ?it/s]"
      ]
     },
     "metadata": {},
     "output_type": "display_data"
    },
    {
     "name": "stderr",
     "output_type": "stream",
     "text": [
      "/Users/thimmzwiener/risk-reports/.venv/lib/python3.12/site-packages/rasterio/warp.py:387: NotGeoreferencedWarning: Dataset has no geotransform, gcps, or rpcs. The identity matrix will be returned.\n",
      "  dest = _reproject(\n",
      "2024-12-19 18:57:51,866 - environmental_risk_metrics.metrics.ndvi - INFO - Dataset time steps before filtering: 110\n",
      "2024-12-19 18:57:51,868 - environmental_risk_metrics.metrics.ndvi - INFO - Filtered dataset to 95 time steps based on 80% cloud cover threshold\n",
      "2024-12-19 18:57:51,877 - environmental_risk_metrics.metrics.ndvi - INFO - Successfully loaded Sentinel-2 data\n",
      "2024-12-19 18:57:51,879 - environmental_risk_metrics.metrics.ndvi - INFO - Successfully calculated NDVI\n",
      "2024-12-19 18:57:51,889 - environmental_risk_metrics.metrics.ndvi - INFO - Calculated mean NDVI for 1584 timestamps\n"
     ]
    },
    {
     "data": {
      "text/html": [
       "<div>\n",
       "<style scoped>\n",
       "    .dataframe tbody tr th:only-of-type {\n",
       "        vertical-align: middle;\n",
       "    }\n",
       "\n",
       "    .dataframe tbody tr th {\n",
       "        vertical-align: top;\n",
       "    }\n",
       "\n",
       "    .dataframe thead th {\n",
       "        text-align: right;\n",
       "    }\n",
       "</style>\n",
       "<table border=\"1\" class=\"dataframe\">\n",
       "  <thead>\n",
       "    <tr style=\"text-align: right;\">\n",
       "      <th></th>\n",
       "      <th>mean_ndvi</th>\n",
       "    </tr>\n",
       "  </thead>\n",
       "  <tbody>\n",
       "    <tr>\n",
       "      <th>2020-05-01</th>\n",
       "      <td>0.885954</td>\n",
       "    </tr>\n",
       "    <tr>\n",
       "      <th>2020-05-02</th>\n",
       "      <td>0.885954</td>\n",
       "    </tr>\n",
       "    <tr>\n",
       "      <th>2020-05-03</th>\n",
       "      <td>0.885954</td>\n",
       "    </tr>\n",
       "    <tr>\n",
       "      <th>2020-05-04</th>\n",
       "      <td>0.885954</td>\n",
       "    </tr>\n",
       "    <tr>\n",
       "      <th>2020-05-05</th>\n",
       "      <td>0.885954</td>\n",
       "    </tr>\n",
       "    <tr>\n",
       "      <th>...</th>\n",
       "      <td>...</td>\n",
       "    </tr>\n",
       "    <tr>\n",
       "      <th>2024-08-27</th>\n",
       "      <td>0.114095</td>\n",
       "    </tr>\n",
       "    <tr>\n",
       "      <th>2024-08-28</th>\n",
       "      <td>0.111633</td>\n",
       "    </tr>\n",
       "    <tr>\n",
       "      <th>2024-08-29</th>\n",
       "      <td>0.111633</td>\n",
       "    </tr>\n",
       "    <tr>\n",
       "      <th>2024-08-30</th>\n",
       "      <td>0.111633</td>\n",
       "    </tr>\n",
       "    <tr>\n",
       "      <th>2024-08-31</th>\n",
       "      <td>0.111633</td>\n",
       "    </tr>\n",
       "  </tbody>\n",
       "</table>\n",
       "<p>1584 rows × 1 columns</p>\n",
       "</div>"
      ],
      "text/plain": [
       "            mean_ndvi\n",
       "2020-05-01   0.885954\n",
       "2020-05-02   0.885954\n",
       "2020-05-03   0.885954\n",
       "2020-05-04   0.885954\n",
       "2020-05-05   0.885954\n",
       "...               ...\n",
       "2024-08-27   0.114095\n",
       "2024-08-28   0.111633\n",
       "2024-08-29   0.111633\n",
       "2024-08-30   0.111633\n",
       "2024-08-31   0.111633\n",
       "\n",
       "[1584 rows x 1 columns]"
      ]
     },
     "metadata": {},
     "output_type": "display_data"
    },
    {
     "name": "stderr",
     "output_type": "stream",
     "text": [
      "2024-12-19 18:57:51,894 - environmental_risk_metrics.metrics.land_use_change - INFO - Loading ['esa-cci-lc'] data at 0.1m resolution\n",
      "2024-12-19 18:57:52,001 - environmental_risk_metrics.utils.planetary_computer - INFO - Searching for Sentinel-2 items between 2020-05-01 and 2024-08-31\n"
     ]
    },
    {
     "name": "stdout",
     "output_type": "stream",
     "text": [
      "EsaLandCover\n"
     ]
    },
    {
     "name": "stderr",
     "output_type": "stream",
     "text": [
      "2024-12-19 18:57:52,363 - environmental_risk_metrics.utils.planetary_computer - INFO - Found 1 items\n",
      "100%|██████████| 1/1 [00:00<00:00,  6.33it/s]\n"
     ]
    },
    {
     "data": {
      "text/html": [
       "<div>\n",
       "<style scoped>\n",
       "    .dataframe tbody tr th:only-of-type {\n",
       "        vertical-align: middle;\n",
       "    }\n",
       "\n",
       "    .dataframe tbody tr th {\n",
       "        vertical-align: top;\n",
       "    }\n",
       "\n",
       "    .dataframe thead th {\n",
       "        text-align: right;\n",
       "    }\n",
       "</style>\n",
       "<table border=\"1\" class=\"dataframe\">\n",
       "  <thead>\n",
       "    <tr style=\"text-align: right;\">\n",
       "      <th>lccs_class</th>\n",
       "      <th>Cropland, rainfed, herbaceous cover</th>\n",
       "    </tr>\n",
       "    <tr>\n",
       "      <th>time</th>\n",
       "      <th></th>\n",
       "    </tr>\n",
       "  </thead>\n",
       "  <tbody>\n",
       "    <tr>\n",
       "      <th>2020-01-01</th>\n",
       "      <td>100.0</td>\n",
       "    </tr>\n",
       "  </tbody>\n",
       "</table>\n",
       "</div>"
      ],
      "text/plain": [
       "lccs_class  Cropland, rainfed, herbaceous cover\n",
       "time                                           \n",
       "2020-01-01                                100.0"
      ]
     },
     "metadata": {},
     "output_type": "display_data"
    },
    {
     "name": "stderr",
     "output_type": "stream",
     "text": [
      "2024-12-19 18:57:52,545 - environmental_risk_metrics.metrics.land_use_change - INFO - Loading ['io-lulc-annual-v02'] data at 0.1m resolution\n",
      "2024-12-19 18:57:52,642 - environmental_risk_metrics.utils.planetary_computer - INFO - Searching for Sentinel-2 items between 2020-05-01 and 2024-08-31\n"
     ]
    },
    {
     "name": "stdout",
     "output_type": "stream",
     "text": [
      "EsriLandCover\n"
     ]
    },
    {
     "name": "stderr",
     "output_type": "stream",
     "text": [
      "2024-12-19 18:57:53,103 - environmental_risk_metrics.utils.planetary_computer - INFO - Found 4 items\n",
      "100%|██████████| 48/48 [00:00<00:00, 52.21it/s]\n"
     ]
    },
    {
     "data": {
      "text/html": [
       "<div>\n",
       "<style scoped>\n",
       "    .dataframe tbody tr th:only-of-type {\n",
       "        vertical-align: middle;\n",
       "    }\n",
       "\n",
       "    .dataframe tbody tr th {\n",
       "        vertical-align: top;\n",
       "    }\n",
       "\n",
       "    .dataframe thead th {\n",
       "        text-align: right;\n",
       "    }\n",
       "</style>\n",
       "<table border=\"1\" class=\"dataframe\">\n",
       "  <thead>\n",
       "    <tr style=\"text-align: right;\">\n",
       "      <th>data</th>\n",
       "      <th>Crops</th>\n",
       "    </tr>\n",
       "    <tr>\n",
       "      <th>time</th>\n",
       "      <th></th>\n",
       "    </tr>\n",
       "  </thead>\n",
       "  <tbody>\n",
       "    <tr>\n",
       "      <th>2020-01-01</th>\n",
       "      <td>100.0</td>\n",
       "    </tr>\n",
       "    <tr>\n",
       "      <th>2021-01-01</th>\n",
       "      <td>100.0</td>\n",
       "    </tr>\n",
       "    <tr>\n",
       "      <th>2022-01-01</th>\n",
       "      <td>100.0</td>\n",
       "    </tr>\n",
       "    <tr>\n",
       "      <th>2023-01-01</th>\n",
       "      <td>100.0</td>\n",
       "    </tr>\n",
       "  </tbody>\n",
       "</table>\n",
       "</div>"
      ],
      "text/plain": [
       "data        Crops\n",
       "time             \n",
       "2020-01-01  100.0\n",
       "2021-01-01  100.0\n",
       "2022-01-01  100.0\n",
       "2023-01-01  100.0"
      ]
     },
     "metadata": {},
     "output_type": "display_data"
    },
    {
     "name": "stderr",
     "output_type": "stream",
     "text": [
      "2024-12-19 18:58:04,864 - rasterio._env - WARNING - CPLE_AppDefined in lc_glad.glcluc_c_30m_s_20200101_20201231_go_epsg.4326_v20230901.tif: This file used to have optimizations in its layout, but those have been, at least partly, invalidated by later changes\n"
     ]
    },
    {
     "name": "stdout",
     "output_type": "stream",
     "text": [
      "OpenLandMapLandCover\n"
     ]
    },
    {
     "data": {
      "text/html": [
       "<div>\n",
       "<style scoped>\n",
       "    .dataframe tbody tr th:only-of-type {\n",
       "        vertical-align: middle;\n",
       "    }\n",
       "\n",
       "    .dataframe tbody tr th {\n",
       "        vertical-align: top;\n",
       "    }\n",
       "\n",
       "    .dataframe thead th {\n",
       "        text-align: right;\n",
       "    }\n",
       "</style>\n",
       "<table border=\"1\" class=\"dataframe\">\n",
       "  <thead>\n",
       "    <tr style=\"text-align: right;\">\n",
       "      <th>class</th>\n",
       "      <th>Built-up, stable built-up (250)</th>\n",
       "      <th>Cropland, Stable (244)</th>\n",
       "      <th>Terra Firma, dense short vegetation - 100% short veg. cover (24)</th>\n",
       "    </tr>\n",
       "    <tr>\n",
       "      <th>time</th>\n",
       "      <th></th>\n",
       "      <th></th>\n",
       "      <th></th>\n",
       "    </tr>\n",
       "  </thead>\n",
       "  <tbody>\n",
       "    <tr>\n",
       "      <th>2020-01-01</th>\n",
       "      <td>18.08</td>\n",
       "      <td>81.26</td>\n",
       "      <td>0.65</td>\n",
       "    </tr>\n",
       "  </tbody>\n",
       "</table>\n",
       "</div>"
      ],
      "text/plain": [
       "class       Built-up, stable built-up (250)  Cropland, Stable (244)  \\\n",
       "time                                                                  \n",
       "2020-01-01                            18.08                   81.26   \n",
       "\n",
       "class       Terra Firma, dense short vegetation - 100% short veg. cover (24)  \n",
       "time                                                                          \n",
       "2020-01-01                                               0.65                 "
      ]
     },
     "metadata": {},
     "output_type": "display_data"
    },
    {
     "name": "stdout",
     "output_type": "stream",
     "text": [
      "SoilOrganicCarbon\n"
     ]
    },
    {
     "data": {
      "text/plain": [
       "{'0cm': 2.5,\n",
       " '10cm': 2.8,\n",
       " '30cm': 0.97,\n",
       " '60cm': 0.43,\n",
       " '100cm': 0.23,\n",
       " '200cm': 0.03}"
      ]
     },
     "metadata": {},
     "output_type": "display_data"
    },
    {
     "name": "stdout",
     "output_type": "stream",
     "text": [
      "SoilTypes\n"
     ]
    },
    {
     "data": {
      "text/plain": [
       "{'Soil Type': 'Dystrochrepts',\n",
       " 'Description': 'Dystrochrepts are a type of Inceptisols typically found in forested regions. They have moderate to low fertility due to their acidic nature and limited nutrient reserves, making them challenging for agriculture without proper management. These soils often exhibit good drainage, which can be beneficial for certain crops but may require irrigation during dry periods. Dystrochrepts are prone to erosion if not adequately protected with cover crops or other conservation measures. The presence of rock fragments can also impede root growth and complicate tillage operations.'}"
      ]
     },
     "metadata": {},
     "output_type": "display_data"
    },
    {
     "name": "stdout",
     "output_type": "stream",
     "text": [
      "EndangeredSpecies\n"
     ]
    },
    {
     "data": {
      "text/html": [
       "<div>\n",
       "<style scoped>\n",
       "    .dataframe tbody tr th:only-of-type {\n",
       "        vertical-align: middle;\n",
       "    }\n",
       "\n",
       "    .dataframe tbody tr th {\n",
       "        vertical-align: top;\n",
       "    }\n",
       "\n",
       "    .dataframe thead th {\n",
       "        text-align: right;\n",
       "    }\n",
       "</style>\n",
       "<table border=\"1\" class=\"dataframe\">\n",
       "  <thead>\n",
       "    <tr style=\"text-align: right;\">\n",
       "      <th></th>\n",
       "      <th>kingdom</th>\n",
       "      <th>class</th>\n",
       "      <th>species</th>\n",
       "      <th>iucnRedListCategory</th>\n",
       "    </tr>\n",
       "  </thead>\n",
       "  <tbody>\n",
       "    <tr>\n",
       "      <th>0</th>\n",
       "      <td>Plantae</td>\n",
       "      <td>Bryopsida</td>\n",
       "      <td>Brachytheciastrum velutinum</td>\n",
       "      <td>Not Evaluated</td>\n",
       "    </tr>\n",
       "    <tr>\n",
       "      <th>1</th>\n",
       "      <td>Plantae</td>\n",
       "      <td>Polypodiopsida</td>\n",
       "      <td>Dryopteris filix-mas</td>\n",
       "      <td>Not Evaluated</td>\n",
       "    </tr>\n",
       "    <tr>\n",
       "      <th>2</th>\n",
       "      <td>Plantae</td>\n",
       "      <td>Bryopsida</td>\n",
       "      <td>Mnium hornum</td>\n",
       "      <td>Not Evaluated</td>\n",
       "    </tr>\n",
       "    <tr>\n",
       "      <th>3</th>\n",
       "      <td>Plantae</td>\n",
       "      <td>Magnoliopsida</td>\n",
       "      <td>Stellaria media</td>\n",
       "      <td>Not Evaluated</td>\n",
       "    </tr>\n",
       "    <tr>\n",
       "      <th>4</th>\n",
       "      <td>Plantae</td>\n",
       "      <td>Magnoliopsida</td>\n",
       "      <td>Rumex acetosa</td>\n",
       "      <td>Not Evaluated</td>\n",
       "    </tr>\n",
       "    <tr>\n",
       "      <th>...</th>\n",
       "      <td>...</td>\n",
       "      <td>...</td>\n",
       "      <td>...</td>\n",
       "      <td>...</td>\n",
       "    </tr>\n",
       "    <tr>\n",
       "      <th>277</th>\n",
       "      <td>Animalia</td>\n",
       "      <td>Insecta</td>\n",
       "      <td>Harmonia axyridis</td>\n",
       "      <td>Not Evaluated</td>\n",
       "    </tr>\n",
       "    <tr>\n",
       "      <th>278</th>\n",
       "      <td>Animalia</td>\n",
       "      <td>Mammalia</td>\n",
       "      <td>Meles meles</td>\n",
       "      <td>Least Concern</td>\n",
       "    </tr>\n",
       "    <tr>\n",
       "      <th>284</th>\n",
       "      <td>Animalia</td>\n",
       "      <td>Insecta</td>\n",
       "      <td>Phlogophora meticulosa</td>\n",
       "      <td>Not Evaluated</td>\n",
       "    </tr>\n",
       "    <tr>\n",
       "      <th>285</th>\n",
       "      <td>Plantae</td>\n",
       "      <td>Magnoliopsida</td>\n",
       "      <td>Achillea millefolium</td>\n",
       "      <td>Least Concern</td>\n",
       "    </tr>\n",
       "    <tr>\n",
       "      <th>287</th>\n",
       "      <td>Plantae</td>\n",
       "      <td>Pinopsida</td>\n",
       "      <td>Pinus sylvestris</td>\n",
       "      <td>Least Concern</td>\n",
       "    </tr>\n",
       "  </tbody>\n",
       "</table>\n",
       "<p>177 rows × 4 columns</p>\n",
       "</div>"
      ],
      "text/plain": [
       "      kingdom           class                      species iucnRedListCategory\n",
       "0     Plantae       Bryopsida  Brachytheciastrum velutinum       Not Evaluated\n",
       "1     Plantae  Polypodiopsida         Dryopteris filix-mas       Not Evaluated\n",
       "2     Plantae       Bryopsida                 Mnium hornum       Not Evaluated\n",
       "3     Plantae   Magnoliopsida              Stellaria media       Not Evaluated\n",
       "4     Plantae   Magnoliopsida                Rumex acetosa       Not Evaluated\n",
       "..        ...             ...                          ...                 ...\n",
       "277  Animalia         Insecta            Harmonia axyridis       Not Evaluated\n",
       "278  Animalia        Mammalia                  Meles meles       Least Concern\n",
       "284  Animalia         Insecta       Phlogophora meticulosa       Not Evaluated\n",
       "285   Plantae   Magnoliopsida         Achillea millefolium       Least Concern\n",
       "287   Plantae       Pinopsida             Pinus sylvestris       Least Concern\n",
       "\n",
       "[177 rows x 4 columns]"
      ]
     },
     "metadata": {},
     "output_type": "display_data"
    },
    {
     "name": "stdout",
     "output_type": "stream",
     "text": [
      "RamsarProtectedAreas\n"
     ]
    },
    {
     "data": {
      "text/plain": [
       "[{'name': 'Helmestausee Berga-Kelbra',\n",
       "  'distance_km': 84.66,\n",
       "  'description': \"Helmestausee Berga-Kelbra. 31/07/78; Thüringen, Sachsen-Anhalt; 1,453 ha; 51°26'N 011°00'E. Special Protection Area EC Directive; Landscape Protection Areas, Nature Protection Area, Protected Area for Waterfowl. Located in the Helme River floodplain, the site consists of a flood protection reservoir, associated reedbeds and frequently flooded wet meadows. The area includes saline springs and salt meadows surrounded by pasture and agricultural fields. The site is internationally important for wintering and staging several species of waterbirds. A few species of birds breed at the site and use the area for roosting. Human activities include intensive fish-farming, recreation and nature education. A bird observatory is located at the site. Ramsar site no. 176. Most recent RIS information: 2001.\",\n",
       "  'ramsar_id': 176},\n",
       " {'name': 'Steinhuder Meer',\n",
       "  'distance_km': 214.35,\n",
       "  'description': \"Steinhuder Meer. 26/02/76; Niedersachsen; 5,730 ha; 52°28'N 009°20'E. Special Protection Area EC Directive, Nature Reserves. The largest inland lake in northern Germany, including remnants of raised bog and moorland. Situated in a glacial meltwater channel, the lake is thought to be fed by springs in its bed. Fringing vegetation consists of a broad reed belt. The site is internationally important for staging and wintering waterbirds, and is used by small numbers of various species of breeding birds. Human activities include peat extraction, water sports, and holiday home construction. Ramsar site no. 87.\",\n",
       "  'ramsar_id': 87},\n",
       " {'name': 'Weser barrage',\n",
       "  'distance_km': 229.98,\n",
       "  'description': 'The Site extends along the River Weser from the Weser Barrage in the north to Windheim in the south west. It includes the riverbed and a floodplain area as well as adjacent farm land. The Site is one of the most important staging and wintering sites in the federal state of North Rhine-Westphalia for waterbirds such as whooper swan (Cygnus cygnus), greater white-fronted goose (Anser albifrons) and common goldeneye (Bucephala clangula). There have been changes in the farming of the land, with increased cultivation of maize and a general increase in farming intensity. Significant disturbance is also caused by recreational activities, hunting, fishing and military training, and intense shipping on the River Weser. The management plan that is being implemented includes some restoration measures.',\n",
       "  'ramsar_id': 278},\n",
       " {'name': 'Diepholzer Moorniederung',\n",
       "  'distance_km': 262.12,\n",
       "  'description': \"Diepholzer Moorniederung. 26/02/76; Niedersachsen; 15,060 ha; 52°34'N 008°48'E. Special Protection Area EC Directive, Nature Reserves. A region of moor and peat bog on glacial sands. The raised bog areas are important for breeding and staging waterbirds. Human activities include peat extraction and drainage. Water-level management is being practiced to restore the natural raised bogs, and sheep grazing to aid the conservation of the moorlands. Ramsar site no. 86.\",\n",
       "  'ramsar_id': 86},\n",
       " {'name': 'Dümmer',\n",
       "  'distance_km': 288.5,\n",
       "  'description': \"Dümmer. 26/02/76; Niedersachsen; 3,600 ha; 52°32'N 008°23'E. Special Protection Area EC Directive, Nature Reserve. A large lake in a glaciated valley, associated wetlands include peatbogs, inland dunes, dense reedbeds and sedge meadows. An internationally important area for breeding, passage and wintering waterbirds. Human activities have included drainage and cultivation of the peatlands. Currently the lake is used as a reservoir and experiences boat traffic, intensive fishing, and holiday home construction. Restoration measures consist of sediment removal, re-establishment of temporary flooding, and fishing and hunting restrictions. Ramsar site no. 85.\",\n",
       "  'ramsar_id': 85}]"
      ]
     },
     "metadata": {},
     "output_type": "display_data"
    },
    {
     "name": "stdout",
     "output_type": "stream",
     "text": [
      "GlobalWitness\n"
     ]
    },
    {
     "data": {
      "text/plain": [
       "{'total_incidents': 0, 'years': [], 'countries': ['Germany']}"
      ]
     },
     "metadata": {},
     "output_type": "display_data"
    }
   ],
   "source": [
    "from environmental_risk_metrics import (\n",
    "    Sentinel2,\n",
    "    EsaLandCover,\n",
    "    EsriLandCover,\n",
    "    OpenLandMapLandCover,\n",
    "    SoilOrganicCarbon,\n",
    "    SoilTypes,\n",
    "    EndangeredSpecies,\n",
    "    RamsarProtectedAreas,\n",
    "    GlobalWitness,\n",
    ")\n",
    "import logging\n",
    "\n",
    "# Configure logging to display in Jupyter\n",
    "logging.basicConfig(\n",
    "    level=logging.INFO,\n",
    "    format=\"%(asctime)s - %(name)s - %(levelname)s - %(message)s\",\n",
    "    force=True,  # This ensures the configuration is applied even if logging was previously configured\n",
    ")\n",
    "logger = logging.getLogger(__name__)\n",
    "\n",
    "\n",
    "polygon = {\n",
    "    \"type\": \"Feature\",\n",
    "    \"properties\": {},\n",
    "    \"geometry\": {\n",
    "        \"coordinates\": [\n",
    "            [\n",
    "                [10.235198982658801, 51.42076009745068],\n",
    "                [10.236477278753114, 51.41697045550828],\n",
    "                [10.244461712820623, 51.41823370440062],\n",
    "                [10.242888425319222, 51.4220355049745],\n",
    "                [10.235198982658801, 51.42076009745068],\n",
    "            ]\n",
    "        ],\n",
    "        \"type\": \"Polygon\",\n",
    "    },\n",
    "}\n",
    "\n",
    "start_date = \"2020-05-01\"\n",
    "end_date = \"2024-08-31\"\n",
    "\n",
    "polygon_crs = \"EPSG:4326\"\n",
    "\n",
    "\n",
    "for metric in [\n",
    "    Sentinel2,\n",
    "    EsaLandCover,\n",
    "    EsriLandCover,\n",
    "    OpenLandMapLandCover,\n",
    "    SoilOrganicCarbon,\n",
    "    SoilTypes,\n",
    "    EndangeredSpecies,\n",
    "    RamsarProtectedAreas,\n",
    "    GlobalWitness,\n",
    "]:\n",
    "    \n",
    "    print(metric.__name__)\n",
    "    metric_instance = metric()\n",
    "    display(\n",
    "        metric_instance.get_data(\n",
    "            polygon=polygon,\n",
    "            start_date=start_date,\n",
    "            end_date=end_date,\n",
    "            polygon_crs=polygon_crs,\n",
    "        )\n",
    "    )\n"
   ]
  },
  {
   "cell_type": "code",
   "execution_count": null,
   "metadata": {},
   "outputs": [],
   "source": []
  }
 ],
 "metadata": {
  "kernelspec": {
   "display_name": ".venv",
   "language": "python",
   "name": "python3"
  },
  "language_info": {
   "codemirror_mode": {
    "name": "ipython",
    "version": 3
   },
   "file_extension": ".py",
   "mimetype": "text/x-python",
   "name": "python",
   "nbconvert_exporter": "python",
   "pygments_lexer": "ipython3",
   "version": "3.12.6"
  }
 },
 "nbformat": 4,
 "nbformat_minor": 2
}

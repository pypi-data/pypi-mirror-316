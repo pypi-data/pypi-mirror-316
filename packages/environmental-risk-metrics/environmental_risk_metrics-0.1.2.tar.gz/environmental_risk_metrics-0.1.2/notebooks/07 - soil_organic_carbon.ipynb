{
 "cells": [
  {
   "cell_type": "code",
   "execution_count": 2,
   "metadata": {},
   "outputs": [
    {
     "data": {
      "text/plain": [
       "{'0cm': 2.5,\n",
       " '10cm': 2.8,\n",
       " '30cm': 0.97,\n",
       " '60cm': 0.43,\n",
       " '100cm': 0.23,\n",
       " '200cm': 0.03}"
      ]
     },
     "execution_count": 2,
     "metadata": {},
     "output_type": "execute_result"
    }
   ],
   "source": [
    "from environmental_risk_metrics import SoilOrganicCarbon\n",
    "import logging\n",
    "from environmental_risk_metrics import Sentinel2\n",
    "from IPython.display import Image\n",
    "\n",
    "# Configure logging to display in Jupyter\n",
    "logging.basicConfig(\n",
    "    level=logging.INFO,\n",
    "    format=\"%(asctime)s - %(name)s - %(levelname)s - %(message)s\",\n",
    "    force=True,  # This ensures the configuration is applied even if logging was previously configured\n",
    ")\n",
    "logger = logging.getLogger(__name__)\n",
    "\n",
    "\n",
    "sentinel2 = Sentinel2()\n",
    "\n",
    "polygon = {\n",
    "    \"type\": \"Feature\",\n",
    "    \"properties\": {},\n",
    "    \"geometry\": {\n",
    "        \"coordinates\": [\n",
    "            [\n",
    "                [10.235198982658801, 51.42076009745068],\n",
    "                [10.236477278753114, 51.41697045550828],\n",
    "                [10.244461712820623, 51.41823370440062],\n",
    "                [10.242888425319222, 51.4220355049745],\n",
    "                [10.235198982658801, 51.42076009745068],\n",
    "            ]\n",
    "        ],\n",
    "        \"type\": \"Polygon\",\n",
    "    },\n",
    "}\n",
    "\n",
    "\n",
    "soil_organic_carbon = SoilOrganicCarbon()\n",
    "\n",
    "soil_organic_carbon.get_carbon_stats(polygon)"
   ]
  }
 ],
 "metadata": {
  "kernelspec": {
   "display_name": ".venv",
   "language": "python",
   "name": "python3"
  },
  "language_info": {
   "codemirror_mode": {
    "name": "ipython",
    "version": 3
   },
   "file_extension": ".py",
   "mimetype": "text/x-python",
   "name": "python",
   "nbconvert_exporter": "python",
   "pygments_lexer": "ipython3",
   "version": "3.12.6"
  }
 },
 "nbformat": 4,
 "nbformat_minor": 2
}

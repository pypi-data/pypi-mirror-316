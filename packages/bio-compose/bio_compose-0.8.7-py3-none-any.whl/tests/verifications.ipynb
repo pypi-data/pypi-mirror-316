{
 "cells": [
  {
   "cell_type": "code",
   "execution_count": 1,
   "id": "0a78669c-c9ef-42d9-9e17-4398d226acf7",
   "metadata": {},
   "outputs": [],
   "source": [
    "import os\n",
    "\n",
    "if not os.path.exists('../model_files'):\n",
    "    os.mkdir('../model_files')"
   ]
  },
  {
   "cell_type": "code",
   "execution_count": 5,
   "id": "18b6d1b1-1644-4c79-a873-d71d73f63494",
   "metadata": {},
   "outputs": [],
   "source": [
    "import sys\n",
    "\n",
    "sys.path.insert(0, '../..')"
   ]
  },
  {
   "cell_type": "code",
   "execution_count": 3,
   "id": "5e4d55fd-0428-4c47-b8ea-ccb0b09bcd17",
   "metadata": {},
   "outputs": [],
   "source": [
    "import bio_compose as bc"
   ]
  },
  {
   "cell_type": "code",
   "execution_count": 6,
   "id": "e0494061-96dd-46d5-85d9-b06a46c30b54",
   "metadata": {},
   "outputs": [
    {
     "name": "stdout",
     "output_type": "stream",
     "text": [
      "File downloaded successfully and saved as ./model_files/BIOMD0000000013.xml\n",
      "File downloaded successfully and saved as ./model_files/BIOMD0000000019.xml\n",
      "File downloaded successfully and saved as ./model_files/BIOMD0000000043.xml\n",
      "File downloaded successfully and saved as ./model_files/BIOMD0000000044.xml\n",
      "File downloaded successfully and saved as ./model_files/BIOMD0000000070.xml\n",
      "File downloaded successfully and saved as ./model_files/BIOMD0000000117.xml\n",
      "File downloaded successfully and saved as ./model_files/BIOMD0000000211.xml\n",
      "File downloaded successfully and saved as ./model_files/BIOMD0000000391.xml\n",
      "File downloaded successfully and saved as ./model_files/BIOMD0000000399.xml\n",
      "File downloaded successfully and saved as ./model_files/BIOMD0000000633.xml\n",
      "File downloaded successfully and saved as ./model_files/BIOMD0000000661.xml\n",
      "File downloaded successfully and saved as ./model_files/BIOMD0000000691.xml\n",
      "File downloaded successfully and saved as ./model_files/BIOMD0000000728.xml\n",
      "File downloaded successfully and saved as ./model_files/BIOMD0000000751.xml\n",
      "File downloaded successfully and saved as ./model_files/BIOMD0000000831.xml\n",
      "File downloaded successfully and saved as ./model_files/BIOMD0000000844.xml\n",
      "File downloaded successfully and saved as ./model_files/BIOMD0000000845.xml\n",
      "File downloaded successfully and saved as ./model_files/BIOMD0000000893.xml\n",
      "File downloaded successfully and saved as ./model_files/BIOMD0000000900.xml\n",
      "File downloaded successfully and saved as ./model_files/BIOMD0000000912.xml\n",
      "File downloaded successfully and saved as ./model_files/BIOMD0000001024.xml\n"
     ]
    }
   ],
   "source": [
    "model_ids = [\n",
    "    'BIOMD0000000013',\n",
    "    'BIOMD0000000019',\n",
    "    'BIOMD0000000043',\n",
    "    'BIOMD0000000044',\n",
    "    'BIOMD0000000070',\n",
    "    'BIOMD0000000117',\n",
    "    'BIOMD0000000211',\n",
    "    'BIOMD0000000391',\n",
    "    'BIOMD0000000399',\n",
    "    'BIOMD0000000633',\n",
    "    'BIOMD0000000661',\n",
    "    'BIOMD0000000691',\n",
    "    'BIOMD0000000728',\n",
    "    'BIOMD0000000751',\n",
    "    'BIOMD0000000831',\n",
    "    'BIOMD0000000844',\n",
    "    'BIOMD0000000845',\n",
    "    'BIOMD0000000893',\n",
    "    'BIOMD0000000900',\n",
    "    'BIOMD0000000912',\n",
    "    'BIOMD0000001024'\n",
    "]\n",
    "\n",
    "filepaths = [bc.get_biomodel_file(model_id, '../model_files') for model_id in model_ids]"
   ]
  },
  {
   "cell_type": "code",
   "execution_count": 7,
   "id": "dd0ed571-56b2-4d16-95ac-7a40ac2b5e78",
   "metadata": {},
   "outputs": [
    {
     "data": {
      "text/plain": [
       "'0.8.6'"
      ]
     },
     "execution_count": 7,
     "metadata": {},
     "output_type": "execute_result"
    }
   ],
   "source": [
    "bc.__version__"
   ]
  },
  {
   "cell_type": "code",
   "execution_count": null,
   "id": "a0eff3d1-c20e-4de7-bc52-216a5e2532a4",
   "metadata": {},
   "outputs": [],
   "source": []
  }
 ],
 "metadata": {
  "kernelspec": {
   "display_name": "Python 3 (ipykernel)",
   "language": "python",
   "name": "python3"
  },
  "language_info": {
   "codemirror_mode": {
    "name": "ipython",
    "version": 3
   },
   "file_extension": ".py",
   "mimetype": "text/x-python",
   "name": "python",
   "nbconvert_exporter": "python",
   "pygments_lexer": "ipython3",
   "version": "3.10.15"
  }
 },
 "nbformat": 4,
 "nbformat_minor": 5
}

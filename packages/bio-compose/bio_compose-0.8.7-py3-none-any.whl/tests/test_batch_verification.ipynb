{
 "cells": [
  {
   "cell_type": "code",
   "execution_count": 1,
   "id": "fd998f97-0c08-4071-b339-92d3a769d696",
   "metadata": {},
   "outputs": [
    {
     "ename": "SyntaxError",
     "evalue": "closing parenthesis ')' does not match opening parenthesis '[' (__init__.py, line 136)",
     "output_type": "error",
     "traceback": [
      "Traceback \u001b[0;36m(most recent call last)\u001b[0m:\n",
      "\u001b[0m  File \u001b[1;32m~/Library/Caches/pypoetry/virtualenvs/bio-compose-DFUqqbT8-py3.10/lib/python3.10/site-packages/IPython/core/interactiveshell.py:3577\u001b[0m in \u001b[1;35mrun_code\u001b[0m\n    exec(code_obj, self.user_global_ns, self.user_ns)\u001b[0m\n",
      "\u001b[0;36m  Cell \u001b[0;32mIn[1], line 2\u001b[0;36m\n\u001b[0;31m    from bio_compose import verify\u001b[0;36m\n",
      "\u001b[0;36m  File \u001b[0;32m~/Desktop/repos/bio-compose/bio_compose/__init__.py:136\u001b[0;36m\u001b[0m\n\u001b[0;31m    complete = \" \".join([\"=\" for ) in range(buffer_time * 3)])\u001b[0m\n\u001b[0m                                 ^\u001b[0m\n\u001b[0;31mSyntaxError\u001b[0m\u001b[0;31m:\u001b[0m closing parenthesis ')' does not match opening parenthesis '['\n"
     ]
    }
   ],
   "source": [
    "import os\n",
    "from bio_compose import verify\n",
    "from time import sleep\n",
    "\n",
    "FIXTURES_DIR = './fixtures'\n",
    "SBML_FIXTURES_DIR = os.path.join(FIXTURES_DIR, 'sbml-core')\n",
    "VERIFICATION_TEST_FILES = [\n",
    "    os.path.join(SBML_FIXTURES_DIR, f) for f in os.listdir(SBML_FIXTURES_DIR) \\\n",
    "        if f.startswith('BIO') and f.endswith('.omex') or f.endswith('.xml')\n",
    "]\n",
    "\n",
    "print(VERIFICATION_TEST_FILES)\n",
    "\n",
    "def test_batch_verification():\n",
    "    # model io parameters\n",
    "    fp = '/content/BIOMD0000000005.omex'\n",
    "    fp2 = '/content/BIOMD0000000001_url.xml'\n",
    "    fp3 = '/content/BIOMD0000000010.omex'\n",
    "\n",
    "    simulators = verifier.get_compatible(file=fp, versions=False)\n",
    "\n",
    "    # \"time\" parameters\n",
    "    start_time = 0  # 'start'\n",
    "    end_time = 100  # 'end'\n",
    "    n_steps = 1000  # 'steps'\n",
    "\n",
    "    # comparison parameters\n",
    "    rtol = None  # if this parameter is omitted from the submission, its default value is 1e-4\n",
    "    atol = 1e-08  # here we are using the defaults used by np.allclose as an example of custom tolerances. Otherwise, max(1e-3, max1 * 1e-5, max2 * 1e-5) where max1 is the max() of the given piecewise arrays.\n",
    "\n",
    "    verifications = []\n",
    "    while True:\n",
    "        verification = verify(fp)\n",
    "        verifications.append(verification)\n",
    "        sleep(10)\n",
    "        verification2 = verify(fp2, start_time, end_time, n_steps)\n",
    "        verifications.append(verification2)\n",
    "        sleep(10)\n",
    "        verification3 = verify(fp)\n",
    "        verifications.append(verification3)\n",
    "        break \n",
    "    \n",
    "    return verifications"
   ]
  },
  {
   "cell_type": "code",
   "execution_count": 80,
   "id": "f06b5476-447c-44e0-b7eb-2e7b30108f9a",
   "metadata": {},
   "outputs": [
    {
     "name": "stdout",
     "output_type": "stream",
     "text": [
      "Submitting verification =====> Pending!\n",
      "                        =====> InProgress!\n",
      "                        =====> Pending!\n",
      "                        =====> InProgress!\n",
      "                        =====> Pending!\n"
     ]
    }
   ],
   "source": [
    "def iterate(status, iteration=0):\n",
    "    words = \"Submitting verification \"\n",
    "    first = None\n",
    "    msg = ''\n",
    "    for _ in range(buffer_time):\n",
    "        msg += '='\n",
    "        if iteration == 0:\n",
    "            first = words\n",
    "        else:\n",
    "            first = \"\".join([\" \" for _ in words])\n",
    "        print(first + msg + \">\", end='\\r')\n",
    "        time.sleep(0.30)\n",
    "\n",
    "    complete =  first + \"\".join([\"=\" for _ in range(buffer_time)]) + \">\"\n",
    "    print(complete + f\" {status}!\")\n",
    "\n",
    "for n in range(5):\n",
    "    if n % 2 == 0:\n",
    "        status = \"Pending\"\n",
    "    else:\n",
    "        status = \"InProgress\"\n",
    "\n",
    "    iterate(status, n)"
   ]
  },
  {
   "cell_type": "code",
   "execution_count": 72,
   "id": "a21751d3-2aca-4799-acd9-8bae6c0d80f3",
   "metadata": {},
   "outputs": [
    {
     "data": {
      "text/plain": [
       "'                       '"
      ]
     },
     "execution_count": 72,
     "metadata": {},
     "output_type": "execute_result"
    }
   ],
   "source": [
    "\"\".join([\" \" for _ in \"Submitting verification\"])"
   ]
  },
  {
   "cell_type": "code",
   "execution_count": 61,
   "id": "a16e680e-b61d-4619-85d8-6efc8d98587d",
   "metadata": {},
   "outputs": [
    {
     "name": "stdout",
     "output_type": "stream",
     "text": [
      "Submitting verification ===============>\n"
     ]
    }
   ],
   "source": [
    "msg = ''\n",
    "content = \"Loading\"\n",
    "import time\n",
    "buffer_time = 5\n",
    "    \n",
    "for _ in range(buffer_time * 3):\n",
    "    status = (_)\n",
    "    msg += '='\n",
    "    print(\"Submitting verification \" + msg + \">\", end='\\r')\n",
    "    time.sleep(0.25)"
   ]
  },
  {
   "cell_type": "code",
   "execution_count": 33,
   "id": "5e5fccb6-6c9a-457d-bee9-00260ba7caf6",
   "metadata": {},
   "outputs": [
    {
     "name": "stdout",
     "output_type": "stream",
     "text": [
      "2\n"
     ]
    }
   ],
   "source": [
    "s = [1, 2, 3]\n",
    "for i, v in enumerate(s):\n",
    "    if i == len(s) - 1:\n",
    "        print(i)"
   ]
  },
  {
   "cell_type": "code",
   "execution_count": 41,
   "id": "482c2704-1da4-4a58-bb41-3da261df4a4d",
   "metadata": {},
   "outputs": [
    {
     "name": "stdout",
     "output_type": "stream",
     "text": [
      "...............\r"
     ]
    }
   ],
   "source": [
    "msg = ''\n",
    "for _ in range(buffer_time * 3):\n",
    "    msg += '.'\n",
    "    print(msg, end='\\r')\n",
    "    time.sleep(0.25)"
   ]
  },
  {
   "cell_type": "code",
   "execution_count": 1,
   "id": "8552275c-83f7-471a-9b68-66308cf6594f",
   "metadata": {},
   "outputs": [
    {
     "name": "stdout",
     "output_type": "stream",
     "text": [
      "Submitting verification =====> verification submitted!\n",
      "\n",
      "VERIFICATION JOB ID:\n",
      "verification-bio_check-request-b3ec86a8-e966-4753-b4fe-feabb7ff3a8b-7b32a798-01df-4567-9025-cdb5c41470bf\n",
      "\n",
      "> Status for job ending in 70bf: SUBMITTED:IN_PROGRESS ===============>|\n",
      "Verification complete!\n"
     ]
    }
   ],
   "source": [
    "from bio_compose import verify\n",
    "\n",
    "verification = verify('fixtures/sbml-core/BIOMD0000000005.omex')"
   ]
  },
  {
   "cell_type": "code",
   "execution_count": null,
   "id": "dcdcaeaa-4a69-4638-99b4-e0d82c2de6c1",
   "metadata": {},
   "outputs": [],
   "source": [
    "verification.observables()"
   ]
  },
  {
   "cell_type": "code",
   "execution_count": null,
   "id": "8e2a7da1-e456-4327-b597-b0f3f57565e9",
   "metadata": {},
   "outputs": [],
   "source": []
  }
 ],
 "metadata": {
  "kernelspec": {
   "display_name": "Python 3 (ipykernel)",
   "language": "python",
   "name": "python3"
  },
  "language_info": {
   "codemirror_mode": {
    "name": "ipython",
    "version": 3
   },
   "file_extension": ".py",
   "mimetype": "text/x-python",
   "name": "python",
   "nbconvert_exporter": "python",
   "pygments_lexer": "ipython3",
   "version": "3.10.14"
  }
 },
 "nbformat": 4,
 "nbformat_minor": 5
}

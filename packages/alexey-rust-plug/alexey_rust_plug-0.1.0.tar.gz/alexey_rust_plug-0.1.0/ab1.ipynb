{
 "cells": [
  {
   "cell_type": "code",
   "execution_count": 4,
   "metadata": {},
   "outputs": [
    {
     "name": "stdout",
     "output_type": "stream",
     "text": [
      "🍹 Building a mixed python/rust project\n",
      "🔗 Found pyo3 bindings with abi3 support for Python ≥ 3.8\n",
      "🐍 Not using a specific python interpreter\n",
      "\u001b[1m\u001b[32m   Compiling\u001b[0m my-plug v0.1.0 (/Users/alexey/Documents/rust/my_plug)\n",
      "\u001b[K\u001b[1m\u001b[32m    Finished\u001b[0m `release` profile [optimized] target(s) in 3.73s                 \n",
      "📦 Built wheel for abi3 Python ≥ 3.8 to /var/folders/9b/hjkml28s6vb2kpf882cw2n280000gn/T/.tmptV8fdU/alexey_rust_plug-0.1.0-cp38-abi3-macosx_11_0_arm64.whl\n",
      "✏️  Setting installed package as editable\n",
      "🛠 Installed alexey_rust_plug-0.1.0\n"
     ]
    }
   ],
   "source": [
    "!maturin develop --release"
   ]
  },
  {
   "cell_type": "code",
   "execution_count": 2,
   "metadata": {},
   "outputs": [
    {
     "name": "stdout",
     "output_type": "stream",
     "text": [
      "Package           Version     Editable project location\n",
      "----------------- ----------- ------------------------------------\n",
      "appnope           0.1.4\n",
      "asttokens         3.0.0\n",
      "comm              0.2.2\n",
      "debugpy           1.8.9\n",
      "decorator         5.1.1\n",
      "executing         2.1.0\n",
      "iniconfig         2.0.0\n",
      "ipykernel         6.29.5\n",
      "ipython           8.30.0\n",
      "jedi              0.19.2\n",
      "jupyter_client    8.6.3\n",
      "jupyter_core      5.7.2\n",
      "matplotlib-inline 0.1.7\n",
      "maturin           1.7.8\n",
      "my-plug           0.1.0       /Users/alexey/Documents/rust/my_plug\n",
      "mypy              1.13.0\n",
      "mypy-extensions   1.0.0\n",
      "nest-asyncio      1.6.0\n",
      "packaging         24.2\n",
      "parso             0.8.4\n",
      "pexpect           4.9.0\n",
      "pip               24.3.1\n",
      "platformdirs      4.3.6\n",
      "pluggy            1.5.0\n",
      "polars            1.16.0\n",
      "prompt_toolkit    3.0.48\n",
      "psutil            6.1.0\n",
      "ptyprocess        0.7.0\n",
      "pure_eval         0.2.3\n",
      "Pygments          2.18.0\n",
      "pytest            8.3.4\n",
      "python-dateutil   2.9.0.post0\n",
      "pyzmq             26.2.0\n",
      "ruff              0.8.2\n",
      "six               1.17.0\n",
      "stack-data        0.6.3\n",
      "tornado           6.4.2\n",
      "traitlets         5.14.3\n",
      "typing_extensions 4.12.2\n",
      "wcwidth           0.2.13\n",
      "Note: you may need to restart the kernel to use updated packages.\n"
     ]
    }
   ],
   "source": [
    "pip list"
   ]
  },
  {
   "cell_type": "code",
   "execution_count": null,
   "metadata": {},
   "outputs": [],
   "source": []
  },
  {
   "cell_type": "code",
   "execution_count": null,
   "metadata": {},
   "outputs": [],
   "source": []
  },
  {
   "cell_type": "code",
   "execution_count": null,
   "metadata": {},
   "outputs": [],
   "source": []
  },
  {
   "cell_type": "code",
   "execution_count": null,
   "metadata": {},
   "outputs": [],
   "source": []
  },
  {
   "cell_type": "code",
   "execution_count": null,
   "metadata": {},
   "outputs": [],
   "source": []
  },
  {
   "cell_type": "code",
   "execution_count": null,
   "metadata": {},
   "outputs": [],
   "source": []
  },
  {
   "cell_type": "code",
   "execution_count": null,
   "metadata": {},
   "outputs": [],
   "source": [
    "Cargo.toml\n",
    "polars = { version = \"0.44.2\", default-features = false }\n",
    "polars = { version = \"0.44.2\", features = [\"dtype-i16\", \"dtype-i8\", \"dtype-u8\", \"dtype-u16\"] }\n",
    "\n",
    "cargo clean"
   ]
  }
 ],
 "metadata": {
  "kernelspec": {
   "display_name": ".venv",
   "language": "python",
   "name": "python3"
  },
  "language_info": {
   "codemirror_mode": {
    "name": "ipython",
    "version": 3
   },
   "file_extension": ".py",
   "mimetype": "text/x-python",
   "name": "python",
   "nbconvert_exporter": "python",
   "pygments_lexer": "ipython3",
   "version": "3.12.6"
  }
 },
 "nbformat": 4,
 "nbformat_minor": 2
}
